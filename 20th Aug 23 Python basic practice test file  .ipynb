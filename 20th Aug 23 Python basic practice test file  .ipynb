{
 "cells": [
  {
   "cell_type": "markdown",
   "id": "2c61f7c3-9a56-43ab-902d-8d028bf71395",
   "metadata": {},
   "source": [
    "## Topic"
   ]
  },
  {
   "cell_type": "markdown",
   "id": "86ca5a7a-e6a7-46b7-a722-0af92ab84cd4",
   "metadata": {},
   "source": [
    "### **String Based Assignment Problem:**"
   ]
  },
  {
   "cell_type": "markdown",
   "id": "9a9bf0d7-0045-43a1-ae69-340d57432826",
   "metadata": {},
   "source": [
    "---\n",
    "---"
   ]
  },
  {
   "cell_type": "markdown",
   "id": "4afe624f-533f-4a92-bd70-02bea549f735",
   "metadata": {},
   "source": [
    "## 1. String Based Questions."
   ]
  },
  {
   "cell_type": "markdown",
   "id": "2c4f3a35-8425-4c6a-9252-2d171cf51db8",
   "metadata": {},
   "source": [
    "## 1. Write a program to reverse a string."
   ]
  },
  {
   "cell_type": "markdown",
   "id": "2f4429ae-341c-4131-9039-619e786af58a",
   "metadata": {},
   "source": [
    "- define the function:we define a function called slicing and reverse that take as input string as its parameter.this function is responsible for reversing the string . "
   ]
  },
  {
   "cell_type": "code",
   "execution_count": 13,
   "id": "5b17644a-89e9-4b1e-b433-9248c8624641",
   "metadata": {},
   "outputs": [
    {
     "data": {
      "text/plain": [
       "'slliks wp'"
      ]
     },
     "execution_count": 13,
     "metadata": {},
     "output_type": "execute_result"
    }
   ],
   "source": [
    "input_str= \"pw skills\"\n",
    "input_str[::-1]"
   ]
  },
  {
   "cell_type": "markdown",
   "id": "65abba6d-1f59-41ea-aa6e-9906e7190006",
   "metadata": {
    "tags": []
   },
   "source": [
    "## 2. Check if a string is a palindrome."
   ]
  },
  {
   "cell_type": "code",
   "execution_count": 14,
   "id": "e1d86de7-f3c5-448d-abb2-fd89abec628f",
   "metadata": {},
   "outputs": [],
   "source": [
    "def is_palindrome(s):\n",
    "    # Convert the string to lowercase to ensure case-insensitive comparison\n",
    "    s = s.lower()\n",
    "\n",
    "    # Remove spaces and punctuation from the string\n",
    "    s = ''.join(e for e in s if e.isalnum())\n",
    "\n",
    "    # Compare the original string with its reverse\n",
    "    return s == s[::-1]"
   ]
  },
  {
   "cell_type": "code",
   "execution_count": 15,
   "id": "2bedada6-95ff-4480-b2f4-3464634fb5c1",
   "metadata": {},
   "outputs": [
    {
     "name": "stdout",
     "output_type": "stream",
     "text": [
      "True\n",
      "False\n",
      "True\n"
     ]
    }
   ],
   "source": [
    "print(is_palindrome(\"racecar\"))\n",
    "print(is_palindrome(\"hello\"))\n",
    "print(is_palindrome(\"A man, a plan, a canal, Panama\"))"
   ]
  },
  {
   "cell_type": "markdown",
   "id": "45eecf19-be14-4831-ab78-73011c9ed82a",
   "metadata": {},
   "source": [
    "- `def is_palindrome(s)`:\n",
    "This line defines a function named is_palindrome that takes a single argument s, which is the input string we want to check for palindrome.\n",
    "- `s = s.lower()`:  This line converts the input string to lowercase using the .lower() method. This step is taken to make the palindrome check case-insensitive, so that uppercase and lowercase letters are treated the same way.\n",
    "- `s = ''.join(e for e in s if e.isalnum())`:  This line removes any non-alphanumeric characters (like spaces, punctuation, etc.) from the string. It uses a list comprehension and the .join() method to create a new string containing only alphanumeric characters.\n",
    "- `return s == s[::-1]`:  This line compares the modified string (s) with its reverse (s[::-1]) using the equality operator (==). If the string and its reverse are the same, it means the input string is a palindrome, and the function will return True. Otherwise, it will return False.\n",
    "\n",
    "To use this function, you can simply call it with a string as an argument. For example:"
   ]
  },
  {
   "cell_type": "markdown",
   "id": "efa6ef16-6e7c-4186-b24f-a803d76f40a6",
   "metadata": {},
   "source": [
    "## 3. Convert a string to uppercase."
   ]
  },
  {
   "cell_type": "code",
   "execution_count": 28,
   "id": "d9091be0-b216-40b5-a208-1a015c223853",
   "metadata": {},
   "outputs": [],
   "source": [
    "input_string = \"pwskills \""
   ]
  },
  {
   "cell_type": "code",
   "execution_count": 29,
   "id": "700dcca9-663e-48eb-b03d-28b2e9da5984",
   "metadata": {},
   "outputs": [
    {
     "data": {
      "text/plain": [
       "'PWSKILLS '"
      ]
     },
     "execution_count": 29,
     "metadata": {},
     "output_type": "execute_result"
    }
   ],
   "source": [
    "input_string.upper()"
   ]
  },
  {
   "cell_type": "code",
   "execution_count": 146,
   "id": "415f3291-2f3c-46ca-baa4-6a14c4ebea20",
   "metadata": {},
   "outputs": [],
   "source": [
    "## step 1st - user input as a string .\n",
    "\n",
    "## step 2nd - convert string into upper case ."
   ]
  },
  {
   "cell_type": "markdown",
   "id": "32ae6668-e126-4f9d-bb92-aa33662baa32",
   "metadata": {},
   "source": [
    "## 4. Convert a string to lowercase."
   ]
  },
  {
   "cell_type": "code",
   "execution_count": 1,
   "id": "1d91c310-a245-4c2f-ac7c-5c798eb22d46",
   "metadata": {},
   "outputs": [
    {
     "data": {
      "text/plain": [
       "'pwskills'"
      ]
     },
     "execution_count": 1,
     "metadata": {},
     "output_type": "execute_result"
    }
   ],
   "source": [
    "input_string = \"PWSKILLS\"\n",
    "input_string.lower()"
   ]
  },
  {
   "cell_type": "code",
   "execution_count": 3,
   "id": "23506fdb-0d68-4ac2-9872-93ef0b8d0fb5",
   "metadata": {},
   "outputs": [],
   "source": [
    "a=\"   pwskills    \""
   ]
  },
  {
   "cell_type": "code",
   "execution_count": 145,
   "id": "17783a7f-323d-44b6-8e4c-f1577c7e4b22",
   "metadata": {},
   "outputs": [],
   "source": [
    "# step 1- take input_string as a string.\n",
    "\n",
    "# step 2- call input_string.lower to conver string into lower case .\n",
    "\n",
    "# step 3- result string convert into a lower case ."
   ]
  },
  {
   "cell_type": "markdown",
   "id": "1fec2c52-8f01-49c4-8c65-972cc7a3087b",
   "metadata": {},
   "source": [
    "## 5. Count the number of vowels in a string."
   ]
  },
  {
   "cell_type": "code",
   "execution_count": 11,
   "id": "830a062e-b498-4053-9819-de19b6da4c64",
   "metadata": {},
   "outputs": [
    {
     "name": "stdout",
     "output_type": "stream",
     "text": [
      "number of vowels: 13\n"
     ]
    }
   ],
   "source": [
    "def count_vowels(string):\n",
    "    vowel_count=0\n",
    "    string=string.lower()\n",
    "    vowels=set(\"aeious\")\n",
    "    for char in string :\n",
    "        if char in vowels :\n",
    "            vowel_count +=1\n",
    "    return vowel_count\n",
    "input_string = \"This is my second assignement \"\n",
    "result =count_vowels(input_string)\n",
    "print(\"number of vowels:\",result)"
   ]
  },
  {
   "cell_type": "code",
   "execution_count": 144,
   "id": "973fe0c5-3286-4f03-8eee-2150fd548298",
   "metadata": {},
   "outputs": [],
   "source": [
    "# step 1- create a variable to keep rack of the vowel count .\n",
    "\n",
    "#step 2- convert the string into lower case to handle both upper case and lower case .\n",
    "\n",
    "# step 3 - retur the final vowel count .\n"
   ]
  },
  {
   "cell_type": "markdown",
   "id": "fde9cce8-8957-4d07-8f97-b9bac7a94d9d",
   "metadata": {},
   "source": [
    "## 6. Count the number of consonants in a string."
   ]
  },
  {
   "cell_type": "code",
   "execution_count": 24,
   "id": "79c922e3-4935-4c40-abec-d2190d70630c",
   "metadata": {},
   "outputs": [
    {
     "name": "stdin",
     "output_type": "stream",
     "text": [
      "Enter a string:  this is my second assignment \n"
     ]
    },
    {
     "name": "stdout",
     "output_type": "stream",
     "text": [
      "Number of consonants: 17\n"
     ]
    }
   ],
   "source": [
    "def count_consonants(string):\n",
    "    consonant_count = 0\n",
    "    consonants = \"bcdfghjklmnpqrstvwxyzBCDFGHJKLMNPQRSTVWX\"\n",
    "    for char in string:\n",
    "        if char in consonants:\n",
    "            consonant_count += 1\n",
    "    return consonant_count\n",
    "input_string = input(\"Enter a string: \")\n",
    "result = count_consonants(input_string)\n",
    "print(\"Number of consonants:\", result)"
   ]
  },
  {
   "cell_type": "code",
   "execution_count": 143,
   "id": "6c028c1c-ecc3-4844-9bf8-590058e622b9",
   "metadata": {},
   "outputs": [],
   "source": [
    "## step 1- create the variable to keep trac of the count  consonants.\n",
    "\n",
    "## step 2- define a set of consonants characters.\n",
    "\n",
    "## step 3- iterate through each character in the input string .\n",
    "\n",
    "## step 4-return the final count of consonants \n",
    "\n",
    "## step 4- call the function and print the result .\n"
   ]
  },
  {
   "cell_type": "markdown",
   "id": "f9ca8421-ca21-4b6a-8fbb-f9430ac527f0",
   "metadata": {},
   "source": [
    "## 7. Remove all whitespaces from a string."
   ]
  },
  {
   "cell_type": "code",
   "execution_count": 28,
   "id": "4140e0bb-ab00-4595-acd4-71ec6b644955",
   "metadata": {},
   "outputs": [
    {
     "data": {
      "text/plain": [
       "'this is my second assignment'"
      ]
     },
     "execution_count": 28,
     "metadata": {},
     "output_type": "execute_result"
    }
   ],
   "source": [
    "input_str =\"      this is my second assignment    \"\n",
    "input_str.strip()"
   ]
  },
  {
   "cell_type": "code",
   "execution_count": 142,
   "id": "9331ebae-b46d-4dc1-aaf0-db493f9b919d",
   "metadata": {},
   "outputs": [],
   "source": [
    "## step 1-create a variable to keep trace of the whitespaces string .\n",
    "\n",
    "## step 2- call the strip function and get the result .\n",
    "\n",
    "## remove all sapces from the string left side and right side both"
   ]
  },
  {
   "cell_type": "markdown",
   "id": "0bd857b7-9ade-4bee-adf5-547b34a0b087",
   "metadata": {},
   "source": [
    "## 8. Find the length of a string without using the len() function."
   ]
  },
  {
   "cell_type": "code",
   "execution_count": 77,
   "id": "a3ccf765-47d9-4feb-baa8-f910fb785147",
   "metadata": {},
   "outputs": [
    {
     "name": "stdout",
     "output_type": "stream",
     "text": [
      "length of the string without using the len() function string 17\n"
     ]
    }
   ],
   "source": [
    "def find_length(string):\n",
    "    length=0\n",
    "    for i in string :\n",
    "        result=result+1\n",
    "print(\"length of the string without using the len() function string\",result)"
   ]
  },
  {
   "cell_type": "code",
   "execution_count": 78,
   "id": "4deb6fe4-6cac-450d-9a23-c7c67c8f0468",
   "metadata": {},
   "outputs": [],
   "source": [
    "## step 1-create the variable for to keep trace of the lenght .\n",
    "## step 2-iterate through in each character in the string .\n",
    "## print the final result , which represents length of the string ."
   ]
  },
  {
   "cell_type": "markdown",
   "id": "ae451bba-7f28-4313-8704-c1ff0d663b29",
   "metadata": {},
   "source": [
    "## 9. Check if a string contains a specific word."
   ]
  },
  {
   "cell_type": "code",
   "execution_count": 108,
   "id": "1d435eb3-1f45-4f2c-9cbe-e28ded2b814e",
   "metadata": {},
   "outputs": [
    {
     "name": "stdin",
     "output_type": "stream",
     "text": [
      "enter the string pwskills\n"
     ]
    },
    {
     "name": "stdout",
     "output_type": "stream",
     "text": [
      "does not contaion specific word\n"
     ]
    }
   ],
   "source": [
    "specific_word =\"second\"\n",
    "input_str=input(\"enter the string\")\n",
    "if \"second\" in input_str:\n",
    "    print(\"string contains specific word \")\n",
    "    \n",
    "else:\n",
    "        print(\"does not contaion specific word\")"
   ]
  },
  {
   "cell_type": "code",
   "execution_count": 109,
   "id": "0fc533a9-9175-48ee-ae69-359f0a58441f",
   "metadata": {},
   "outputs": [
    {
     "name": "stdin",
     "output_type": "stream",
     "text": [
      "enter the string this is second assingement\n"
     ]
    },
    {
     "name": "stdout",
     "output_type": "stream",
     "text": [
      "string contains specific word \n"
     ]
    }
   ],
   "source": [
    "specific_word =\"second\"\n",
    "input_str=input(\"enter the string\")\n",
    "if \"second\" in input_str:\n",
    "    print(\"string contains specific word \")\n",
    "    \n",
    "else:\n",
    "        print(\"does not contaion specific word\")\n",
    "    "
   ]
  },
  {
   "cell_type": "code",
   "execution_count": 106,
   "id": "2bbc9163-ca3b-4920-863c-0cdcfa87e1cf",
   "metadata": {},
   "outputs": [],
   "source": [
    "## step -1 create the input_str for trace the specific word is contains or not into a string which is given by the user \n",
    "## step -2 call the print function given me a specific result \n",
    "## step -3 both condition chek one by one."
   ]
  },
  {
   "cell_type": "markdown",
   "id": "a2f5a1f3-99f0-41db-ae01-22c3eec8263b",
   "metadata": {},
   "source": [
    "- `input_str = input(\"enter the string)`: this line promotes the user to input a string .\n",
    "- `if \"second \"in input_str`: this line promotes the user cheking for the specific word is contains or not .\n",
    "- `print(\"string contains specific word \")`: this line print \"string contains specific word \" if specific word is contain into the string which is given by the user \n",
    "- `else:\n",
    "     ` print(\"does not contaion specific word\")`:this line print \"does not contain specific word \" if specific word is  not contains then print this "
   ]
  },
  {
   "cell_type": "markdown",
   "id": "cf1508a3-0e74-4b40-8d1e-bc2a8bd3345f",
   "metadata": {},
   "source": [
    "## 10. Replace a word in a string with another word."
   ]
  },
  {
   "cell_type": "code",
   "execution_count": 125,
   "id": "cc84d39d-ad36-4eb6-8c1c-b3676f05376d",
   "metadata": {},
   "outputs": [
    {
     "name": "stdin",
     "output_type": "stream",
     "text": [
      "enter the string  Hello bacho\n",
      "inter the old word bacho\n",
      "enter the new word pwians\n"
     ]
    },
    {
     "name": "stdout",
     "output_type": "stream",
     "text": [
      "replaced_string Hello pwians\n"
     ]
    }
   ],
   "source": [
    "input_string = input(\"enter the string \")\n",
    "old_string = input(\"inter the old word\")\n",
    "new_string = input(\"enter the new word\")\n",
    "replaced_string = input_string.replace(old_string,new_string)\n",
    "print(\"replaced_string\",replaced_string )"
   ]
  },
  {
   "cell_type": "markdown",
   "id": "0d5886ca-d943-48b2-a4cb-5120c164cf4d",
   "metadata": {},
   "source": [
    "- `input_string = input(\"enter the string \")`: I starting from the user input which is given by the user and store user input variable into a input_string.\n",
    "- `old_string = input(\"inter the old word\")`:This line asked the user input as a old_string variable .\n",
    "- ` new_string = input(\"enter the new word\")`: This line asked user input as new_string variable.\n",
    "- ` replaced_string = input_string.replace(old_string,new_string)`: This line replaced the old_string by the new_string and store in the variable of replaced_string .\n",
    "- `print(\"replaced_string\",replaced_string )`: This line print the replaced fuction ."
   ]
  },
  {
   "cell_type": "markdown",
   "id": "3a1ef70f-a63d-4112-90c1-12800e23ad0b",
   "metadata": {},
   "source": [
    "## 11. Count the occurrences of a word in a string."
   ]
  },
  {
   "cell_type": "code",
   "execution_count": 129,
   "id": "728f3cc5-b1c6-410c-8e87-7d903b81dc15",
   "metadata": {},
   "outputs": [
    {
     "data": {
      "text/plain": [
       "1"
      ]
     },
     "execution_count": 129,
     "metadata": {},
     "output_type": "execute_result"
    }
   ],
   "source": [
    "input_str=\"this is a second assingement \"\n",
    "input_str.count(\"this\")"
   ]
  },
  {
   "cell_type": "markdown",
   "id": "411a2068-abc9-40f8-b013-03e278043f86",
   "metadata": {},
   "source": [
    "- ` step-1 create string ` - :\"this is a second assingement\" and store inside the input_str.\n",
    "- `step -2 call the input_str.count(\"this\")`: , this function shows a result 1 .\n"
   ]
  },
  {
   "cell_type": "markdown",
   "id": "bd60683d-62e0-4866-9f14-bbd24b58d249",
   "metadata": {},
   "source": [
    "## 12. Find the first occurrence of a word in a string."
   ]
  },
  {
   "cell_type": "code",
   "execution_count": 217,
   "id": "80b8b534-2a27-486d-aeae-0d75ea534ea3",
   "metadata": {},
   "outputs": [
    {
     "name": "stdout",
     "output_type": "stream",
     "text": [
      "Index of the first occurrence: 11\n"
     ]
    }
   ],
   "source": [
    "def find_first_occurrence(text, word):\n",
    "    # Step 1: Find the index of the first occurrence of the word in the text.\n",
    "    index = text.find(word)\n",
    "\n",
    "    # Step 2: Check if the index is -1, indicating that the word was not found.\n",
    "    if index == -1:\n",
    "        return None  # Return None if the word is not found.\n",
    "\n",
    "    # Step 3: Return the index of the first occurrence of the word.\n",
    "    return index\n",
    "\n",
    "# Example usage\n",
    "text = \"This is an example sentence. This sentence containsthe word example.\"\n",
    "word = \"example\"\n",
    "result = find_first_occurrence(text, word)\n",
    "print(\"Index of the first occurrence:\", result)"
   ]
  },
  {
   "cell_type": "markdown",
   "id": "6832ebda-2aea-4092-bccc-7f82251fa183",
   "metadata": {},
   "source": [
    "### 13. Find the last occurrence of a word in a string."
   ]
  },
  {
   "cell_type": "code",
   "execution_count": null,
   "id": "abfc88db-113f-440d-a01c-8643a31f9890",
   "metadata": {},
   "outputs": [],
   "source": []
  },
  {
   "cell_type": "markdown",
   "id": "c542b562-36f8-48dc-a622-baaee1d5d195",
   "metadata": {},
   "source": [
    "### 14. Split a string into a list of words."
   ]
  },
  {
   "cell_type": "code",
   "execution_count": 218,
   "id": "a5f653f8-160c-4f6c-adfc-8fcf4a71e01b",
   "metadata": {},
   "outputs": [],
   "source": [
    "s = \"this is my second python assingemnet \""
   ]
  },
  {
   "cell_type": "code",
   "execution_count": 219,
   "id": "2f9f856f-97e6-40d0-9219-6cbdd66a4ca8",
   "metadata": {},
   "outputs": [
    {
     "data": {
      "text/plain": [
       "['this', 'is', 'my', 'second', 'python', 'assingemnet']"
      ]
     },
     "execution_count": 219,
     "metadata": {},
     "output_type": "execute_result"
    }
   ],
   "source": [
    "s.split()"
   ]
  },
  {
   "cell_type": "markdown",
   "id": "bfcccf79-9a14-4681-b7e6-ef22b20d2256",
   "metadata": {},
   "source": [
    "- fist write a string and store into the variable of s  .\n",
    "- call function s.split() then split the string into a list of words  ."
   ]
  },
  {
   "cell_type": "markdown",
   "id": "f9ab2892-bc5c-4f93-9b0f-afc8b28189e4",
   "metadata": {},
   "source": [
    "### 15. Join a list of words into a string\n"
   ]
  },
  {
   "cell_type": "code",
   "execution_count": 28,
   "id": "e433e4d6-2ca1-4790-8d9b-f3bac94efada",
   "metadata": {},
   "outputs": [
    {
     "name": "stdout",
     "output_type": "stream",
     "text": [
      "join_string avneesh kumar\n"
     ]
    }
   ],
   "source": [
    "def join_string_to_list(L):\n",
    "    join_string = ' ' .join(L)\n",
    "    return join_string\n",
    "list_of_word = [\"avneesh\",\"kumar\"]\n",
    "join_text = join_string_to_list(list_of_word)\n",
    "print(\"join_string\",join_text)"
   ]
  },
  {
   "cell_type": "markdown",
   "id": "f0be220c-efb1-42c7-bb66-7c6841f2ef4a",
   "metadata": {},
   "source": [
    "- `def join_string_to_list(L):`: we Define a function called join_string_to_list(L)\n",
    "- `  join_string = ' ' .join(L)`: with the help of this function we join the list of words into a string that we want to join \n"
   ]
  },
  {
   "cell_type": "markdown",
   "id": "687eb88f-acb2-43f5-b035-156cfac85fb9",
   "metadata": {},
   "source": [
    "### 16. Convert a string where words are separated by spaces to one where words are separated by underscores."
   ]
  },
  {
   "cell_type": "code",
   "execution_count": 11,
   "id": "c1ca3bbc-6c3d-4cc8-9fe1-3d1c01fb49b8",
   "metadata": {},
   "outputs": [
    {
     "name": "stdout",
     "output_type": "stream",
     "text": [
      "converted string  _this_is_my_second_python_assingement_\n"
     ]
    }
   ],
   "source": [
    "def seprated_by_spaces(text):\n",
    "    ## use the replace function to replace spaces by the underscore\n",
    "    seprated_by_underscore = text.replace(\" \" ,\"_\")\n",
    "    ## we retuer the rplace function \n",
    "    return seprated_by_underscore\n",
    "## tern the text we want to replace spaces by the underscore \n",
    "text = \" this is my second python assingement \"\n",
    "converted_text = seprated_by_spaces(text)\n",
    "## call the print function \n",
    "print(\"converted string \",converted_text)"
   ]
  },
  {
   "cell_type": "markdown",
   "id": "fedaa91e-465d-4b49-a2e5-4565d93da4cb",
   "metadata": {},
   "source": [
    "- ` defining the function def seprated_by_spaces(text):`: we define a function called seprated_by_spaces that takes one parameter (text),(the input string that we want to convert ).\n",
    "- ` seprated_by_underscore = text.replace(\" \" ,\"_\")`: we use replace() method on the text string that we want to replace spaces by the underscore( _ ) . we pass the two arguments one is substring we want to replace by the one another argument that is underscore ( _ ) .\n",
    "- ` retuer the converted string(return seprated_by_underscore)`:after returning the seprated_by_underscor we returtn the string text (text = \" this is my second python assingement \") .\n",
    "- ` print(\"converted string \",converted_text)`: call the print function we found the respected answer .."
   ]
  },
  {
   "cell_type": "markdown",
   "id": "b8c2fb33-35e6-4012-88a7-0ea1b84a24f8",
   "metadata": {},
   "source": [
    "### 17. Check if a string starts with a specific word or phrase.\n",
    "\n",
    "\n",
    "\n",
    "this is not solved by me "
   ]
  },
  {
   "cell_type": "code",
   "execution_count": 42,
   "id": "ed7405d7-5cb8-4370-9175-0d5c493add91",
   "metadata": {},
   "outputs": [
    {
     "name": "stdout",
     "output_type": "stream",
     "text": [
      "The text starts with the prefix.\n"
     ]
    }
   ],
   "source": [
    "def starts_with(text, prefix):\n",
    "    # Step 1: Use the startswith() method to check if the text starts with the specified prefix.\n",
    "    is_start = text.startswith(prefix)\n",
    "\n",
    "    # Step 2: Return the result of the check.\n",
    "    return is_start\n",
    "\n",
    "# Example usage\n",
    "text = \"Hello, world!\"\n",
    "prefix = \"Hello\"\n",
    "result = starts_with(text, prefix)\n",
    "if result:\n",
    "    print(\"The text starts with the prefix.\")\n",
    "else:\n",
    "    print(\"The text does not start with the prefix.\")"
   ]
  },
  {
   "cell_type": "markdown",
   "id": "921e6191-f2d9-4447-b557-43077c9d32ca",
   "metadata": {},
   "source": [
    "- Defining the Function (def starts_with(text, prefix):):\n",
    "We define a function called starts_with that takes two parameters: text (the input string) and prefix (the word or phrase we want to check if the string starts with).\n",
    "- Using the startswith() Method (is_start = text.startswith(prefix)):\n",
    "We use the startswith() method on the text string to check if it starts with the specified prefix. The method returns True if the string starts with the prefix, and False otherwise.\n",
    "- Returning the Result of the Check (return is_start):\n",
    "We return the result of the startswith() check."
   ]
  },
  {
   "cell_type": "markdown",
   "id": "cea922fd-6012-40e3-9582-4ba3e412e6b7",
   "metadata": {},
   "source": [
    "### 18. Check if a string ends with a specific word or phrase.\n",
    "\n",
    "\n",
    "\n",
    "this is not solved by me "
   ]
  },
  {
   "cell_type": "code",
   "execution_count": 39,
   "id": "2e435fea-09bf-4f9d-a887-183b627a4041",
   "metadata": {},
   "outputs": [
    {
     "name": "stdout",
     "output_type": "stream",
     "text": [
      "The text ends with the suffix.\n"
     ]
    }
   ],
   "source": [
    "def ends_with(text, suffix):\n",
    "    # Step 1: Use the endswith() method to check if the text ends with the specified suffix.\n",
    "    is_end = text.endswith(suffix)\n",
    "\n",
    "    # Step 2: Return the result of the check.\n",
    "    return is_end\n",
    "\n",
    "# Example usage\n",
    "text = \"Hello, world!\"\n",
    "suffix = \"world!\"\n",
    "result = ends_with(text, suffix)\n",
    "if result:\n",
    "    print(\"The text ends with the suffix.\")\n",
    "else:\n",
    "    print(\"The text does not end with the suffix.\")"
   ]
  },
  {
   "cell_type": "markdown",
   "id": "433bf3a2-fe5d-44e8-b826-444a9410b68c",
   "metadata": {},
   "source": [
    "- Defining the Function (def ends_with(text, suffix):):\n",
    "We define a function called ends_with that takes two parameters: text (the input string) and suffix (the word or phrase we want to check if the string ends with).\n",
    "- Using the endswith() Method (is_end = text.endswith(suffix)):\n",
    "We use the endswith() method on the text string to check if it ends with the specified suffix. The method returns True if the string ends with the suffix, and False otherwise.\n",
    "- Returning the Result of the Check (return is_end):\n",
    "We return the result of the endswith() check."
   ]
  },
  {
   "cell_type": "markdown",
   "id": "aa7c8671-d7ec-4fe1-8b02-d047dd6d49e7",
   "metadata": {},
   "source": [
    "### 19. Convert a string to title case (e.g., \"hello world\" to \"Hello World\")."
   ]
  },
  {
   "cell_type": "code",
   "execution_count": 44,
   "id": "12b9e93a-31ff-4a7a-8f52-8a38a2f544da",
   "metadata": {},
   "outputs": [
    {
     "data": {
      "text/plain": [
       "'Hello World'"
      ]
     },
     "execution_count": 44,
     "metadata": {},
     "output_type": "execute_result"
    }
   ],
   "source": [
    "## 1st we create a string that we want to convert \n",
    "input_str = \"hello world\"\n",
    "## we call the title function for converting the string  \n",
    "input_str.title()"
   ]
  },
  {
   "cell_type": "markdown",
   "id": "a0fb0e79-884f-43b0-84cf-803a86cd0cf8",
   "metadata": {},
   "source": [
    "- `input_str = \"hello world\"`:we create input_string = \"hello world\" that we want to convert string to title .\n",
    "- `input_str.title()` : we call the input_str.title function  for converting the string into title."
   ]
  },
  {
   "cell_type": "markdown",
   "id": "4dc7b497-c6c0-47c4-92cd-98ebf83a39b5",
   "metadata": {},
   "source": [
    "### 20. Find the longest word in a string."
   ]
  },
  {
   "cell_type": "code",
   "execution_count": 61,
   "id": "fc208ea5-4057-4dd7-b97e-2a930443b848",
   "metadata": {},
   "outputs": [
    {
     "name": "stdout",
     "output_type": "stream",
     "text": [
      "Longest word: sentence\n"
     ]
    }
   ],
   "source": [
    "def find_longest_word(text):\n",
    "    # Step 1: Use the split() method to split the text into a list of words.\n",
    "    words = text.split()\n",
    "\n",
    "    # Step 2: Initialize variables to keep track of the longest word and its length.\n",
    "    longest_word = \"\"\n",
    "    max_length = 0\n",
    "\n",
    "    # Step 3: Iterate through the list of words.\n",
    "    for word in words:\n",
    "        # Check if the length of the current word is greater than the current max_length.\n",
    "        if len(word) > max_length:\n",
    "            max_length = len(word)\n",
    "            longest_word = word\n",
    "\n",
    "    # Step 4: Return the longest word.\n",
    "    return longest_word\n",
    "\n",
    "# Example usage\n",
    "text = \"This is an example sentence with some long words.\"\n",
    "longest_word = find_longest_word(text)\n",
    "print(\"Longest word:\", longest_word)"
   ]
  },
  {
   "cell_type": "markdown",
   "id": "f651729e-c7a8-41dc-b81c-a21131b63373",
   "metadata": {},
   "source": [
    "- Defining the Function (def find_longest_word(text):):\n",
    "We define a function called find_longest_word that takes one parameter: text (the input string from which we want to find the longest word).\n",
    "- Using the split() Method (words = text.split()):\n",
    "We use the split() method on the text string to split it into a list of words. This step allows us to process each word individually.\n",
    "- Initializing Variables (longest_word and max_length):\n",
    "We initialize two variables, longest_word to keep track of the longest word found, and max_length to keep track of the length of the longest word.\n",
    "- Iterating Through Words (for word in words:):\n",
    "We iterate through each word in the list of words.\n",
    "- Comparing Word Lengths and Updating (if len(word) > max_length:):\n",
    "For each word, we compare its length (len(word)) to the current max_length. If the length of the current word is greater than the current maximum length, we update max_length and set longest_word to the current word.\n",
    "- Returning the Longest Word (return longest_word):\n",
    "After iterating through all the words, we return the value stored in the longest_word variable, which will be the longest word found."
   ]
  },
  {
   "cell_type": "markdown",
   "id": "f26a7de8-0019-449a-aee5-e2cf7ac2513b",
   "metadata": {},
   "source": [
    "### 21. Find the shortest word in a string.    \n",
    "\n",
    "\n",
    "\n",
    "this is not solved by  me"
   ]
  },
  {
   "cell_type": "code",
   "execution_count": 66,
   "id": "59e24b22-b5d7-4b3c-99a8-890172098fbe",
   "metadata": {},
   "outputs": [
    {
     "name": "stdout",
     "output_type": "stream",
     "text": [
      "Shortest word: is\n"
     ]
    }
   ],
   "source": [
    "def find_shortest_word(text):\n",
    "    # Step 1: Use the split() method to split the text into a list of words.\n",
    "    words = text.split()\n",
    "\n",
    "    # Step 2: Initialize variables to keep track of the shortest word and its length.\n",
    "    shortest_word = None\n",
    "    min_length = float('inf')  # Initialize to a large value\n",
    "\n",
    "    # Step 3: Iterate through the list of words.\n",
    "    for word in words:\n",
    "        # Check if the length of the current word is smaller than the current min_length.\n",
    "        if len(word) < min_length:\n",
    "            min_length = len(word)\n",
    "            shortest_word = word\n",
    "\n",
    "    # Step 4: Return the shortest word.\n",
    "    return shortest_word\n",
    "\n",
    "# Example usage\n",
    "text = \"This is an example sentence with some short words.\"\n",
    "shortest_word = find_shortest_word(text)\n",
    "print(\"Shortest word:\", shortest_word)"
   ]
  },
  {
   "cell_type": "markdown",
   "id": "f8c75ac5-2b19-44e8-8f7a-235fac0e4ae4",
   "metadata": {},
   "source": [
    "- Defining the Function (def find_shortest_word(text):):\n",
    "We define a function called find_shortest_word that takes one parameter: text (the input string from which we want to find the shortest word).\n",
    "- Using the split() Method (words = text.split()):\n",
    "We use the split() method on the text string to split it into a list of words. This step allows us to process each word individually.\n",
    "- Initializing Variables (shortest_word and min_length):\n",
    "We initialize two variables, shortest_word to keep track of the shortest word found, and min_length to keep track of the length of the shortest word. We initialize min_length to a large value using float('inf').\n",
    "- Iterating Through Words (for word in words:):\n",
    "We iterate through each word in the list of words.\n",
    "- Comparing Word Lengths and Updating (if len(word) < min_length:):\n",
    "For each word, we compare its length (len(word)) to the current min_length. If the length of the current word is smaller than the current minimum length, we update min_length and set shortest_word to the current word.\n",
    "- Returning the Shortest Word (return shortest_word):\n",
    "After iterating through all the words, we return the value stored in the shortest_word variable, which will be the shortest word found."
   ]
  },
  {
   "cell_type": "markdown",
   "id": "3d8d67f1-d0cf-4bbb-bca4-5931483753c5",
   "metadata": {},
   "source": [
    "### 22. Reverse the order of words in a string."
   ]
  },
  {
   "cell_type": "code",
   "execution_count": 70,
   "id": "05713943-b45f-4716-8da3-67d95690f865",
   "metadata": {},
   "outputs": [
    {
     "data": {
      "text/plain": [
       "' tnemegnissa nohtyp dnoces ym si siht'"
      ]
     },
     "execution_count": 70,
     "metadata": {},
     "output_type": "execute_result"
    }
   ],
   "source": [
    "input_string = \"this is my second python assingement \"\n",
    "input_string[::-1]"
   ]
  },
  {
   "cell_type": "markdown",
   "id": "f5b2d370-67be-4674-b009-0f32ed2d3a3a",
   "metadata": {},
   "source": [
    "- ` input_string = \"this is my second python assingement \"`: we create a string that we want to revere the order of words in a string\n",
    "- ` input_string[::-1]` : we called the slicing function to reverse the string "
   ]
  },
  {
   "cell_type": "markdown",
   "id": "0f7c7aac-b8da-4af4-b5cf-0801c8202dc1",
   "metadata": {},
   "source": [
    "### 23. Check if a string is alphanumeric."
   ]
  },
  {
   "cell_type": "code",
   "execution_count": 76,
   "id": "6e056e14-d534-4b46-83ea-075279ae1d34",
   "metadata": {},
   "outputs": [
    {
     "name": "stdout",
     "output_type": "stream",
     "text": [
      "the  string is alphanumeric\n"
     ]
    }
   ],
   "source": [
    "def is_alphanumeric(text ):\n",
    "    return text.isalnum()\n",
    "text = \"hellobachoo1234\"\n",
    "result = is_alphanumeric(text )\n",
    "if result:\n",
    "    print (\"the  string is alphanumeric\")\n",
    "else:\n",
    "    print(\"the string is not alphanumeric\")\n"
   ]
  },
  {
   "cell_type": "markdown",
   "id": "063ba6d7-b807-48de-bd05-179bf074b0f3",
   "metadata": {},
   "source": [
    "- `def is_alphanumeric(text )`: we define the function is_alphanumeric that takes one arguments(text) [that we want to chek text is alphanumeric or not ]\n",
    "- `  return text.isalnum()` : using this method we chek the character in text is alphanumeric or not \n",
    "- ` we create the two condition one is if and another is else if text is contain the alphanumeri then work if condition ,else work else condition .."
   ]
  },
  {
   "cell_type": "markdown",
   "id": "810cb781-4c23-47b6-a758-9af244970ed3",
   "metadata": {},
   "source": [
    "### 24. Extract all digits from a string."
   ]
  },
  {
   "cell_type": "code",
   "execution_count": 95,
   "id": "c9e6ed15-3583-4ba6-899a-8f2e29125f96",
   "metadata": {},
   "outputs": [
    {
     "name": "stdout",
     "output_type": "stream",
     "text": [
      "extarcted digits 99865\n"
     ]
    }
   ],
   "source": [
    "def extract_digits(text):\n",
    "    digits = \"\"\n",
    "    for char in text:\n",
    "        if char.isdigit():\n",
    "            digits += char\n",
    "    return digits \n",
    "text =\"rugshc99865\"\n",
    "extracted_digits = extract_digits(text)\n",
    "print(\"extarcted digits\",extracted_digits)"
   ]
  },
  {
   "cell_type": "markdown",
   "id": "bd546f8f-4bea-40cc-bc59-79f45685c8ff",
   "metadata": {},
   "source": [
    "- `def extract_digits(text):`:we define a function extract_digits(text) that takes one parameter(the input string from which want to exctrat digits ).\n",
    "- `digits = \"\"`: we create digits variable where we can store the extracted digits .\n",
    "- ` for char in text:`: we use the for loop for iterating each char through for loop in a text string .\n",
    "- `Appending Digits (digits += char)`: If the character is a digit, we append it to the digits string using the += operator.\n",
    "- `Returning the Extracted Digits (return digits)`: After iterating through all characters in the string, we return the digits string, which contains the extracted d"
   ]
  },
  {
   "cell_type": "markdown",
   "id": "f14b5e54-4dbb-4276-ad02-506a65a8bccc",
   "metadata": {},
   "source": [
    "### 25. Extract all alphabets from a string."
   ]
  },
  {
   "cell_type": "code",
   "execution_count": 102,
   "id": "b3b15436-a095-4409-8049-2fc876ef84fc",
   "metadata": {},
   "outputs": [
    {
     "name": "stdout",
     "output_type": "stream",
     "text": [
      "pwskills\n"
     ]
    }
   ],
   "source": [
    "def extract_alphabets(input_string):\n",
    "    alphabets = ''.join([char for char in input_string if char.isalpha()])\n",
    "    return alphabets \n",
    "input_string = \"pwski2559656lls\"\n",
    "result = extract_alphabets(input_string)\n",
    "print(result)"
   ]
  },
  {
   "cell_type": "markdown",
   "id": "bd88ae2d-306e-4d27-8b6a-89fb4e745378",
   "metadata": {},
   "source": [
    "- `def extract_alphabets(input_string):`: we define a function def extract_alphabets(input_string): that takes one parameters input_string ( the input string from which we want to extract alphabates \n",
    "- In the list comprehension, char.isalpha() is used to check if the character is an alphabet (a letter) or not. If it's an alphabet, the character is included in the list.\n",
    "- Use the join() method to combine the characters in the list back into a single string of alphabets.\n",
    "- Return the alphabets string from the function.\n",
    "- Define an example input_string containing a mix of letters and digits.\n",
    "- Call the extract_alphabets function with the input_string and store the result in the result variable.\n",
    "- Print the result to see the extracted alphabets from the input string.\n",
    "   "
   ]
  },
  {
   "cell_type": "markdown",
   "id": "a8fb0525-098d-4a67-afac-4f82167e1fa4",
   "metadata": {},
   "source": [
    "### 26. Count the number of uppercase letters in a string."
   ]
  },
  {
   "cell_type": "code",
   "execution_count": 10,
   "id": "2d25a1e7-1384-4550-8fd5-9dab70b11753",
   "metadata": {},
   "outputs": [
    {
     "name": "stdout",
     "output_type": "stream",
     "text": [
      "5\n"
     ]
    }
   ],
   "source": [
    "def count_uppercse(text):\n",
    "    uppercse_count = sum(1 for char in text if char.isupper())\n",
    "    return uppercse_count \n",
    "text =\"PWSkikLLs\"\n",
    "result =count_uppercse(text)\n",
    "print(result)"
   ]
  },
  {
   "cell_type": "markdown",
   "id": "f01090df-7ec9-4365-9a7a-39115c9e4e1c",
   "metadata": {},
   "source": [
    "- `def count_uppercse(text)`: we define the function def count_uppercse(text) that takes one parameter (in the string that we want to count the uppercase )\n",
    "\n",
    "- ` uppercse_count = sum(1 for char in text if char.isupper())`: thish method is us for chek the upper case character \n",
    "- print the result to see the count of uppercase characters "
   ]
  },
  {
   "cell_type": "markdown",
   "id": "4c74f6bd-7643-4a9c-9667-72dd5e81b10e",
   "metadata": {},
   "source": [
    "### 27. Count the number of lowercase letters in a string."
   ]
  },
  {
   "cell_type": "code",
   "execution_count": 12,
   "id": "8975f676-344e-4d0b-bca0-2de73227a94d",
   "metadata": {},
   "outputs": [
    {
     "name": "stdout",
     "output_type": "stream",
     "text": [
      "6\n"
     ]
    }
   ],
   "source": [
    "def count_lowercase(text):\n",
    "    lowercase_count = sum(1 for char in text if char.islower())\n",
    "    return lowercase_count\n",
    "text =\"PwSkills\"\n",
    "result= count_lowercase(text)\n",
    "print(result)"
   ]
  },
  {
   "cell_type": "markdown",
   "id": "6498c815-e4f3-4528-b8a7-e7c76ee17552",
   "metadata": {},
   "source": [
    "- `def count_lowercase(text):`: we define a function that takes one arguments (text),that we want to count of lowercase char \n",
    "- `lowercase_count = sum(1 for char in text if char.islower())`: we return this code line for the count of lowercase char in string \n",
    "- we print the resut to see the count of lowercase char\n"
   ]
  },
  {
   "cell_type": "markdown",
   "id": "c8285beb-c659-4432-b6eb-39a8bdd07187",
   "metadata": {},
   "source": [
    "### 28. Swap the case of each character in a string."
   ]
  },
  {
   "cell_type": "code",
   "execution_count": 14,
   "id": "571a53b0-9e89-45af-9e24-14c53260d511",
   "metadata": {},
   "outputs": [
    {
     "name": "stdout",
     "output_type": "stream",
     "text": [
      "pWsKiLLiS\n"
     ]
    }
   ],
   "source": [
    "def swapcase(input_string):\n",
    "    swapped_string = input_string.swapcase()\n",
    "    return swapped_string\n",
    "input_string = \"PwSkIllIs\"\n",
    "result=swapcase(input_string)\n",
    "print(result)"
   ]
  },
  {
   "cell_type": "markdown",
   "id": "3af86e9a-4366-42a7-98dd-fc4a2f53bc20",
   "metadata": {},
   "source": [
    "- `def swapcase(input_string)`: - we define the function def swapcase(input_string) that takes one parameter input_string (the string in which we count the lower case char .\n",
    "- `  swapped_string = input_string.swapcase()` : we create this function for the swapecase char into the input_string \n",
    "- we create the result variable in which this variable we store the swapped_string ..\n",
    "- print the result function to see the count of swapcase char "
   ]
  },
  {
   "cell_type": "markdown",
   "id": "755e30f6-5b87-4d93-a655-9a3332562bc0",
   "metadata": {},
   "source": [
    "### 29. Remove a specific word from a string."
   ]
  },
  {
   "cell_type": "code",
   "execution_count": 24,
   "id": "aedb953b-6606-49b5-b5d1-86cd95c9dd8c",
   "metadata": {},
   "outputs": [
    {
     "name": "stdout",
     "output_type": "stream",
     "text": [
      "hello world, welcome to the of the programing\n"
     ]
    }
   ],
   "source": [
    "def remove_word(input_string,word_to_remove):\n",
    "    words=input_string.split()\n",
    "    filtered_words = [word for word in words if word!=word_to_remove]\n",
    "    modified_string = \" \".join(filtered_words)\n",
    "    return modified_string\n",
    "input_string = \"hello world, welcome to the world of the programing\"\n",
    "word_to_remove = \"world\"\n",
    "result = remove_word(input_string,word_to_remove)\n",
    "print(result)\n"
   ]
  },
  {
   "cell_type": "markdown",
   "id": "452d6fa2-138e-42d6-be8a-75b0d9d7e3ea",
   "metadata": {},
   "source": [
    "- `def remove_word(input_string,word_to_remove):`: we define the function that takes two arguments one is input string and another is word_to_remove that we want to remve the specific word from a string .\n",
    "- inside the function,split the input_string into a list of words using the split method .by defalut split() ,split the string on whitespace\n",
    "    -`filtered_words`: crate a variable named filterded_words and use a list comprehension to iterate through each word in the word list if word is not equal to the word_to_remove, its included filtered_word list .\n",
    "- use the join() met1hod to combine the word in the filtered_words list back into a string ,using the  space as a seprater .\n",
    "- return the modified string from the function .\n",
    "- call the remove_word function with the input_string and word_to_remove ,and store the result into the result variable .\n",
    "- we print the result to see the result \n",
    "    "
   ]
  },
  {
   "cell_type": "markdown",
   "id": "51644668-fbf2-4958-ab29-d10432e4c5d5",
   "metadata": {},
   "source": [
    "### 30. Check if a string is a valid email address."
   ]
  },
  {
   "cell_type": "code",
   "execution_count": 25,
   "id": "08a851ab-2ba9-4b9f-a3cb-7d1d035ea35a",
   "metadata": {},
   "outputs": [
    {
     "ename": "SyntaxError",
     "evalue": "invalid syntax (468116716.py, line 1)",
     "output_type": "error",
     "traceback": [
      "\u001b[0;36m  Cell \u001b[0;32mIn[25], line 1\u001b[0;36m\u001b[0m\n\u001b[0;31m    def is_valid email(email):\u001b[0m\n\u001b[0m                 ^\u001b[0m\n\u001b[0;31mSyntaxError\u001b[0m\u001b[0;31m:\u001b[0m invalid syntax\n"
     ]
    }
   ],
   "source": [
    "def is_valid email(email):\n",
    "    \n",
    "    \n"
   ]
  },
  {
   "cell_type": "markdown",
   "id": "e1c6a17c-7725-4a88-b6b1-f160cb14b3e7",
   "metadata": {},
   "source": [
    "### 31. Extract the username from an email address string."
   ]
  },
  {
   "cell_type": "code",
   "execution_count": 32,
   "id": "6be1711c-89f8-43e2-bf71-ee3dea2de5b5",
   "metadata": {},
   "outputs": [
    {
     "name": "stdout",
     "output_type": "stream",
     "text": [
      "avneeshkumar1362\n"
     ]
    }
   ],
   "source": [
    "def user_name(email):\n",
    "    extract_user_name =email.split(\"@\")[0]\n",
    "    return  extract_user_name\n",
    "email = \"avneeshkumar1362@gmail.com\"\n",
    "result =user_name(email)\n",
    "print(result)"
   ]
  },
  {
   "cell_type": "markdown",
   "id": "f76dd362-1ee4-421f-b1f2-3be5d697998e",
   "metadata": {},
   "source": [
    "- `def user_name(email)`: we define this function that takes the one argument gmaiaal( in this gmail we want to extract user name )\n",
    "- ` extract_user_name =email.split(\"@\")[0]`: we use split() function to split the gmail from \"@\" and  return extract_user_name .\n",
    "- we create the result variable to store user_name \n",
    "- we print the result to see the result \n",
    "- Use indexing [0] to access the first part of the list, which is the username. Return the username from the function."
   ]
  },
  {
   "cell_type": "markdown",
   "id": "6d4c3d36-4e50-4271-8438-df4c8ec47fb2",
   "metadata": {},
   "source": [
    "### 32. Extract the domain name from an email address string."
   ]
  },
  {
   "cell_type": "code",
   "execution_count": 46,
   "id": "2e1b24a0-be89-438a-b24a-466f713305fc",
   "metadata": {},
   "outputs": [
    {
     "name": "stdout",
     "output_type": "stream",
     "text": [
      "gmail.com\n"
     ]
    }
   ],
   "source": [
    "def user_domain(email):\n",
    "    extract_user_domain =email.split(\"@\")[1]\n",
    "    return  extract_user_domain\n",
    "email = \"avneeshkumar1362@gmail.com\"\n",
    "result =user_domain(email)\n",
    "print(result)"
   ]
  },
  {
   "cell_type": "markdown",
   "id": "7adb4989-c00d-4d27-a8ad-5d2f870eb711",
   "metadata": {},
   "source": [
    "- `def user_domain(email)`: we define this function that takes the one argumennts gmail(in this gemail we want to extract the domain name from gmail adress string.\n",
    "- we use the split function to split the gmail from \"@\" and acess domain name from the index [1] from the list 2 \n",
    "- we create the result variable in this variable ,we store the extract_user_domain.\n",
    "- we print the result to see the result "
   ]
  },
  {
   "cell_type": "markdown",
   "id": "a7199295-6911-4e2c-a13b-a24f5926b6f1",
   "metadata": {},
   "source": [
    "### 33. Replace multiple spaces in a string with a single space."
   ]
  },
  {
   "cell_type": "code",
   "execution_count": 2,
   "id": "ae50aa97-3a86-43b8-84d8-47648b88ea6d",
   "metadata": {},
   "outputs": [
    {
     "name": "stdout",
     "output_type": "stream",
     "text": [
      "this is a python second assingement\n"
     ]
    }
   ],
   "source": [
    "def replace_multiple_spaces(input_string):\n",
    "    replaced_space_string = ' '.join(input_string.split())\n",
    "    return replaced_space_string\n",
    "input_string = \"this    is    a python     second     assingement\"\n",
    "result = replace_multiple_spaces(input_string)\n",
    "print(result)"
   ]
  },
  {
   "cell_type": "markdown",
   "id": "dde11589-96ca-4b5e-9721-80e8c268eb18",
   "metadata": {},
   "source": [
    "- `def replace_multiple_spaces(input_string)`:we define this function in this function takes one argument Input_string (that we want to replace multispace by the single space ..\n",
    "- use the split method to split the input_string into a list of words .by default , split()split the string on whitwspace ,treating consectiv space as single delimeter .\n",
    "- use the join method to join the list of word back into a string using a single space as the seprator . this efectively replaces the multiple spaces with a single space .\n",
    "- return the replaced_space_string from the function "
   ]
  },
  {
   "cell_type": "markdown",
   "id": "72cbe0fc-0da1-4c44-9a22-df6854dd4ca7",
   "metadata": {},
   "source": [
    "### 34. Check if a string is a valid URL."
   ]
  },
  {
   "cell_type": "code",
   "execution_count": 8,
   "id": "be5d9255-38e4-44b2-a011-75ed67629eb4",
   "metadata": {},
   "outputs": [
    {
     "name": "stdout",
     "output_type": "stream",
     "text": [
      "True\n",
      "False\n"
     ]
    }
   ],
   "source": [
    "from urllib.parse import urlparse\n",
    "\n",
    "def is_valid_url(url):\n",
    "    try:\n",
    "        result =urlparse(url)\n",
    "        return all ([result.scheme ,result.netloc])\n",
    "    except valueError:\n",
    "        return False\n",
    "url=\"https://www.example.com\"\n",
    "url2 =\"invalid-erl1\"\n",
    "result1 = is_valid_url(url1)\n",
    "result2 = is_valid_url(url2)\n",
    "print(result1)\n",
    "print(result2)"
   ]
  },
  {
   "cell_type": "markdown",
   "id": "fcfde9e3-ae47-43ec-9b3d-2c9a8014009b",
   "metadata": {},
   "source": [
    "- import the urlparse function from the urllib.parse module this function allows to parse URLs and extract theircomponents.\n",
    "- define a function named is_valid_url that takes url parameter . inside the function , use a try block to handle possible exceptions during url parsing .\n",
    "- use urlpare(url) to parse the given URL. the result is an object containing the URLs components like scheme , netloc ,path, query ,etc .\n",
    "- Check if both the result.scheme (URL scheme, like \"http\", \"https\", etc.) and result.netloc (network location) are present. If both are present, it's considered a valid URL.\n",
    "- If any exception occurs during parsing (indicating that the URL is not correctly formatted), the except ValueError block will catch it and return False.\n",
    "- Define example URLs (url1 and url2).\n",
    "- Call the is_valid_url function with the example URLs and store the results in result1 and result2.\n",
    "- Print the results to see whether each URL is considered valid or not."
   ]
  },
  {
   "cell_type": "markdown",
   "id": "2b5ced97-9383-438e-a2f3-f0b07ea7c0c3",
   "metadata": {},
   "source": [
    "### 35. Extract the protocol (http or https) from a URL string."
   ]
  },
  {
   "cell_type": "code",
   "execution_count": 9,
   "id": "c1d2526c-baae-412d-951d-0afc78177fad",
   "metadata": {},
   "outputs": [
    {
     "name": "stdout",
     "output_type": "stream",
     "text": [
      "protocol 1 http\n",
      "protocol 2 http\n",
      "protocol 3 ftp\n"
     ]
    }
   ],
   "source": [
    "def extract_protocol(url):\n",
    "    protocol_end = url.find(\"://\")\n",
    "    if protocol_end != -1:\n",
    "        protocol = url[:protocol_end]\n",
    "        return protocol \n",
    "    else:\n",
    "        return None\n",
    "\n",
    "url1 = \"http://www.example.com\"\n",
    "url2 = \"http://google.com\"\n",
    "url3 = \"ftp://ftp.example.com\"\n",
    "\n",
    "\n",
    "protocol1 = extract_protocol(url1)\n",
    "protocol2 = extract_protocol(url2)\n",
    "protocol3 = extract_protocol(url3)\n",
    "\n",
    "\n",
    "print(\"protocol 1\",protocol1)\n",
    "print(\"protocol 2\",protocol2)\n",
    "print(\"protocol 3\",protocol3)"
   ]
  },
  {
   "cell_type": "markdown",
   "id": "3986b3f3-24fb-4939-af32-31537e3636aa",
   "metadata": {},
   "source": [
    "- we define a function extract_protocol(url) that taks=es a URL string as input .inside the function we used the find() method to locate the first occurences of  ://in the URL. this is the seproter between the protocol and rest of the URL.\n",
    "- if the seprator is found (protocol_end is not -1),we extract the substring from the start of the URL up to protocol_end(exclusive) to get the protocol.\n",
    "- if the seprator is not found , we return none to indicate that the pectoral could't be extracted .\n",
    "- we provide example (url1 , url2 ,url3).\n",
    "- we call the extract_protocol() function for each URL to extract their protocols and stores them protocol1, protocol2, protoco3.\n",
    "- finlly we print the extracted protocols using print() statements.\n",
    "\n"
   ]
  },
  {
   "cell_type": "markdown",
   "id": "ae94d522-13fe-4099-886d-0e4db9fb684f",
   "metadata": {},
   "source": [
    "### 36. Find the frequency of each character in a string."
   ]
  },
  {
   "cell_type": "code",
   "execution_count": 15,
   "id": "6f3d9234-cd27-45de-a436-cd356bc98ded",
   "metadata": {},
   "outputs": [
    {
     "name": "stdout",
     "output_type": "stream",
     "text": [
      "character:'h',frequency:1\n",
      "character:'e',frequency:1\n",
      "character:'l',frequency:2\n",
      "character:'o',frequency:2\n",
      "character:' ',frequency:1\n",
      "character:',',frequency:1\n",
      "character:'w',frequency:1\n",
      "character:'r',frequency:1\n",
      "character:'d',frequency:1\n"
     ]
    }
   ],
   "source": [
    "def character_frequency(input_string):\n",
    "    frequency = {}\n",
    "    for char in input_string:\n",
    "        if char in frequency:\n",
    "            frequency[char] += 1\n",
    "        else:\n",
    "            frequency[char] = 1\n",
    "    return frequency\n",
    "input_string = \"hello ,word\"\n",
    "char_frequency = character_frequency(input_string)\n",
    "            \n",
    "for char ,freq in char_frequency.items():\n",
    "    print(f\"character:'{char}',frequency:{freq}\")\n",
    "                "
   ]
  },
  {
   "cell_type": "markdown",
   "id": "7946fe52-173c-4a37-8faa-188e9aa4b7d7",
   "metadata": {},
   "source": [
    "- we define a function charcter_frequency(input_string) that takes a string as input.\n",
    "- inside the function , we create an empty dicitonary named frequency to store the frequency of each character .\n",
    "- we iterate through each character in the input_string\n",
    "- for each character , we check if it is already present in the frequency dictionary using the in operator.\n",
    "  -  if the character already in the dictionary ,we increment its corresponding frequency count by .\n",
    "  - if the charctaer is not in the dictionary , we initilize its frequency count to 1.\n",
    "- after iterating through all characters in the input string , we return the frequency dictionary .\n",
    "- we provide an example string input_str.\n",
    "- we call the character_frequency() function  "
   ]
  },
  {
   "cell_type": "markdown",
   "id": "b321d6ab-f723-410a-a5fd-ea52db9b233a",
   "metadata": {},
   "source": [
    "### 37. Remove all punctuation from a string."
   ]
  },
  {
   "cell_type": "code",
   "execution_count": 5,
   "id": "b0191cdf-5e3b-4fa5-b394-967dda5d8e78",
   "metadata": {},
   "outputs": [
    {
     "name": "stdout",
     "output_type": "stream",
     "text": [
      "original string  hello, world! how's it going?\n",
      "cleaned string : hello world hows it going\n"
     ]
    }
   ],
   "source": [
    "import string\n",
    "def remove_punctuation(input_string):\n",
    "    translator = str.maketrans(\"\",\"\",string.punctuation)\n",
    "    \n",
    "    clean_string = input_string.translate(translator)\n",
    "    \n",
    "    return clean_string\n",
    "input_string =\"hello, world! how's it going?\"\n",
    "\n",
    "cleaned_str = remove_punctuation(input_string)\n",
    "print(\"original string \",input_string)\n",
    "print(\"cleaned string :\",cleaned_str)"
   ]
  },
  {
   "cell_type": "markdown",
   "id": "742c491f-87cf-4e00-b60c-bcdaf667bd17",
   "metadata": {},
   "source": [
    "- we import the string module, which contains a string called punctuation containg all punctuation characters.\n",
    "- we define a function remove_punctation(input_string) that takes a string as input.\n",
    "- inside the function , we use the str.maketrans() method to create a translation table.this table will map each punctuation character to None , effectively removing them .\n",
    "- we use the translate() method on the input_string using the translation table.this will remove all characters that are present in the string punctuation .\n",
    "- the result is the cleaned string with all punctuation removed which we return .\n",
    "- we provide an example string input_str containing panctuation .\n",
    "- we call the remove_panctuation() function to remove panctuation from the input string and store the result in cleaned_string\n",
    "- finally , we print the both the original and cleaned strings using print() statements.\n"
   ]
  },
  {
   "cell_type": "markdown",
   "id": "c8e9af49-f4d0-48f6-90f2-2b062c00ac6a",
   "metadata": {},
   "source": [
    "### 38. Check if a string contains only digits."
   ]
  },
  {
   "cell_type": "code",
   "execution_count": 7,
   "id": "17806b3e-3633-41d5-abcd-642a57737736",
   "metadata": {},
   "outputs": [
    {
     "name": "stdout",
     "output_type": "stream",
     "text": [
      "string1 only contains digits True\n",
      "string1 only contains digits False\n",
      "string1 only contains digits False\n"
     ]
    }
   ],
   "source": [
    "def chek_string(input_string):\n",
    "    return input_string.isdigit()\n",
    "string1=\"1234\"\n",
    "string2=\"hello world232\"\n",
    "string3=\"4561.493\"\n",
    "\n",
    "result1=chek_string(string1)\n",
    "result2=chek_string(string2)\n",
    "result3=chek_string(string3)\n",
    "\n",
    "print(\"string1 only contains digits\",result1)\n",
    "print(\"string1 only contains digits\",result2)\n",
    "print(\"string1 only contains digits\",result3)\n",
    "   "
   ]
  },
  {
   "cell_type": "markdown",
   "id": "f13207b7-da2c-4430-9c21-726fe4ab4de6",
   "metadata": {},
   "source": [
    "- we define the function def chek_string(input_string):- that takes one arguments input_string ( that we want to check the string have digits or not ).\n",
    "- return the input_string.isdigit() - to chek the string have contaions digits or not and stores the result inside result1,result2,result3 .\n",
    "- we provide three difrent-difrent example string1,string2, string3..\n",
    "- finally we print the results by using print() statements.\n"
   ]
  },
  {
   "cell_type": "markdown",
   "id": "61aaf52c-b1b5-4ed7-b3c0-00401d98ff9b",
   "metadata": {},
   "source": [
    "### 39. Check if a string contains only alphabets."
   ]
  },
  {
   "cell_type": "code",
   "execution_count": 9,
   "id": "4221a9cf-46a7-4d30-a078-ef5f1c9351e4",
   "metadata": {},
   "outputs": [
    {
     "name": "stdout",
     "output_type": "stream",
     "text": [
      "string1 have only alphabates  False\n",
      "string2 have only alphabates False\n",
      "string3 have only alphabates True\n"
     ]
    }
   ],
   "source": [
    "def chek_string_only_alphabates(input_string):\n",
    "    return input_string.isalpha()\n",
    "string1=\"hello1234\"\n",
    "string2=\"123456789\"\n",
    "string3=\"hi\"\n",
    "\n",
    "result1=chek_string_only_alphabates(string1)\n",
    "result2=chek_string_only_alphabates(string2)\n",
    "result3=chek_string_only_alphabates(string3)\n",
    "\n",
    "\n",
    "print(\"string1 have only alphabates \",result1)\n",
    "print(\"string2 have only alphabates\",result2)\n",
    "print(\"string3 have only alphabates\", result3)"
   ]
  },
  {
   "cell_type": "markdown",
   "id": "ac64dd30-2b91-42b9-bdbd-0c6170253e96",
   "metadata": {},
   "source": [
    "- we define the function def chek_string(input_string):- that takes one arguments input_string ( that we want to check the string ihave alphabates  or not ).\n",
    "- return the input_string.isalpha() - to chek the string have contaions alphabates or not and stores the result inside result1,result2,result3 .\n",
    "- we provide three difrent-difrent example string1,string2, string3..\n",
    "- finally we print the results by using print() statements.\n"
   ]
  },
  {
   "cell_type": "markdown",
   "id": "a9c81a32-7b4e-4883-9927-acbaa15fe830",
   "metadata": {},
   "source": [
    "### 40. Convert a string to a list of characters."
   ]
  },
  {
   "cell_type": "code",
   "execution_count": 12,
   "id": "10f7deed-e01a-443b-a350-aac8a47c1e35",
   "metadata": {},
   "outputs": [],
   "source": [
    "input_string = \"hi hello\"\n",
    "converted_string = list(input_string)"
   ]
  },
  {
   "cell_type": "code",
   "execution_count": 13,
   "id": "d3221199-b87b-4145-802e-cfb67a995976",
   "metadata": {},
   "outputs": [
    {
     "data": {
      "text/plain": [
       "['h', 'i', ' ', 'h', 'e', 'l', 'l', 'o']"
      ]
     },
     "execution_count": 13,
     "metadata": {},
     "output_type": "execute_result"
    }
   ],
   "source": [
    "converted_string"
   ]
  },
  {
   "cell_type": "markdown",
   "id": "8f595e17-929a-48f8-bd41-c3b9fb463c8a",
   "metadata": {},
   "source": [
    "- we create the input_string \n",
    "- we converted input string into a list and stores inide the converted_string variable.\n",
    "- we call the converted_string variable and see the result as list of characters ."
   ]
  },
  {
   "cell_type": "markdown",
   "id": "72bbe39e-4518-4d37-b766-21c3e67c6f2b",
   "metadata": {},
   "source": [
    "### 41. Check if two strings are anagrams."
   ]
  },
  {
   "cell_type": "code",
   "execution_count": 7,
   "id": "1ea20c82-982a-41bd-b777-4f28891a9159",
   "metadata": {},
   "outputs": [
    {
     "name": "stdout",
     "output_type": "stream",
     "text": [
      "string1 and string2 are anagrams False\n",
      "string2 and string3 are anagrams True\n"
     ]
    }
   ],
   "source": [
    "def are_anagrams(str1,str2,):\n",
    "    str1=str1.replace(\" \",\"\").lower()\n",
    "    str2=str2.replace(\" \",\"\").lower()\n",
    "    return sorted (str1)==sorted(str2)\n",
    "\n",
    "string1=\"hello\"\n",
    "string2=\"cart  horse\"\n",
    "string3=\"orchestra\"\n",
    "\n",
    "result1= are_anagrams(string1,string2,)\n",
    "result2= are_anagrams(string2,string3,)\n",
    "\n",
    "print(\"string1 and string2 are anagrams\",result1)\n",
    "print(\"string2 and string3 are anagrams\",result2)"
   ]
  },
  {
   "cell_type": "markdown",
   "id": "c0519bd6-8c80-4ddc-b32a-6accf549676e",
   "metadata": {},
   "source": [
    "- `def are_anagrams(str1,str2,)`:we define a function that takes two arguments one is str1 and another is str2 \n",
    "- inside the function we remove spaces and convert both strings to lowercase using replace() and lower() methods .this ensure that space and letter case do't affect the anagram check.\n",
    "- we then sort the characters in both cleaned strings using the sorted() function .\n",
    "- we use the `==` to operator to compare the sorted string . if sorted string are equal , the orginal strings are anagrams  .\n",
    "- we provide example strings ,string1,string2,string3.\n",
    "- we call the are_anagrams() function for each pair of string check if they are anagrams and store the result1 and result2.\n",
    "- finally we print the results using print() statements .\n"
   ]
  },
  {
   "cell_type": "markdown",
   "id": "e011c218-cafe-4321-98c6-162360a02faa",
   "metadata": {},
   "source": [
    "### 42. Encode a string using a Caesar cipher."
   ]
  },
  {
   "cell_type": "code",
   "execution_count": 8,
   "id": "63183190-003b-41fa-947c-e1a68f3af69f",
   "metadata": {},
   "outputs": [
    {
     "name": "stdout",
     "output_type": "stream",
     "text": [
      "Encoded text: ehoor, zruog!\n"
     ]
    }
   ],
   "source": [
    "# Define a function named caesar_cipher that encodes a string using a Caesar cipher.\n",
    "def caesar_cipher(text, shift):\n",
    "  \"\"\"\n",
    "  Encodes a string using a Caesar cipher.\n",
    "\n",
    "  Args:\n",
    "    text: The string to encode.\n",
    "    shift: The number of positions to shift each letter.\n",
    "\n",
    "  Returns:\n",
    "    The encoded string.\n",
    "  \"\"\"\n",
    "\n",
    "  # Initialize an empty string to store the encoded text.\n",
    "  encoded_text = \"\"\n",
    "\n",
    "  # Iterate through each character in the input text.\n",
    "  for char in text:\n",
    "    # Check if the character is alphabetic.\n",
    "    if char.isalpha():\n",
    "      # Calculate the encoded character's Unicode code point value by shifting it by the specified amount.\n",
    "      # Ensure the value wraps around within the lowercase alphabet range (a-z).\n",
    "      encoded_char = chr((ord(char) + shift - ord('a')) % 26 + ord('a'))\n",
    "    else:\n",
    "      # Keep non-alphabetic characters unchanged.\n",
    "      encoded_char = char\n",
    "\n",
    "    # Add the encoded character to the encoded text.\n",
    "    encoded_text += encoded_char\n",
    "\n",
    "  # Return the resulting encoded text.\n",
    "  return encoded_text\n",
    "\n",
    "# Define the input text and the shift value for encoding.\n",
    "text = \"Hello, world!\"\n",
    "shift = 3\n",
    "\n",
    "# Call the caesar_cipher function to encode the text using the specified shift.\n",
    "encoded_text = caesar_cipher(text, shift)\n",
    "\n",
    "# Print the encoded text.\n",
    "print(\"Encoded text:\", encoded_text)"
   ]
  },
  {
   "cell_type": "markdown",
   "id": "96612d46-22d7-45f6-9e41-7db83c9b8537",
   "metadata": {},
   "source": [
    "- The code defines a function caesar_cipher that encodes a string using a Caesar cipher with a given shift value.\n",
    "- The text parameter represents the input string to be encoded, and the shift parameter represents the number of positions each letter should be shifted.\n",
    "- Inside the function, an empty string named encoded_text is initialized to store the encoded characters.\n",
    "- The function iterates through each character in the input text using a loop.\n",
    "- It checks if the current character is alphabetic using the isalpha() method.\n",
    "- If the character is alphabetic, it calculates the encoded character's Unicode code point value. It shifts the original character's Unicode value by shift, wraps it around within the lowercase alphabet range (from 'a' to 'z'), and converts it back to a character using the chr() function.\n",
    "- If the character is non-alphabetic, it remains unchanged.\n",
    "- The encoded character is added to the encoded_text string.\n",
    "- The function returns the final encoded_text after iterating through all characters.\n",
    "- Outside the function, an input text and a shift value of 3 are defined.\n",
    "- The caesar_cipher function is called with the provided text and shift values, and the result is stored in the variable encoded_text.\n",
    "- Finally, the encoded text is printed using the print() function."
   ]
  },
  {
   "cell_type": "markdown",
   "id": "0635084d-61d3-4930-bfe6-4d5853747f33",
   "metadata": {},
   "source": [
    "### 43. Decode a Caesar cipher encoded string."
   ]
  },
  {
   "cell_type": "code",
   "execution_count": 11,
   "id": "5e063f97-1a11-4c17-8be2-8033df058fe2",
   "metadata": {},
   "outputs": [
    {
     "name": "stdout",
     "output_type": "stream",
     "text": [
      "Decoded text: ilmm, world!\n"
     ]
    }
   ],
   "source": [
    "# Define a function to decode a string using a Caesar cipher\n",
    "def caesar_cipher_decoder(text, shift):\n",
    "    \"\"\"\n",
    "    Decodes a string using a Caesar cipher.\n",
    "\n",
    "    Args:\n",
    "        text: The string to decode.\n",
    "        shift: The number of positions to shift each letter.\n",
    "\n",
    "    Returns:\n",
    "        The decoded string.\n",
    "    \"\"\"\n",
    "\n",
    "    # Initialize an empty string to store the decoded text\n",
    "    decoded_text = \"\"\n",
    "\n",
    "    # Loop through each character in the input text\n",
    "    for char in text:\n",
    "        # Check if the character is an alphabetic character\n",
    "        if char.isalpha():\n",
    "            # Calculate the decoded character using the shift value\n",
    "            decoded_char = chr((ord(char) - shift - ord('a')) % 26 + ord('a'))\n",
    "        else:\n",
    "            # If the character is not alphabetic, keep it unchanged\n",
    "            decoded_char = char\n",
    "\n",
    "        # Add the decoded character to the decoded text\n",
    "        decoded_text += decoded_char\n",
    "\n",
    "    # Return the fully decoded text\n",
    "    return decoded_text\n",
    "\n",
    "# Example input\n",
    "text = \"lopp, zruog!\"\n",
    "shift = 3\n",
    "\n",
    "# Call the caesar_cipher_decoder function to decode the input text\n",
    "decoded_text = caesar_cipher_decoder(text, shift)\n",
    "\n",
    "# Print the decoded text\n",
    "print(\"Decoded text:\", decoded_text)"
   ]
  },
  {
   "cell_type": "markdown",
   "id": "a357663c-7f21-4d64-b75e-9ca8e03c5321",
   "metadata": {},
   "source": [
    "### 44. Find the most frequent word in a string."
   ]
  },
  {
   "cell_type": "code",
   "execution_count": 12,
   "id": "b091efc3-c717-4148-9994-e0dc3b190914",
   "metadata": {},
   "outputs": [
    {
     "name": "stdout",
     "output_type": "stream",
     "text": [
      "Most frequent word: hello\n"
     ]
    }
   ],
   "source": [
    "import re\n",
    "from collections import Counter\n",
    "\n",
    "def most_frequent_word(input_string):\n",
    "    # Remove punctuation and convert to lowercase\n",
    "    clean_string = re.sub(r'[^\\w\\s]', '', input_string).lower()\n",
    "\n",
    "    # Split the string into words\n",
    "    words = clean_string.split()\n",
    "\n",
    "    # Use Counter to count word frequencies\n",
    "    word_counter = Counter(words)\n",
    "\n",
    "    # Find the most common word\n",
    "    most_common_word = word_counter.most_common(1)[0][0]\n",
    "    return most_common_word\n",
    "\n",
    "# Example string\n",
    "input_str = \"Hello world, hello there! How's the world?\"\n",
    "\n",
    "# Find the most frequent word\n",
    "most_common = most_frequent_word(input_str)\n",
    "\n",
    "# Print the result\n",
    "print(\"Most frequent word:\", most_common)"
   ]
  },
  {
   "cell_type": "markdown",
   "id": "0a1683f9-9811-401f-b31f-84c131294f4c",
   "metadata": {},
   "source": [
    "- We import the re module for regular expressions and the Counter class from the collections module to count word frequencies.\n",
    "- We define a function most_frequent_word(input_string) that takes a string as input.\n",
    "- Inside the function, we use the re.sub() method to remove punctuation from the input string and convert it to lowercase. The regular expression [^\\w\\s] matches any character that is not a word character (\\w) or whitespace (\\s).\n",
    "- We then split the cleaned string into individual words using the split() method.\n",
    "- We use the Counter class to count the frequencies of each word in the list of words.\n",
    "- We find the most common word using the most_common() method of the Counter object. This method returns a list of tuples, where each tuple contains the word and its frequency. We extract the word from the most common tuple.\n",
    "- Finally, we return the most common word.\n",
    "- We provide an example string input_str.\n",
    "- We call the most_frequent_word() function to find the most frequent word in the input string and store the result in most_common.\n",
    "- We print the most frequent word using a print() statement."
   ]
  },
  {
   "cell_type": "raw",
   "id": "4334bc9a-ced6-4e54-be00-0ebd585723b1",
   "metadata": {},
   "source": [
    "## 45.find all unique words in a string ."
   ]
  },
  {
   "cell_type": "code",
   "execution_count": 15,
   "id": "f51200b9-e3bd-404a-8957-329d193a8706",
   "metadata": {},
   "outputs": [
    {
     "name": "stdout",
     "output_type": "stream",
     "text": [
      "unique words {'hows', 'there', 'the', 'world', 'hello'}\n"
     ]
    }
   ],
   "source": [
    "import re \n",
    "\n",
    "\n",
    "def unique_words(input_string):\n",
    "    clean_string = re.sub(r'[^\\w\\s]','',input_string).lower()\n",
    "    \n",
    "    words = set(clean_string.split())\n",
    "    return words\n",
    "\n",
    "input_str = \"hello world ,hello there! how's the world?\"\n",
    "\n",
    "unique_word_set = unique_words(input_str)\n",
    "print(\"unique words\" , unique_word_set)"
   ]
  },
  {
   "cell_type": "markdown",
   "id": "1c6c752a-5d94-42c0-8460-56a850fd1abc",
   "metadata": {},
   "source": [
    "- We import the re module for regular expressions.\n",
    "- We define a function unique_words(input_string) that takes a string as input.\n",
    "- Inside the function, we use the re.sub() method to remove punctuation from the input string and convert it to lowercase, similar to the previous example.\n",
    "- We split the cleaned string into individual words using the split() method.\n",
    "- We convert the list of words into a set using the set() constructor. This automatically removes duplicate words, giving us only the unique words.\n",
    "- Finally, we return the set of unique words.\n",
    "- We provide an example string input_str.\n",
    "- We call the unique_words() function to find the unique words in the input string and store the result in unique_word_set.\n",
    "- We print the set of unique words using a print() statement."
   ]
  },
  {
   "cell_type": "markdown",
   "id": "f9f10aec-d33c-4dc5-9bdb-c73a077e6fa5",
   "metadata": {},
   "source": [
    "### 46. Count the number of syllables in a string."
   ]
  },
  {
   "cell_type": "code",
   "execution_count": 17,
   "id": "1d9a96a7-ed93-4821-abd9-af67cae185ad",
   "metadata": {},
   "outputs": [
    {
     "name": "stdout",
     "output_type": "stream",
     "text": [
      "'hello' has 2 syllables.\n",
      "'banana' has 3 syllables.\n",
      "'syllable' has 3 syllables.\n"
     ]
    }
   ],
   "source": [
    "import re\n",
    "\n",
    "def count_syllables(word):\n",
    "    # Count vowel groups using regular expression\n",
    "    vowel_groups = re.findall(r'[aeiouy]+', word, re.IGNORECASE)\n",
    "\n",
    "    return len(vowel_groups)\n",
    "\n",
    "# Example words\n",
    "word1 = \"hello\"\n",
    "word2 = \"banana\"\n",
    "word3 = \"syllable\"\n",
    "\n",
    "# Count syllables\n",
    "syllables1 = count_syllables(word1)\n",
    "syllables2 = count_syllables(word2)\n",
    "syllables3 = count_syllables(word3)\n",
    "\n",
    "# Print the results\n",
    "print(f\"'{word1}' has {syllables1} syllables.\")\n",
    "print(f\"'{word2}' has {syllables2} syllables.\")\n",
    "print(f\"'{word3}' has {syllables3} syllables.\")"
   ]
  },
  {
   "cell_type": "markdown",
   "id": "29febf34-a922-4459-a71a-0e1a81f6ce0d",
   "metadata": {},
   "source": [
    "### 47. Check if a string contains any special characters."
   ]
  },
  {
   "cell_type": "code",
   "execution_count": 24,
   "id": "06ddb907-81a8-4ab2-a017-2ebfa5781e9d",
   "metadata": {},
   "outputs": [
    {
     "name": "stdout",
     "output_type": "stream",
     "text": [
      "hello,world! contains special case characters True\n",
      "thish is a test contains special case characters False\n",
      "special@characters contains special case characters True\n"
     ]
    }
   ],
   "source": [
    "import re \n",
    "\n",
    "def contains_special_characters(input_string):\n",
    "    \n",
    "    pattern= re.compile(r'[!@#$%^&*()_+{}\\[\\]:;<>,./?~\\\\/]')\n",
    "    \n",
    "    match = pattern.search(input_string)\n",
    "    \n",
    "    return bool(match)\n",
    "string1 = \"hello ,world!\"\n",
    "string2 = \"thisis a test\"\n",
    "string3 = \"special@characters\"\n",
    "\n",
    "\n",
    "\n",
    "result1 = contains_special_characters(string1)\n",
    "result2 = contains_special_characters(string2)\n",
    "result3 = contains_special_characters(string3)\n",
    "\n",
    "print(\"hello,world! contains special case characters\",result1)\n",
    "print(\"thish is a test contains special case characters\",result2)\n",
    "print(\"special@characters contains special case characters\",result3)"
   ]
  },
  {
   "cell_type": "markdown",
   "id": "1f336fc2-cdde-47cd-aa65-616ece3ad262",
   "metadata": {},
   "source": [
    "- we import re module for regular expressions.\n",
    "- we define a function contains_special_characters(input_string) that takes a string as input .\n",
    "- inside the function ,we define a regular expression pattern using re.compile() that matches the set of special charcaters using square brickets[....].\n",
    "- The pattern r'[!@#$%^&*()_+{}\\[\\]:;<>,.?~\\\\/] matches a variety of special characters. You can customize this pattern to match the specific special characters you're interested in.\n",
    "- We use the search() method of the pattern to find a match in the input string.\n",
    "- If a match is found, the search() method returns a match object, which evaluates to True when converted to a boolean using bool(match). If no match is found, it evaluates to False.\n",
    "- We return the result of the boolean conversion, indicating whether special characters are found.\n",
    "- We provide example strings string1, string2, and string3.\n",
    "- We call the contains_special_characters() function for each string to check if it contains any special characters and store the results in result1, result2, and result3.\n",
    "- Finally, we print the results using print() statements.\n",
    "- This code will check whether a given string contains any special characters based on the defined regular expression pattern."
   ]
  },
  {
   "cell_type": "markdown",
   "id": "1add819d-06ff-42f5-ac7d-1d97e99f9293",
   "metadata": {},
   "source": [
    "### 48. Remove the nth word from a string."
   ]
  },
  {
   "cell_type": "code",
   "execution_count": 6,
   "id": "e719c02e-ba01-4059-a3be-71cc47df5298",
   "metadata": {},
   "outputs": [
    {
     "name": "stdout",
     "output_type": "stream",
     "text": [
      "original value  this is an example sentence to test the function \n",
      "Modified string: this is an sentence to test the function\n",
      "Removed word: example\n"
     ]
    }
   ],
   "source": [
    " def remove_nt_word(input_string,n):\n",
    "        words = input_string.split()\n",
    "        \n",
    "        \n",
    "        if n>= 1 and n<=len(words):\n",
    "            removed_word = words.pop(n  -  1)\n",
    "            \n",
    "            modified_string = ' '.join(words)\n",
    "            \n",
    "            return modified_string , removed_word\n",
    "        else:\n",
    "            return None ,None  \n",
    "input_string =\" this is an example sentence to test the function \"\n",
    "n_value = 4 \n",
    "modified_string,removed_word = remove_nt_word( input_string ,n_value)\n",
    "\n",
    "\n",
    "\n",
    "print(\"original value\" , input_string)\n",
    "if modified_string is not None :\n",
    "    print(\"Modified string:\", modified_string)\n",
    "    print(\"Removed word:\", removed_word)\n",
    "else:\n",
    "    print(\"Invalid n value.\")"
   ]
  },
  {
   "cell_type": "markdown",
   "id": "1e0856e1-ff25-4ff3-abec-b95f687e080a",
   "metadata": {},
   "source": [
    "- We define a function remove_nth_word(input_string, n) that takes an input string and an integer n as input.\n",
    "- Inside the function, we split the input string into individual words using the split() method. This creates a list called words containing the words from the string.\n",
    "- We check if the provided value of n is within a valid range. We ensure that n is greater than or equal to 1 and less than or equal to the total number of words in the words list.\n",
    "- If n is within a valid range, we proceed to remove the nth word from the list using the pop() method. The pop() method returns the removed word, which we store in the variable removed_word.\n",
    "- We then join the remaining words in the list to form a modified string using the join() method, and store the result in the variable modified_string.\n",
    "We return both the modified_string and removed_word as a tuple.\n",
    "- If n is not within a valid range, we return None for both modified_string and removed_word.\n",
    "- We provide an example input string input_str and an n_value to indicate the position of the word to be removed.\n",
    "- We call the remove_nth_word() function to remove the nth word from the input string and store the modified string and removed word in the variables modified_str and removed_word.\n",
    "- Finally, we print the original string and either the modified string and removed word or an \"Invalid n value.\" message using print() statements."
   ]
  },
  {
   "cell_type": "markdown",
   "id": "fd43b40c-6e73-4dfb-86b9-ff664351af06",
   "metadata": {},
   "source": [
    "### 49. Insert a word at the nth position in a string."
   ]
  },
  {
   "cell_type": "code",
   "execution_count": null,
   "id": "7b67f650-669e-4c61-8423-ac8f937bb08a",
   "metadata": {},
   "outputs": [],
   "source": []
  },
  {
   "cell_type": "markdown",
   "id": "a39e1e0b-41f9-4de4-b427-59cf0a70a064",
   "metadata": {},
   "source": [
    "### 50. Convert a CSV string to a list of lists."
   ]
  },
  {
   "cell_type": "code",
   "execution_count": 11,
   "id": "74b1f5bc-25e5-4c40-bab2-75af4a7d2584",
   "metadata": {},
   "outputs": [
    {
     "name": "stdout",
     "output_type": "stream",
     "text": [
      "['Name', ' Age', ' Country']\n",
      "['John', ' 25', ' USA']\n",
      "['Alice', ' 30', ' Canada']\n",
      "['Bob', ' 22', ' UK']\n"
     ]
    }
   ],
   "source": [
    "def csv_string_to_list(csv_string):\n",
    "    # Split the CSV string into lines\n",
    "    lines = csv_string.split('\\n')\n",
    "\n",
    "    # Initialize an empty list to store the result\n",
    "    result = []\n",
    "\n",
    "    for line in lines:\n",
    "        # Split each line into fields using comma as the delimiter\n",
    "        fields = line.split(',')\n",
    "\n",
    "        # Append the fields to the result list as a row\n",
    "        result.append(fields)\n",
    "\n",
    "    return result\n",
    "\n",
    "# Example CSV string\n",
    "csv_data = \"Name, Age, Country\\nJohn, 25, USA\\nAlice, 30, Canada\\nBob, 22, UK\"\n",
    "\n",
    "# Convert CSV string to a list of lists\n",
    "list_of_lists = csv_string_to_list(csv_data)\n",
    "\n",
    "# Print the result\n",
    "for row in list_of_lists:\n",
    "    print(row)"
   ]
  },
  {
   "cell_type": "markdown",
   "id": "88ae3b2d-1c4d-40ed-b0de-c1bba858862c",
   "metadata": {},
   "source": [
    "- We define a function csv_string_to_list(csv_string) that takes a CSV string as input.\n",
    "- Inside the function, we split the CSV string into individual lines using the split('\\n') method. This creates a list called lines containing each line of the CSV data.\n",
    "- We initialize an empty list called result to store the final list of lists.\n",
    "- We iterate through each line in the lines list using a for loop.\n",
    "- For each line, we split it into fields using the split(',') method. This creates a list called fields containing the individual values separated by commas.\n",
    "- We append the fields list to the result list, effectively creating a list of lists where each inner list represents a row of data.\n",
    "- After iterating through all lines, we return the result.\n",
    "- We provide an example CSV string csv_data containing multiple rows and columns of data.\n",
    "- We call the csv_string_to_list() function to convert the CSV string to a list of lists and store the result in list_of_lists.\n",
    "- Finally, we use a for loop to iterate through list_of_lists and print each row of data using print() statements."
   ]
  },
  {
   "cell_type": "markdown",
   "id": "cf37279b-60d5-439b-8fea-236bb07b55ad",
   "metadata": {},
   "source": [
    "## **List based practice problem :**\n"
   ]
  },
  {
   "cell_type": "markdown",
   "id": "b479982e-b537-4e57-b011-c9b47eee4e63",
   "metadata": {},
   "source": [
    "### 1. Create a list with integers from 1 to 10."
   ]
  },
  {
   "cell_type": "code",
   "execution_count": 15,
   "id": "b6278f7c-e71e-42db-b0a4-413f2722bf71",
   "metadata": {},
   "outputs": [
    {
     "name": "stdout",
     "output_type": "stream",
     "text": [
      "[1, 2, 3, 4, 5, 6, 7, 8, 9, 10]\n"
     ]
    }
   ],
   "source": [
    "inteser_list = [ i for i in range(1,11)]\n",
    "\n",
    "print(inteser_list)"
   ]
  },
  {
   "cell_type": "markdown",
   "id": "daa6a925-0fbe-4b2f-8db0-af5ca2a8bd3c",
   "metadata": {},
   "source": [
    "- we use a list comprihension -to generate the list from 1-10\n",
    "- we call the print function and print it"
   ]
  },
  {
   "cell_type": "markdown",
   "id": "cb3948ea-bef5-4df7-b7ae-9690496f5a96",
   "metadata": {},
   "source": [
    "### 2. Find the length of a list without using the `len()` function."
   ]
  },
  {
   "cell_type": "code",
   "execution_count": 23,
   "id": "ef54a98a-76d4-4a04-bc88-788795ffe8ed",
   "metadata": {},
   "outputs": [
    {
     "name": "stdout",
     "output_type": "stream",
     "text": [
      "length of the list 7\n"
     ]
    }
   ],
   "source": [
    "def coustum_list(input_list):\n",
    "    count= 0\n",
    "    for i in input_list:\n",
    "        count+=1\n",
    "    return count\n",
    "my_list = [ 20, 21 ,22, 23 ,24 ,25 ,26]\n",
    "length = coustum_list(my_list)\n",
    "print(\"length of the list\",length)"
   ]
  },
  {
   "cell_type": "markdown",
   "id": "3a728c52-dc94-4ddb-aca0-5a49932108d8",
   "metadata": {},
   "source": [
    "- we define a function custom_list(input_list): that takes one arguments \n",
    "- inside the function we initialize a variable count to keep track of the number of elements in the list \n",
    "- we use  for loop to iterate through each element in the input_list \n",
    "- we use an i as the loop variable name since we're not using it within the loop .\n",
    "- inside the loop,for each element ,we increment count by 1 . after the loop completes ,we return the final value of count as the length of the list .\n",
    "- we providing example of list my_list containing elements .\n",
    "- we call the custom_list() function to find the length of the list using the custom approach and store the result in the variable length .\n",
    "- finally we print the length of the list by using print statements .\n",
    "\n"
   ]
  },
  {
   "cell_type": "markdown",
   "id": "e0218996-921d-4172-9c49-d67e0360ec28",
   "metadata": {},
   "source": [
    "### 3. Append an element to the end of a list."
   ]
  },
  {
   "cell_type": "code",
   "execution_count": 36,
   "id": "4f64c4f1-edef-4ca6-b80b-d44622906677",
   "metadata": {},
   "outputs": [
    {
     "name": "stdout",
     "output_type": "stream",
     "text": [
      "new list [40, 41, 42, 43, 44, 45]\n"
     ]
    }
   ],
   "source": [
    "old_list = [40,41,42,43,44]\n",
    " \n",
    "old_list.append(45)\n",
    "\n",
    "print(\"new list\",old_list)"
   ]
  },
  {
   "cell_type": "markdown",
   "id": "a7280529-482d-4136-94fa-65198d280b88",
   "metadata": {},
   "source": [
    " - fist of all we crate the old_list ,thats we want to append 45.\n",
    " - we use the apped function to append an element 45 to the end of a list \n",
    " - finally we print the new  list using the print() statements .\n",
    " "
   ]
  },
  {
   "cell_type": "markdown",
   "id": "f519cdb3-3975-4cd9-a172-f1e4f6e3a1e8",
   "metadata": {},
   "source": [
    "### 4. Insert an element at a specific index in a list."
   ]
  },
  {
   "cell_type": "code",
   "execution_count": 35,
   "id": "5ef6b6c9-7c3e-41e3-ae41-0327cebcbb87",
   "metadata": {},
   "outputs": [
    {
     "name": "stdout",
     "output_type": "stream",
     "text": [
      "new list [40, 41, 45, 42, 43, 44]\n"
     ]
    }
   ],
   "source": [
    "old_list = [40,41,42,43,44]\n",
    " \n",
    "old_list.insert(2,45)\n",
    "\n",
    "print(\"new list\",old_list)"
   ]
  },
  {
   "cell_type": "markdown",
   "id": "c0fe5712-78fc-4ed2-b8d8-d18ffbd59af5",
   "metadata": {},
   "source": [
    " - fist of all we crate the old_list ,thats we want to insert 45.\n",
    " - we use the insert function to insert an element 45 to the second index of a list \n",
    " - finally we print the new list using the print() statements .\n",
    " "
   ]
  },
  {
   "cell_type": "markdown",
   "id": "0378922a-ae97-4d4f-8127-b128b1637642",
   "metadata": {},
   "source": [
    "### 5. Remove an element from a list by its value."
   ]
  },
  {
   "cell_type": "code",
   "execution_count": 40,
   "id": "10f96e2a-7000-488c-bde8-e8a9671dd3ec",
   "metadata": {},
   "outputs": [
    {
     "name": "stdout",
     "output_type": "stream",
     "text": [
      "new list [40, 41, 42, 43]\n"
     ]
    }
   ],
   "source": [
    "old_list = [40,41,42,43,44]\n",
    " \n",
    "old_list.remove(44)\n",
    "removing_element = 44\n",
    "print(\"new list\",old_list)"
   ]
  },
  {
   "cell_type": "markdown",
   "id": "2247d7dc-1f8c-4a02-8ab0-086d9af91a9b",
   "metadata": {},
   "source": [
    "- we startes with an example old_list containing some elements .\n",
    "- we have an removing_element(44), that we want to remove from old_list by its value.\n",
    "- we use the remove() method to remove specific element from old_list.\n",
    "- after using the remove() operation,old_list will be updated with the specific element removed.\n",
    "- we print the new list by using the print() statements .\n",
    "\n"
   ]
  },
  {
   "cell_type": "markdown",
   "id": "a6f69106-7dc6-4d5e-8f0a-beca1e30e7a6",
   "metadata": {},
   "source": [
    "### 6. Remove an element from a list by its index."
   ]
  },
  {
   "cell_type": "code",
   "execution_count": 45,
   "id": "06c7fdaf-4a79-4fad-8e54-d9cc41d0c25f",
   "metadata": {},
   "outputs": [
    {
     "name": "stdout",
     "output_type": "stream",
     "text": [
      "new list [42, 43, 45, 46]\n"
     ]
    }
   ],
   "source": [
    "list_=[42,43,44,45,46]\n",
    "\n",
    "removing_element=44\n",
    "\n",
    "list_.pop(2)\n",
    "\n",
    "print(\"new list\",list_)"
   ]
  },
  {
   "cell_type": "markdown",
   "id": "2927872d-28db-4a90-9588-280c97520bea",
   "metadata": {},
   "source": [
    "- we startes with an example list_ containing some elements .\n",
    "- we have an removing_element(44), that we want to remove from list_ by particular index value .\n",
    "- we use the pop() method to remove specific element from list_ from  perticular index.\n",
    "- after using the pop() operation,list_ will be updated with the particuler index element removed.\n",
    "- we print the new list by using the print() statements .\n",
    "\n"
   ]
  },
  {
   "cell_type": "markdown",
   "id": "29020287-5353-47ef-bc2e-3b37b8f0c4c9",
   "metadata": {},
   "source": [
    "### 7. Check if an element exists in a list."
   ]
  },
  {
   "cell_type": "code",
   "execution_count": 51,
   "id": "8a7ea8cd-77b2-4ff4-8593-ceb2c88c6e9a",
   "metadata": {},
   "outputs": [
    {
     "name": "stdout",
     "output_type": "stream",
     "text": [
      "cheking element is present inside list 40\n"
     ]
    }
   ],
   "source": [
    "my_list = [40,41,42,43,45]\n",
    "\n",
    "cheking_element = 40\n",
    "\n",
    "if cheking_element in my_list:\n",
    "    print(\"cheking element is present inside list\",cheking_element)\n",
    "else:\n",
    "        print(\"cheking element is not present inside list\",cheking_element)"
   ]
  },
  {
   "cell_type": "markdown",
   "id": "d00049cf-31f5-4cac-9a8a-e3c4b42507b0",
   "metadata": {},
   "source": [
    "- we startes with an example my_list contains some elements .\n",
    "- we have an cheking_element ,that we want to check the cheking_element present inside the list or not .\n",
    "- we use the if function to check the cheking_element is present inside my_list or not ,if cheking element is present inside my_list then print the cheking elemet is present inside the list ,else not function will be print .\n",
    "\n"
   ]
  },
  {
   "cell_type": "markdown",
   "id": "2f18a46d-ccb3-4f7e-9196-f9b2d974d924",
   "metadata": {},
   "source": [
    "### 8. Find the index of the first occurrence of an element in a list."
   ]
  },
  {
   "cell_type": "code",
   "execution_count": 62,
   "id": "b5985750-bbf1-4a7f-8b11-0249cd3884f6",
   "metadata": {},
   "outputs": [
    {
     "name": "stdout",
     "output_type": "stream",
     "text": [
      "the index of the first occurrence of an element in a list 1\n"
     ]
    }
   ],
   "source": [
    "my_list = [40,41,42,43,45,41,42,45]\n",
    "\n",
    "index_of_the_first_occurrence = 41\n",
    "\n",
    "index = my_list.index(index_of_the_first_occurrence)\n",
    "\n",
    "print(\"the index of the first occurrence of an element in a list\",index)"
   ]
  },
  {
   "cell_type": "markdown",
   "id": "36cbe9bf-6465-489d-b151-0902a08493e7",
   "metadata": {},
   "source": [
    "- We start with an example list my_list containing some elements.\n",
    "- We specify the element for which we want to find the index using the index_of_the_first_occurrence.\n",
    "- We use the index() method on the list to find the index of the first occurrence of the index_of_the_first_occurrence.\n",
    "- We print the index using the print() statement."
   ]
  },
  {
   "cell_type": "markdown",
   "id": "236d2b22-b829-433c-80c7-02215a4c2995",
   "metadata": {},
   "source": [
    "### 9. Count the occurrences of an element in a list."
   ]
  },
  {
   "cell_type": "code",
   "execution_count": 65,
   "id": "3bb47e43-1550-4714-8d26-63c6862d5fea",
   "metadata": {},
   "outputs": [
    {
     "name": "stdout",
     "output_type": "stream",
     "text": [
      "the index of the first occurrence of an element in a list 2\n"
     ]
    }
   ],
   "source": [
    "my_list = [40,41,42,43,45,41,42,45]\n",
    "\n",
    "index_of_the_first_occurrence = 41\n",
    "\n",
    "index = my_list.count(index_of_the_first_occurrence)\n",
    "\n",
    "print(\"the index of the first occurrence of an element in a list\",index)"
   ]
  },
  {
   "cell_type": "markdown",
   "id": "b245ca4e-2f00-447a-bc5e-65de7608e99d",
   "metadata": {},
   "source": [
    "- We start with an example list my_list containing some elements.\n",
    "- We specify the element for which we want to count the occurrences of an element using the index_of_the_first_occurrence.\n",
    "- We use the count() method on the list to find the occurrence of the index_of_the_first_occurrence.\n",
    "- We print the index using the print() statement."
   ]
  },
  {
   "cell_type": "markdown",
   "id": "d3682f70-01f5-43d4-bfbf-e4b586447238",
   "metadata": {},
   "source": [
    "### 10. Reverse the order of elements in a list."
   ]
  },
  {
   "cell_type": "code",
   "execution_count": 4,
   "id": "0238d970-32cf-49be-9e6a-809e0b2e23f2",
   "metadata": {},
   "outputs": [
    {
     "name": "stdout",
     "output_type": "stream",
     "text": [
      "[45, 42, 41, 45, 43, 42, 41, 40]\n"
     ]
    }
   ],
   "source": [
    "my_list = [40,41,42,43,45,41,42,45]\n",
    "\n",
    "my_list.reverse()\n",
    "\n",
    "print(my_list)"
   ]
  },
  {
   "cell_type": "markdown",
   "id": "f7f93dc6-10bc-4543-b663-5e55ffc7ed38",
   "metadata": {},
   "source": [
    "- We start with an example list my_list containing some elements.\n",
    "- we using the reverse() functio to reverse the string.\n",
    "- finally print the list using print() statements "
   ]
  },
  {
   "cell_type": "markdown",
   "id": "2b7cb951-7bf4-41ef-9907-e27a98184822",
   "metadata": {},
   "source": [
    "### 11. Sort a list in ascending order."
   ]
  },
  {
   "cell_type": "code",
   "execution_count": 5,
   "id": "625c415e-6c9a-451f-adf9-2e6de7f53d31",
   "metadata": {},
   "outputs": [
    {
     "name": "stdout",
     "output_type": "stream",
     "text": [
      "[40, 41, 41, 42, 42, 43, 45, 45]\n"
     ]
    }
   ],
   "source": [
    "my_list = [40,41,42,43,45,41,42,45]\n",
    "\n",
    "my_list.sort()\n",
    "\n",
    "print(my_list)"
   ]
  },
  {
   "cell_type": "markdown",
   "id": "28507de7-8385-49cf-965b-9f4ba965cd3d",
   "metadata": {},
   "source": [
    "- we starts with an example list my_list containing some elements .\n",
    "- we use the sort() method on the list to sort the elements in ascending order in-place .\n",
    "- after the sort() operation the my_list will be updated with the elements sorted in ascending order.\n",
    "- we print the sorted list using the print() method .\n"
   ]
  },
  {
   "cell_type": "markdown",
   "id": "f5764a84-de2a-4596-a1f8-c7ebe5aeda2e",
   "metadata": {},
   "source": [
    "### 12. Sort a list in descending order."
   ]
  },
  {
   "cell_type": "code",
   "execution_count": 6,
   "id": "86d41b12-9c50-43e8-a6df-9a7f30189283",
   "metadata": {},
   "outputs": [
    {
     "name": "stdout",
     "output_type": "stream",
     "text": [
      "[45, 45, 43, 42, 42, 41, 41, 40]\n"
     ]
    }
   ],
   "source": [
    "my_list = [40,41,42,43,45,41,42,45]\n",
    "\n",
    "my_list.sort(reverse=True)\n",
    "\n",
    "print(my_list)"
   ]
  },
  {
   "cell_type": "markdown",
   "id": "b1bc4f96-f1c5-4bd3-b398-9184c3073f49",
   "metadata": {},
   "source": [
    "- we starts with an example list my_list containing some elements .\n",
    "- we use the sort() method on the list with reverse parameter set to True to sort the elements in descending order in - place .\n",
    "- after the sort() operation the my_list will be updated with the elements sorted in descending order .\n"
   ]
  },
  {
   "cell_type": "markdown",
   "id": "feb796cd-292b-40d1-a760-65c1bba8a569",
   "metadata": {},
   "source": [
    "### 13. Create a list of even numbers from 1 to 20."
   ]
  },
  {
   "cell_type": "code",
   "execution_count": 16,
   "id": "bfaec1fd-5588-4612-ac1f-ba91a44c72b8",
   "metadata": {},
   "outputs": [
    {
     "name": "stdout",
     "output_type": "stream",
     "text": [
      "[2, 4, 6, 8, 10, 12, 14, 16, 18, 20]\n"
     ]
    }
   ],
   "source": [
    "list_of_numbers=[i for i in range(2,21,2)]\n",
    "\n",
    "print(list_of_numbers)\n",
    "\n",
    "    "
   ]
  },
  {
   "cell_type": "markdown",
   "id": "a5961813-1d5e-4a7e-9006-8f4d5e18aa86",
   "metadata": {},
   "source": [
    "- we use th list comprihension to genrate the even number from 1 to 20\n",
    "- the expression [i from i in range(2,21,2)] iterates over the range of numbers from 2 - 20 with a step of 2 (to include only even number )\n",
    "- for each even number x in range it adds x to the list .\n",
    "- the resulting list store in the list_of_numbers.\n",
    "- we print the result using the print() statements .\n"
   ]
  },
  {
   "cell_type": "markdown",
   "id": "9d48c22a-0f7f-4b52-80d1-10b053e70e18",
   "metadata": {},
   "source": [
    "### 14. Create a list of odd numbers from 1 to 20."
   ]
  },
  {
   "cell_type": "code",
   "execution_count": 24,
   "id": "d66ecc4c-d6c7-4a13-9c16-5f394554cf2a",
   "metadata": {},
   "outputs": [
    {
     "name": "stdout",
     "output_type": "stream",
     "text": [
      "[1, 3, 5, 7, 9, 11, 13, 15, 17, 19]\n"
     ]
    }
   ],
   "source": [
    "list_of_odd_numbers=[i for i in range(1,21,2)]\n",
    "\n",
    "print(list_of_odd_numbers)\n",
    "\n",
    "    "
   ]
  },
  {
   "cell_type": "markdown",
   "id": "0180d2dc-ea9c-4c5b-a71e-54c6793761da",
   "metadata": {},
   "source": [
    "- we use th list comprihension to genrate the odd number from 1 to 20\n",
    "- the expression [i from i in range(1,21,2)] iterates over the range of numbers from 2 - 20 with a step of 2 (to include only odd number )\n",
    "- for each odd number x in range it adds x to the list .\n",
    "- the resulting list store in the list_of_odd_numbers.\n",
    "- we print the result using the print() statements .\n"
   ]
  },
  {
   "cell_type": "markdown",
   "id": "93b1da76-bedc-4b1e-86c0-070299ab3174",
   "metadata": {},
   "source": [
    "### 15. Find the sum of all elements in a list."
   ]
  },
  {
   "cell_type": "code",
   "execution_count": 27,
   "id": "23f35d11-c5fd-496c-a89c-cfddcfd8ceb3",
   "metadata": {},
   "outputs": [
    {
     "name": "stdout",
     "output_type": "stream",
     "text": [
      "215\n"
     ]
    }
   ],
   "source": [
    "my_list = [41,42,43,44,45]\n",
    "\n",
    "total_sum = sum(my_list)\n",
    "\n",
    "print(total_sum)"
   ]
  },
  {
   "cell_type": "markdown",
   "id": "d7edb8ff-ecd1-44c2-8097-7341b67f206b",
   "metadata": {},
   "source": [
    "- we startes with the list example contains some elements .\n",
    "- we use the sum function for the sumation of each element and store in the variable of total_sum .\n",
    "- we use the print() statements to print the total_sum ."
   ]
  },
  {
   "cell_type": "markdown",
   "id": "9b2f121e-bda5-485f-992f-9a971accfe0d",
   "metadata": {},
   "source": [
    "### 16. Find the maximum value in a list."
   ]
  },
  {
   "cell_type": "code",
   "execution_count": 29,
   "id": "87f2f07a-dbcb-453f-aaa1-5e1d9610889e",
   "metadata": {},
   "outputs": [
    {
     "name": "stdout",
     "output_type": "stream",
     "text": [
      "maximum value in list  45\n"
     ]
    }
   ],
   "source": [
    "my_list = [41,42,43,44,45]\n",
    "\n",
    "maximum_value = max(my_list)\n",
    "\n",
    "print(\"maximum value in list \",maximum_value)"
   ]
  },
  {
   "cell_type": "markdown",
   "id": "12fdc07f-1f6e-4f73-9ca5-29b680204858",
   "metadata": {},
   "source": [
    "- we startes with the list example contains some elements .\n",
    "- we use the max function to check the maximum value in my_list.\n",
    "- we use the print() statements to print maximum value ."
   ]
  },
  {
   "cell_type": "markdown",
   "id": "2149d147-7638-40d2-9b48-c497fcabf9c1",
   "metadata": {},
   "source": [
    "### 17. Find the minimum value in a list."
   ]
  },
  {
   "cell_type": "code",
   "execution_count": 31,
   "id": "a884985b-eaf1-4cd5-b86c-058ab176e321",
   "metadata": {},
   "outputs": [
    {
     "name": "stdout",
     "output_type": "stream",
     "text": [
      "maximum value in list  41\n"
     ]
    }
   ],
   "source": [
    "my_list = [41,42,43,44,45]\n",
    "\n",
    "minimum_value = min(my_list)\n",
    "\n",
    "print(\"maximum value in list \",minimum_value)"
   ]
  },
  {
   "cell_type": "markdown",
   "id": "83ecb19a-337f-4153-950a-62f35401b16a",
   "metadata": {},
   "source": [
    "- we startes with the list example contains some elements .\n",
    "- we use the min function to check the minimum value in my_list.\n",
    "- we use the print() statements to print maximum value ."
   ]
  },
  {
   "cell_type": "markdown",
   "id": "7e1e4e4f-561a-4d9a-8035-2583b108267d",
   "metadata": {},
   "source": [
    "### 18. Create a list of squares of numbers from 1 to 10."
   ]
  },
  {
   "cell_type": "code",
   "execution_count": 34,
   "id": "ac3c63b0-d047-4ef6-bdf5-e2c7cf7ba1d6",
   "metadata": {},
   "outputs": [
    {
     "name": "stdout",
     "output_type": "stream",
     "text": [
      "[1, 4, 9, 16, 25, 36, 49, 64, 81]\n"
     ]
    }
   ],
   "source": [
    "list_of_sqares_of_numbers =[ i**2 for i in range(1,10,)]\n",
    "\n",
    "print(list_of_sqares_of_numbers)"
   ]
  },
  {
   "cell_type": "markdown",
   "id": "a0b351f9-f2ba-4100-8634-efbc05537569",
   "metadata": {},
   "source": [
    "- we startes with the list comprehension to generate the list of squares .\n",
    "- the expression ` list_of_sqares_of_numbers =[ i**2 for i in range(1,10,)] `: iterates over the range of number from 1-10\n",
    "- for each number i in the range calculate i**2 and add in the list \n",
    "- we use the print() statements to print square of the value ."
   ]
  },
  {
   "cell_type": "markdown",
   "id": "d4dfa100-545a-4fba-af4b-e0c3aa049628",
   "metadata": {},
   "source": [
    "### 19. Create a list of random numbers."
   ]
  },
  {
   "cell_type": "code",
   "execution_count": 45,
   "id": "7bdb64b7-5836-4cd1-b4ba-d65b2dba51a8",
   "metadata": {},
   "outputs": [
    {
     "name": "stdout",
     "output_type": "stream",
     "text": [
      "example 1st random list of floating points  [0.8173316019642098, 0.02154129141819927, 0.03467096975628303, 0.36805687654344277, 0.4158374277856415, 0.7336927839706653, 0.3696871192101071, 0.203343967320325, 0.5295531902181986, 0.5204634453419135]\n",
      "example 2nd random list of numbers [20, 46, 24, 56, 197, 57, 112, 179, 50, 13, 167, 55, 185, 64, 77, 15, 65, 141, 132, 115]\n"
     ]
    }
   ],
   "source": [
    "import random \n",
    "#example 1st random list of floating points \n",
    "\n",
    "random_floating_point = [ random.random() for i in range(10)]\n",
    "\n",
    "##example 2nd random list of intesers \n",
    "\n",
    "random_intesers = [ random.randint(1,200) for i in range(20)]\n",
    "\n",
    "print(\"example 1st random list of floating points \",random_floating_point)\n",
    "print(\"example 2nd random list of numbers\",random_intesers)"
   ]
  },
  {
   "cell_type": "markdown",
   "id": "71906b7c-42a9-4df9-bbda-e7c40724155f",
   "metadata": {},
   "source": [
    "- we startes with the random module at the bigning of the code .\n",
    "- use a list comprehension to genrate the list of random numbers .\n",
    "- we takes the two example in 1st example the expression [random.random() for i in range(10)] genrate a list 10 floating point numbers .\n",
    "- in 2nd example the expression [ random.randint(1,200) for i in range(20)] genrate a list 20 inteser number.\n",
    "- we use the print() statements for print the random numbers ."
   ]
  },
  {
   "cell_type": "markdown",
   "id": "9a54c606-4895-4522-8d2a-2bfc405e2c5f",
   "metadata": {},
   "source": [
    "### 20. Remove duplicates from a list."
   ]
  },
  {
   "cell_type": "code",
   "execution_count": 52,
   "id": "19671569-7ee9-44ec-ae52-11f786478669",
   "metadata": {},
   "outputs": [
    {
     "name": "stdout",
     "output_type": "stream",
     "text": [
      "removed duplicate list [1, 2, 4, 5, 6, 7, 8, 9]\n"
     ]
    }
   ],
   "source": [
    "list_=[1,2,1,4,5,6,5,8,8,9,7,9]\n",
    "\n",
    "#we convert list_ into set and then convert set into list \n",
    "\n",
    "remove_duplicate = list(set(list_))\n",
    "\n",
    "                        \n",
    "print(\"removed duplicate list\",remove_duplicate)"
   ]
  },
  {
   "cell_type": "markdown",
   "id": "db61704c-795e-42e6-a924-033aa7492aa4",
   "metadata": {},
   "source": [
    "- we starte with the list example contains some elemnets .\n",
    "- we use the set function to convert the list into set b/c set function not allows dublicay of elements .\n",
    "- after using the set function we use the list function to convert the set into list b/c removes dublicate from a list .\n",
    "- we print the removed duplicate list using the print() statements ."
   ]
  },
  {
   "cell_type": "markdown",
   "id": "27fa4006-75fa-44a6-be23-f53563cb9a2a",
   "metadata": {},
   "source": [
    "### 21. Find the common elements between two lists."
   ]
  },
  {
   "cell_type": "code",
   "execution_count": 93,
   "id": "98f17c84-dc9c-4dfb-a68d-035177243981",
   "metadata": {},
   "outputs": [
    {
     "name": "stdout",
     "output_type": "stream",
     "text": [
      "the common elements in the two lists are : [1, 2, 4, 5]\n"
     ]
    }
   ],
   "source": [
    "def common_member(a,b):\n",
    "    result = [i for i in a if i in b]\n",
    "    return result\n",
    "a = [1,2,3,4,5,8,8]\n",
    "b = [1,9,6,2,4,7,5]\n",
    "\n",
    "print(\"the common elements in the two lists are :\",common_member(a,b))"
   ]
  },
  {
   "cell_type": "markdown",
   "id": "8c3ad58c-fd31-4bf3-ae3a-3126b15d97f1",
   "metadata": {},
   "source": [
    "- we define function that takes two arguments(a,b),(that we want to check the common element in the two list .\n",
    "- ` result = [i for i in a if i in b]`: we use the for loop to iterate a each common element in the list . \n",
    "- we use the two list for comparision of both list .\n",
    "- we return a result .\n",
    "- we use the print() statements to print the common element list. "
   ]
  },
  {
   "cell_type": "markdown",
   "id": "6c3a62b6-8ac0-4d5a-8a73-14cadb9c2763",
   "metadata": {},
   "source": [
    "### 22. Find the difference between two lists."
   ]
  },
  {
   "cell_type": "code",
   "execution_count": 92,
   "id": "05c137eb-40a4-439c-ab89-e0f312c1ae11",
   "metadata": {},
   "outputs": [
    {
     "name": "stdout",
     "output_type": "stream",
     "text": [
      "[3, 8]\n"
     ]
    }
   ],
   "source": [
    "a = [1,2,3,4,5,8,8]\n",
    "b = [1,9,6,2,4,7,5]\n",
    "\n",
    "result = list(set(a).difference(b))\n",
    "              \n",
    "print(result)\n",
    "              "
   ]
  },
  {
   "cell_type": "markdown",
   "id": "d5eff099-24a5-41bc-9ec1-1736ba9084fc",
   "metadata": {},
   "source": [
    "- we startes with the example lists a and b which contains some elements .\n",
    "- we use the difrence() method on the set created from list a to find the elememts that are not present inlist b.\n",
    "- we convert the resulting set back to a list using list() constructor to get the diffrence .\n",
    "- the resulting list of diffrence store in the result variable .\n",
    "- we print the diffrence by using the print() statements .\n"
   ]
  },
  {
   "cell_type": "markdown",
   "id": "616ed419-c9ac-4e56-a7a5-6307de0ba13b",
   "metadata": {},
   "source": [
    "### 23. Merge two lists."
   ]
  },
  {
   "cell_type": "code",
   "execution_count": 89,
   "id": "e309adff-def8-479f-adfd-6a7022c97469",
   "metadata": {},
   "outputs": [
    {
     "name": "stdout",
     "output_type": "stream",
     "text": [
      "merg list [1, 2, 3, 4, 5, 8, 8, 1, 9, 6, 2, 4, 7, 5]\n"
     ]
    }
   ],
   "source": [
    "a = [1,2,3,4,5,8,8]\n",
    "b = [1,9,6,2,4,7,5]\n",
    "\n",
    "merg_list =a+b\n",
    "\n",
    "print(\"merg list\",merg_list)"
   ]
  },
  {
   "cell_type": "markdown",
   "id": "374bc844-dcf8-4e46-b5a0-a3370ed5c4e7",
   "metadata": {},
   "source": [
    "- we startes with the example of list a and b (that we want to merg to a and b together ).\n",
    "- we use the addition parametor to merg the list a and b.\n",
    "- we print the merg list by using the print() statements .\n"
   ]
  },
  {
   "cell_type": "markdown",
   "id": "f0555851-f635-42b8-a093-f2f9aa5ab31b",
   "metadata": {},
   "source": [
    "### 24. Multiply all elements in a list by 2."
   ]
  },
  {
   "cell_type": "code",
   "execution_count": 91,
   "id": "dbb61bb9-c0b3-40f3-8ac8-b7aa9edcaa1e",
   "metadata": {},
   "outputs": [
    {
     "name": "stdout",
     "output_type": "stream",
     "text": [
      "multiplyed list : [1, 4, 9, 16, 25, 64, 64]\n"
     ]
    }
   ],
   "source": [
    "list_ = [1,2,3,4,5,8,8]\n",
    "\n",
    "multiplyed_list = [ i**2 for i in list_]\n",
    "\n",
    "print(\"multiplyed list :\",multiplyed_list)"
   ]
  },
  {
   "cell_type": "markdown",
   "id": "a9904931-849a-4272-9ffb-524c853e0b42",
   "metadata": {},
   "source": [
    "- we startes with example of list contains some elements , that we want to multiplyed by 2\n",
    "- we use a list comprihension to iterate through each element in list_\n",
    "- for each element we multiyed by 2 (i**2) and add the result in the multiplyed_list.\n",
    "- We print the multiplied list using the print() statement."
   ]
  },
  {
   "cell_type": "markdown",
   "id": "594bb3d7-1a65-46d3-ab06-3d781ccf46db",
   "metadata": {},
   "source": [
    "### 25. Filter out all even numbers from a list."
   ]
  },
  {
   "cell_type": "code",
   "execution_count": 11,
   "id": "d8d71658-0c72-47b0-89d2-ec743d277d5a",
   "metadata": {},
   "outputs": [
    {
     "name": "stdout",
     "output_type": "stream",
     "text": [
      "2\n",
      "4\n",
      "8\n",
      "8\n"
     ]
    }
   ],
   "source": [
    "list_ = [1,2,3,4,5,8,8]\n",
    "\n",
    "for i in list_:\n",
    "    if i%2==0:\n",
    "        print(i)"
   ]
  },
  {
   "cell_type": "markdown",
   "id": "1dd45527-1338-4cb6-9996-b79a13c1f161",
   "metadata": {},
   "source": [
    "- we starts example list_ that takes some elements .\n",
    "- we use the for loop for iterate one by one one by one even numbers from a list over their if condition .\n",
    "- we stores even numbers inside the i \n",
    "- we print the even numbers using the print() statements .\n"
   ]
  },
  {
   "cell_type": "markdown",
   "id": "161de811-f3bc-4161-a43e-02744d2eb2a1",
   "metadata": {},
   "source": [
    "### 27. Convert a list of integers to a list of strings."
   ]
  },
  {
   "cell_type": "code",
   "execution_count": 45,
   "id": "c888e46b-c63b-45e2-aa1d-46c1d7b7653b",
   "metadata": {},
   "outputs": [
    {
     "name": "stdout",
     "output_type": "stream",
     "text": [
      "list of string: ['1', '2', '3', '4', '5', '6']\n"
     ]
    }
   ],
   "source": [
    "list_of_integers = [1 ,2 ,3, 4, 5, 6]\n",
    "\n",
    "list_of_string = [str(i) for i in list_of_integers]\n",
    "      \n",
    "\n",
    "print(\"list of string:\",list_of_string)"
   ]
  },
  {
   "cell_type": "markdown",
   "id": "6b703042-c686-45b7-b100-dc2534152e92",
   "metadata": {},
   "source": [
    "- we startes with the example of intgser list that takes some integer data.\n",
    "- for each integer we use the str() function to convert integer list to string list .\n",
    "- we use the list comprehension to iterate through each intger in list_of_integers.\n",
    "- the resulting list of string is stored in the variable list_of_string.\n",
    "- we print the list of string by using the print() statements.\n"
   ]
  },
  {
   "cell_type": "markdown",
   "id": "71f5a112-9918-4e8b-af89-e75b728a942a",
   "metadata": {},
   "source": [
    "### 28. Flatten a nested list."
   ]
  },
  {
   "cell_type": "code",
   "execution_count": 46,
   "id": "84d68249-080e-4298-9452-970ebe9a9562",
   "metadata": {},
   "outputs": [
    {
     "name": "stdout",
     "output_type": "stream",
     "text": [
      "Flattened list: [1, 2, 3, 4, 5, 6, 7, 8, 9]\n"
     ]
    }
   ],
   "source": [
    "# Example nested list\n",
    "nested_list = [[1, 2, 3], [4, 5], [6, 7, 8, 9]]\n",
    "\n",
    "# Function to flatten a nested list\n",
    "def flatten_list(nested):\n",
    "    flattened = []\n",
    "    for sublist in nested:\n",
    "        if isinstance(sublist, list):\n",
    "            flattened.extend(flatten_list(sublist))\n",
    "        else:\n",
    "            flattened.append(sublist)\n",
    "    return flattened\n",
    "\n",
    "# Flatten the nested list\n",
    "flattened_list = flatten_list(nested_list)\n",
    "\n",
    "# Print the flattened list\n",
    "print(\"Flattened list:\", flattened_list)"
   ]
  },
  {
   "cell_type": "markdown",
   "id": "e351c2c2-fbf9-4c5b-bdd0-e63d53527473",
   "metadata": {},
   "source": [
    "- We start with an example nested list nested_list containing sublists.\n",
    "- We define a function flatten_list() that takes a nested list as an argument.\n",
    "- Inside the function, we initialize an empty list called flattened to store the flattened elements.\n",
    "- We iterate through each element in the nested list.\n",
    "- If an element is a sublist (i.e., it's an instance of the list type), we recursively call the flatten_list() function on that sublist and extend the flattened list with its flattened contents.\n",
    "- If an element is not a sublist, we directly append it to the flattened list.\n",
    "- After processing all elements, the function returns the flattened list.\n",
    "We call the flatten_list() function on the nested_list to get the flattened list.\n",
    "- We print the flattened list using the print() statement."
   ]
  },
  {
   "cell_type": "markdown",
   "id": "f496e8ed-f33a-40d8-998a-b56899e04795",
   "metadata": {},
   "source": [
    "### 29. Create a list of the first 10 Fibonacci numbers."
   ]
  },
  {
   "cell_type": "code",
   "execution_count": 47,
   "id": "92c356f8-1beb-49c7-a4f4-b58a591920cb",
   "metadata": {},
   "outputs": [
    {
     "name": "stdout",
     "output_type": "stream",
     "text": [
      "First 10 Fibonacci numbers: [0, 1]\n"
     ]
    }
   ],
   "source": [
    "# Function to generate the first n Fibonacci numbers\n",
    "def generate_fibonacci(n):\n",
    "    fibonacci_list = [0, 1]  # Initialize the list with the first two Fibonacci numbers\n",
    "\n",
    "    for i in range(2, n):\n",
    "        next_fibonacci = fibonacci_list[i - 1] + fibonacci_list[i - 2]\n",
    "        fibonacci_list.append(next_fibonacci)\n",
    "\n",
    "    return fibonacci_list\n",
    "\n",
    "# Generate the first 10 Fibonacci numbers\n",
    "fibonacci_numbers = generate_fibonacci(2)\n",
    "\n",
    "# Print the list of Fibonacci numbers\n",
    "print(\"First 10 Fibonacci numbers:\", fibonacci_numbers)"
   ]
  },
  {
   "cell_type": "markdown",
   "id": "6166f754-0dd4-4d21-bc61-b65dc9bb8f0d",
   "metadata": {},
   "source": [
    "- We define a function generate_fibonacci() that takes the parameter n to determine how many Fibonacci numbers to generate.\n",
    "- Inside the function, we initialize a list called fibonacci_list with the first two Fibonacci numbers: 0 and 1.\n",
    "- We use a loop that starts from the third Fibonacci number (index 2) up to the desired count n.\n",
    "- In each iteration, we calculate the next Fibonacci number by adding the last two numbers in the fibonacci_list.\n",
    "- We append the next Fibonacci number to the fibonacci_list.\n",
    "- After generating all Fibonacci numbers, the function returns the fibonacci_list.\n",
    "- We call the generate_fibonacci() function with the argument 10 to generate the first 10 Fibonacci numbers.\n",
    "- We print the list of Fibonacci numbers using the print() statement."
   ]
  },
  {
   "cell_type": "markdown",
   "id": "2f141518-c172-4a92-8973-46fd2336eec6",
   "metadata": {},
   "source": [
    "### 30. Check if a list is sorted.\n",
    "  \n",
    "  - Checking for ascending order:"
   ]
  },
  {
   "cell_type": "code",
   "execution_count": 48,
   "id": "6099323d-40e9-492d-b880-9388af6be6da",
   "metadata": {},
   "outputs": [
    {
     "name": "stdout",
     "output_type": "stream",
     "text": [
      "the list is sorted in ascending order.\n"
     ]
    }
   ],
   "source": [
    "def is_sorted_ascending(lst):\n",
    "    for i in range (1,len(lst)):\n",
    "        if lst[i]<lst[i-1]:\n",
    "            return False\n",
    "        return True \n",
    "ascending_list = [10,20,30,40,50]\n",
    "if is_sorted_ascending(ascending_list):\n",
    "    print(\"the list is sorted in ascending order.\")\n",
    "else:\n",
    "    print(\"the list is not sort in ascending order.\")\n",
    "                    "
   ]
  },
  {
   "cell_type": "markdown",
   "id": "cabcec46-3b38-4dde-8d7e-ac8f32d324c0",
   "metadata": {},
   "source": [
    "- We define a function is_sorted_ascending() that takes a list lst as an argument.\n",
    "- Inside the function, we iterate through the list starting from the second element (i = 1) up to the last element.\n",
    "- In each iteration, we compare the current element with the previous element (lst[i] < lst[i - 1]). If it's smaller, it indicates the list is not sorted in ascending order.\n",
    "- If the loop completes without finding any out-of-order elements, the function returns True, indicating that the list is sorted in ascending order."
   ]
  },
  {
   "cell_type": "markdown",
   "id": "bd16049c-ceda-45f7-b9f8-b536dad81b7d",
   "metadata": {},
   "source": [
    "### 31. Rotate a list to the left by `n` positions."
   ]
  },
  {
   "cell_type": "code",
   "execution_count": 49,
   "id": "7db28425-c90c-4980-8d29-fd5d537653b2",
   "metadata": {},
   "outputs": [
    {
     "name": "stdout",
     "output_type": "stream",
     "text": [
      "Rotated list: [3, 4, 5, 6, 1, 2]\n"
     ]
    }
   ],
   "source": [
    "# Function to rotate a list to the left by n positions\n",
    "def rotate_left(lst, n):\n",
    "    n = n % len(lst)  # Normalize n to handle cases where n is larger than the list length\n",
    "    # print(n)\n",
    "    rotated = lst[n:] + lst[:n]\n",
    "    return rotated\n",
    "\n",
    "# Example list\n",
    "my_list = [1, 2, 3, 4, 5, 6]\n",
    "\n",
    "# Number of positions to rotate by\n",
    "n = 2\n",
    "\n",
    "# Rotate the list to the left by n positions\n",
    "rotated_list = rotate_left(my_list, n)\n",
    "\n",
    "# Print the rotated list\n",
    "print(\"Rotated list:\", rotated_list)"
   ]
  },
  {
   "cell_type": "markdown",
   "id": "406c2848-5646-4d8f-9e94-2b25671465c2",
   "metadata": {},
   "source": [
    "- We define a function rotate_left() that takes a list lst and the number of positions n as arguments.\n",
    "- Inside the function, we normalize n by taking the modulo of n with the length of the list. This handles cases where n is larger than the list length.\n",
    "- We use list slicing to create the rotated list. We take elements from position n to the end (lst[n:]) and concatenate it with elements from the beginning to position n (lst[:n]).\n",
    "- The resulting rotated list represents the original list rotated to the left by n positions.\n",
    "- We return the rotated list from the function.\n",
    "- In the example code, we have an example list my_list and specify the number of positions n to rotate by.\n",
    "- We call the rotate_left() function to get the rotated list.\n",
    "- We print the rotated list using the print() statement."
   ]
  },
  {
   "cell_type": "markdown",
   "id": "97eabcdf-8668-43ee-ada6-9da99836a78f",
   "metadata": {},
   "source": [
    "### 32. Rotate a list to the right by `n` positions."
   ]
  },
  {
   "cell_type": "code",
   "execution_count": 50,
   "id": "4880a149-8389-4a9e-ae0f-2e35d7262d83",
   "metadata": {},
   "outputs": [
    {
     "name": "stdout",
     "output_type": "stream",
     "text": [
      "Rotated list: [5, 6, 1, 2, 3, 4]\n"
     ]
    }
   ],
   "source": [
    "# Function to rotate a list to the right by n positions\n",
    "def rotate_right(lst, n):\n",
    "    n = n % len(lst)  # Normalize n to handle cases where n is larger than the list length\n",
    "    # print(n)\n",
    "    rotated = lst[-n:] + lst[:-n]\n",
    "    return rotated\n",
    "\n",
    "# Example list\n",
    "my_list = [1, 2, 3, 4, 5, 6]\n",
    "\n",
    "# Number of positions to rotate by\n",
    "n = 2\n",
    "\n",
    "# Rotate the list to the right by n positions\n",
    "rotated_list = rotate_right(my_list, n)\n",
    "\n",
    "# Print the rotated list\n",
    "print(\"Rotated list:\", rotated_list)"
   ]
  },
  {
   "cell_type": "markdown",
   "id": "87b796ec-e0e8-4c23-afff-01aea7544f76",
   "metadata": {},
   "source": [
    "- We define a function rotate_right() that takes a list lst and the number of positions n as arguments.\n",
    "- Inside the function, we normalize n by taking the modulo of n with the length of the list. This handles cases where n is larger than the list length.\n",
    "- We use list slicing to create the rotated list. We take elements from the last n positions to the end (lst[-n:]) and concatenate it with elements from the beginning to the position n from the end (lst[:-n]).\n",
    "- The resulting rotated list represents the original list rotated to the right by n positions.\n",
    "- We return the rotated list from the function.\n",
    "- In the example code, we have an example list my_list and specify the number of positions n to rotate by.\n",
    "- We call the rotate_right() function to get the rotated list.\n",
    "- We print the rotated list using the print() statement."
   ]
  },
  {
   "cell_type": "markdown",
   "id": "a58e54f1-0d1e-43b4-85b7-21761bf17df8",
   "metadata": {},
   "source": [
    "### 33. Create a list of prime numbers up to 50."
   ]
  },
  {
   "cell_type": "code",
   "execution_count": 51,
   "id": "3318e5c3-aeba-4ce3-8232-0cc06abdaa7a",
   "metadata": {},
   "outputs": [
    {
     "name": "stdout",
     "output_type": "stream",
     "text": [
      "5 25\n",
      "5 29\n",
      "List of prime numbers up to 50: [2, 3, 5, 7, 11, 13, 17, 19, 23, 29]\n"
     ]
    }
   ],
   "source": [
    "# Function to check if a number is prime\n",
    "def is_prime(num):\n",
    "    if num <= 1:\n",
    "        return False\n",
    "    if num <= 3:\n",
    "        return True\n",
    "    if num % 2 == 0 or num % 3 == 0:\n",
    "        return False\n",
    "    i = 5\n",
    "    while i * i <= num:\n",
    "      print(i,num)\n",
    "      if num % i == 0 or num % (i + 2) == 0:\n",
    "          return False\n",
    "      i += 6\n",
    "    return True\n",
    "\n",
    "# Create a list of prime numbers up to 50\n",
    "prime_numbers = [num for num in range(2,30) if is_prime(num)]\n",
    "\n",
    "# Print the list of prime numbers\n",
    "print(\"List of prime numbers up to 50:\", prime_numbers)"
   ]
  },
  {
   "cell_type": "markdown",
   "id": "0d1942f2-04f7-4248-a126-696b66031b57",
   "metadata": {},
   "source": [
    "- We define a function is_prime() that takes a number num as an argument and returns True if the number is prime and False otherwise. The function uses a primality testing algorithm based on the fact that prime numbers greater than 3 can be written in the form 6k ± 1.\n",
    "- Inside the function, we handle some base cases (numbers less than or equal to 3), and then we use a loop to check divisibility by numbers in the form of 6k ± 1.\n",
    "- We define a list comprehension to generate the list of prime numbers. The comprehension iterates through the numbers from 2 to 50 and includes the number in the list if it is prime according to the is_prime() function.\n",
    "- The resulting list of prime numbers is stored in the variable prime_numbers.\n",
    "- We print the list of prime numbers using the print() statement."
   ]
  },
  {
   "cell_type": "markdown",
   "id": "1f35beaa-129b-4685-bc28-9553d9631252",
   "metadata": {},
   "source": [
    "### 34. Split a list into chunks of size `n`."
   ]
  },
  {
   "cell_type": "code",
   "execution_count": 52,
   "id": "31b83b22-906e-41b0-8b0f-daaf942e143d",
   "metadata": {},
   "outputs": [
    {
     "name": "stdout",
     "output_type": "stream",
     "text": [
      "List of prime numbers up to 50: [2, 3, 5, 7, 11, 13, 17, 19, 23, 29, 31, 37, 41, 43, 47]\n"
     ]
    }
   ],
   "source": [
    "# Create a list of prime numbers up to 50 using Sieve of Eratosthenes algorithm\n",
    "def sieve_of_eratosthenes(limit):\n",
    "    primes = []\n",
    "    is_prime = [True] * (limit + 1)\n",
    "    is_prime[0] = is_prime[1] = False\n",
    "\n",
    "    for num in range(2, int(limit ** 0.5) + 1):\n",
    "        if is_prime[num]:\n",
    "            primes.append(num)\n",
    "            for multiple in range(num * num, limit + 1, num):\n",
    "                is_prime[multiple] = False\n",
    "\n",
    "    for num in range(int(limit ** 0.5) + 1, limit + 1):\n",
    "        if is_prime[num]:\n",
    "            primes.append(num)\n",
    "\n",
    "    return primes\n",
    "\n",
    "# Create a list of prime numbers up to 50\n",
    "prime_numbers = sieve_of_eratosthenes(50)\n",
    "\n",
    "# Print the list of prime numbers\n",
    "print(\"List of prime numbers up to 50:\", prime_numbers)"
   ]
  },
  {
   "cell_type": "markdown",
   "id": "7a9ba094-f156-4357-a7b9-0ba5f7892445",
   "metadata": {},
   "source": [
    "- We define a function sieve_of_eratosthenes() that takes a limit as an argument and returns a list of prime numbers up to the limit.\n",
    "- Inside the function, we initialize two lists: primes to store the prime numbers and is_prime as a boolean list to mark whether a number is prime or not.\n",
    "- We iterate through the numbers from 2 to the square root of the limit. For each number, if it's marked as prime (is_prime[num] is True), we add it to the primes list and mark its multiples as not prime.\n",
    "- After the first loop, we iterate through the remaining numbers from the square root of the limit to the limit. If a number is marked as prime, we add it to the primes list.\n",
    "- We call the sieve_of_eratosthenes() function with the argument 50 to generate the list of prime numbers up to 50.\n",
    "- We print the list of prime numbers using the print() statement."
   ]
  },
  {
   "cell_type": "markdown",
   "id": "8478a5ab-adc4-4653-bec4-81bb1b9fae87",
   "metadata": {},
   "source": [
    "### 35. Find the second largest number in a list."
   ]
  },
  {
   "cell_type": "code",
   "execution_count": 53,
   "id": "54fa4891-ea9c-4585-b6b7-43d579696fcb",
   "metadata": {},
   "outputs": [
    {
     "name": "stdout",
     "output_type": "stream",
     "text": [
      "Second largest number: 25\n"
     ]
    }
   ],
   "source": [
    "# Example list\n",
    "my_list = [10, 5, 20, 15, 30, 25]\n",
    "\n",
    "# Remove duplicates and sort the list in ascending order\n",
    "sorted_list = sorted(set(my_list))\n",
    "\n",
    "# Find the second largest number\n",
    "if len(sorted_list) >= 2:\n",
    "    second_largest = sorted_list[-2]\n",
    "    print(\"Second largest number:\", second_largest)\n",
    "else:\n",
    "    print(\"The list does not contain enough elements.\")"
   ]
  },
  {
   "cell_type": "markdown",
   "id": "e7d8dadd-e65a-40f7-9785-3caabf684f37",
   "metadata": {},
   "source": [
    "- We start with an example list my_list containing numbers.\n",
    "- We remove duplicates from the list using the set() function.\n",
    "- We sort the list in ascending order using the sorted() function.\n",
    "- We check if the sorted list has at least two elements. If it does, we access the second-to-last element using negative indexing (sorted_list[-2]) to get the second largest number.\n",
    "- If the list has fewer than two elements, we print a message indicating that the list does not contain enough elements to find the second largest.\n",
    "- We print the second largest number using the print() statement."
   ]
  },
  {
   "cell_type": "markdown",
   "id": "0aff2c6e-4d67-4944-9f8e-6eb34886e810",
   "metadata": {},
   "source": [
    "### 36. Replace every element in a list with its square."
   ]
  },
  {
   "cell_type": "code",
   "execution_count": 60,
   "id": "9538983d-72fc-4a7b-8306-5927dd3d024f",
   "metadata": {},
   "outputs": [
    {
     "name": "stdout",
     "output_type": "stream",
     "text": [
      "sqared list : [100, 25, 400, 225, 900, 625]\n"
     ]
    }
   ],
   "source": [
    "my_list = [10, 5, 20, 15, 30, 25]\n",
    "\n",
    "square_list = [i**2 for i in my_list]\n",
    "\n",
    "print(\"sqared list :\",square_list)"
   ]
  },
  {
   "cell_type": "markdown",
   "id": "40a5a037-5e26-44ad-a347-b10c96403e91",
   "metadata": {},
   "source": [
    "- we startes with list example taht takes some elemnets .\n",
    "- we use the list comprehension to square of each element in list \n",
    "- we print the sqare of list by using the print() statements \n"
   ]
  },
  {
   "cell_type": "markdown",
   "id": "0b85bb85-b107-4ddf-971c-f9278500475c",
   "metadata": {},
   "source": [
    "### 37. Convert a list to a dictionary where list elements become keys and their indices become values."
   ]
  },
  {
   "cell_type": "code",
   "execution_count": 67,
   "id": "f365cde2-9add-4e3b-9d55-4266eec0e777",
   "metadata": {},
   "outputs": [
    {
     "name": "stdout",
     "output_type": "stream",
     "text": [
      "{0: 'name', 1: 'rool no', 2: 'seat no'}\n"
     ]
    }
   ],
   "source": [
    "my_list = ['name','rool no','seat no']\n",
    "\n",
    "my_dict = {element :index for element,index in enumerate(my_list)}\n",
    "\n",
    "print(my_dict)"
   ]
  },
  {
   "cell_type": "markdown",
   "id": "4246cfee-f7c0-42f4-8c5d-8c59134dafef",
   "metadata": {},
   "source": [
    "- We start with an example list my_list containing elements.\n",
    "- We use a dictionary comprehension to iterate through each element and its corresponding index in the list.\n",
    "- For each element and index pair, we create a key-value pair in the dictionary, where the element becomes the key and the index becomes the value.\n",
    "- The resulting dictionary is stored in the variable my_dict.\n",
    "- We print the converted dictionary using the print() statement."
   ]
  },
  {
   "cell_type": "markdown",
   "id": "d587be20-ac7f-4ba2-967e-67c8050a1b9f",
   "metadata": {},
   "source": [
    "### 38. Shuffle the elements of a list randomly."
   ]
  },
  {
   "cell_type": "code",
   "execution_count": 73,
   "id": "1e123fd5-6f9c-4a33-90c6-36b96f4a98b8",
   "metadata": {},
   "outputs": [
    {
     "name": "stdout",
     "output_type": "stream",
     "text": [
      "shuffle the element randomly:  [17, 12, 11, 14, 15, 10, 13, 16]\n"
     ]
    }
   ],
   "source": [
    "import random\n",
    "\n",
    "my_list = [10,11,12,13,14,15,16,17]\n",
    "\n",
    "random_list = random.shuffle(my_list)\n",
    "\n",
    "print(\"shuffle the element randomly: \",my_list)"
   ]
  },
  {
   "cell_type": "markdown",
   "id": "059a5cf0-a277-4cd0-a396-05e66e526aa7",
   "metadata": {},
   "source": [
    "- we import the random module to acess the shuffle() function.\n",
    "- we startes with the example list my_list contains some elememts .\n",
    "- we use the random.shuffle() function to shuffle the elements randomaly .\n",
    "- the orginal order of list modified and elements arranged randomaly.\n",
    "- we print the shuffle list by using print() statements\n"
   ]
  },
  {
   "cell_type": "markdown",
   "id": "f603c999-1ada-47d1-b599-72a4ef400e40",
   "metadata": {},
   "source": [
    "### 39. Create a list of the first 10 factorial numbers."
   ]
  },
  {
   "cell_type": "code",
   "execution_count": 78,
   "id": "696f8c9d-0677-492f-9825-68bc5107f3a6",
   "metadata": {},
   "outputs": [
    {
     "name": "stdout",
     "output_type": "stream",
     "text": [
      "factorial no : [1, 1, 2, 6, 24, 120, 720, 5040, 40320, 362880]\n"
     ]
    }
   ],
   "source": [
    "def factorial(n):\n",
    "    if n==0 or n==1:\n",
    "        return 1\n",
    "    else:\n",
    "        return n*factorial(n-1)\n",
    "    \n",
    "factorial_no = [factorial(i)for i in range(10)]\n",
    "    \n",
    "print(\"factorial no :\",factorial_no)"
   ]
  },
  {
   "cell_type": "markdown",
   "id": "28a5a794-e150-4fb5-88b9-c8f1ef0bd429",
   "metadata": {},
   "source": [
    "- we define a function factorial(n) that takes an integer n as an arguments and calculate the factorial of using recursion.\n",
    "- inside the function we handle base cases where n is 0 or 1 and in other cases we calculate n times the factorial n-1\n",
    "- we use a list comprehension to generate the list of the fist 10 factorial no . we iterate through range of the numbers from 0 to 9 and calculate the factorial for each number .\n",
    "- the resulting list of factorial numbers is stored in the variable factorial_no .\n",
    "- we print the list of factorial no by using the print() statements .\n"
   ]
  },
  {
   "cell_type": "markdown",
   "id": "90578f7a-2c81-48b2-912b-1919d626a695",
   "metadata": {},
   "source": [
    "### 40. Check if two lists have at least one element in common."
   ]
  },
  {
   "cell_type": "code",
   "execution_count": 81,
   "id": "16d5ab2b-7e10-4611-b393-6493bf191a85",
   "metadata": {},
   "outputs": [
    {
     "name": "stdout",
     "output_type": "stream",
     "text": [
      "two lists have at least one element in common : [1]\n"
     ]
    }
   ],
   "source": [
    "def common_member(a,b):\n",
    "    result = [i for i in a if i in b]\n",
    "    return result\n",
    "a = [1,2,4,6,8]\n",
    "b = [1,3,5,7,9]\n",
    "\n",
    "print(\"two lists have at least one element in common :\",common_member(a,b))"
   ]
  },
  {
   "cell_type": "markdown",
   "id": "b4ea55f0-b545-4f1d-b9b4-a127d2e76a78",
   "metadata": {},
   "source": [
    "- we define function that takes two arguments(a,b),(that we want to check the common element in the two list .\n",
    "- ` result = [i for i in a if i in b]`: we use the for loop to iterate a each common element in the list . \n",
    "- we use the two list for comparision of both list .\n",
    "- we return a result .\n",
    "- we use the print() statements to print the common element list. "
   ]
  },
  {
   "cell_type": "markdown",
   "id": "23e3be94-9d2a-4caa-833c-311821696eae",
   "metadata": {},
   "source": [
    "### 41. Remove all elements from a list."
   ]
  },
  {
   "cell_type": "code",
   "execution_count": 82,
   "id": "2eb22b9b-d935-4640-a0af-e5c8324262cf",
   "metadata": {},
   "outputs": [],
   "source": [
    "my_list =[1,2,4,6,8]\n",
    "\n",
    "removed_list = my_list.clear()"
   ]
  },
  {
   "cell_type": "code",
   "execution_count": 83,
   "id": "c14bfb64-b3e1-43fd-befe-c834e3316606",
   "metadata": {},
   "outputs": [
    {
     "data": {
      "text/plain": [
       "[]"
      ]
     },
     "execution_count": 83,
     "metadata": {},
     "output_type": "execute_result"
    }
   ],
   "source": [
    "my_list"
   ]
  },
  {
   "cell_type": "markdown",
   "id": "e7f0c494-6255-4c80-ac43-05e0da075eb0",
   "metadata": {},
   "source": [
    "- we startes with the example of list my_list that takes some elements .\n",
    "- we use the clear() function to remove all elements from my_list\n",
    "- we call the my_list , approach will result in an empty list .\n",
    "\n"
   ]
  },
  {
   "cell_type": "markdown",
   "id": "4800bc98-5dc2-4248-8249-95dd8826dcae",
   "metadata": {},
   "source": [
    "### 42. Replace negative numbers in a list with 0."
   ]
  },
  {
   "cell_type": "code",
   "execution_count": 89,
   "id": "01ede741-8e60-44d9-98fa-0578edfa3ee9",
   "metadata": {},
   "outputs": [
    {
     "name": "stdout",
     "output_type": "stream",
     "text": [
      "list after replacing negativ numbers  [1, 0, 3, 0, 5, 0, 7, 0]\n"
     ]
    }
   ],
   "source": [
    "my_list = [1,-2,3,-4,5,-6,7,-8]\n",
    "\n",
    "for i in range(len(my_list)):\n",
    "    if my_list[i] < 0:\n",
    "        my_list[i]=0\n",
    "        \n",
    "        \n",
    "print(\"list after replacing negativ numbers \",my_list)"
   ]
  },
  {
   "cell_type": "markdown",
   "id": "81b8b01b-4a72-4c84-ba3a-20a153f459ae",
   "metadata": {},
   "source": [
    "- We start with an example list my_list containing both positive and negative numbers.\n",
    "- We use a for loop to iterate through the indices of the list using the range() function.\n",
    "- Inside the loop, we check if the element at index i is less than 0 (negative).\n",
    "- If it is negative, we replace the element at index i with 0.\n",
    "- After iterating through all elements, the list will have negative numbers replaced with 0.\n",
    "- We print the modified list using the print() statement."
   ]
  },
  {
   "cell_type": "markdown",
   "id": "7993192e-1484-4b2c-a666-77530b002021",
   "metadata": {},
   "source": [
    "### 43. Convert a string into a list of words."
   ]
  },
  {
   "cell_type": "code",
   "execution_count": 4,
   "id": "6ad65ea9-212b-4a45-adac-e1e2bc1270c5",
   "metadata": {},
   "outputs": [
    {
     "name": "stdout",
     "output_type": "stream",
     "text": [
      "modified string into a list of word: ['this', 'is', 'my', 'second', 'python', 'assingement']\n"
     ]
    }
   ],
   "source": [
    "my_string = \"this is my second python assingement \"\n",
    "\n",
    "\n",
    "modified_string = my_string.split()\n",
    "\n",
    "\n",
    "print(\"modified string into a list of word:\",modified_string)"
   ]
  },
  {
   "cell_type": "markdown",
   "id": "68668063-ff44-42d7-882d-486e44050780",
   "metadata": {},
   "source": [
    "- we startes with the string example ,thats we want to convert into a list of words .\n",
    "- we use the split() function to split the string into  a list of words .\n",
    "- we print the modified string into a list by using the print() statements ."
   ]
  },
  {
   "cell_type": "markdown",
   "id": "1923aba2-4e61-4a81-b979-83eae1dc1f84",
   "metadata": {},
   "source": [
    "### 44. Convert a list of words into a string."
   ]
  },
  {
   "cell_type": "code",
   "execution_count": 6,
   "id": "8dd9c204-83be-4d3a-8e54-5755887b3946",
   "metadata": {},
   "outputs": [
    {
     "name": "stdout",
     "output_type": "stream",
     "text": [
      "list of word into a string : this is my second python assingement\n"
     ]
    }
   ],
   "source": [
    "my_list = ['this', 'is', 'my', 'second', 'python', 'assingement']\n",
    "\n",
    "\n",
    "modified_list = \" \".join(my_list)\n",
    "\n",
    "print(\"list of word into a string :\",modified_list)"
   ]
  },
  {
   "cell_type": "markdown",
   "id": "8247a9c9-a6be-478b-acf3-e3c40344a766",
   "metadata": {},
   "source": [
    "- we startes with the example list my_list containing indivisual words .\n",
    "- we use the join() method on a string to join the indivisual word of list into a single string \n",
    "- the join() method takes the list of words as a srguments and return a string where the words are joined specified separator .\n",
    "- we use the print() statements to print the list of word into a string .\n"
   ]
  },
  {
   "cell_type": "markdown",
   "id": "c8b6a923-c026-485d-9657-2b56acb7b2e3",
   "metadata": {},
   "source": [
    "### 45. Create a list of the first `n` powers of 2."
   ]
  },
  {
   "cell_type": "code",
   "execution_count": 10,
   "id": "de4499a6-1f8e-4fd8-ac17-82b56fdb8431",
   "metadata": {},
   "outputs": [
    {
     "name": "stdout",
     "output_type": "stream",
     "text": [
      "a list of the first n powers of 2: [0, 1, 4, 9, 16, 25, 36, 49, 64, 81]\n"
     ]
    }
   ],
   "source": [
    "list_of_first_n_powers = [i**2 for i in range (10)]\n",
    "\n",
    "\n",
    "print(\"a list of the first n powers of 2:\",list_of_first_n_powers)"
   ]
  },
  {
   "cell_type": "markdown",
   "id": "ef70acb7-fa8a-4988-96bc-1a53fc02cfd7",
   "metadata": {},
   "source": [
    "- we use the list comprehension to calculate the power of 2 for each value of i from 0 to 9.\n",
    "- we use the print() method to print the list_of_first_n_powers.\n"
   ]
  },
  {
   "cell_type": "markdown",
   "id": "f797c6a7-5ef1-435c-9a12-e5b8f1da76a4",
   "metadata": {},
   "source": [
    "### 46. Find the longest string in a list of strings."
   ]
  },
  {
   "cell_type": "code",
   "execution_count": 19,
   "id": "b3197ee7-55fd-49de-ae3f-8701817a1506",
   "metadata": {},
   "outputs": [
    {
     "name": "stdout",
     "output_type": "stream",
     "text": [
      "longest string : avneesh verma\n"
     ]
    }
   ],
   "source": [
    "string_list = [ \"avneesh verma\", \"rahul verma\",\"ravi verma\"]\n",
    "\n",
    "longest_string = \"\"\n",
    "\n",
    "for i in string_list:\n",
    "    if len(i) > len(longest_string):\n",
    "        longest_string = i \n",
    "print(\"longest string :\",longest_string) "
   ]
  },
  {
   "cell_type": "markdown",
   "id": "5c6f036e-1e77-44f6-88a3-40818f975eaa",
   "metadata": {},
   "source": [
    "- we startes with the example list string_list contains string of diffrent length.\n",
    "- we create the longest_string variable with empty string .this variable will store the longest string found in the list .\n",
    "- we use the for loop to iterate through each string i in the list .\n",
    "- inside the loop we compare the length of current string i with the length of the longest_string .if the length of i is grater we update longest_string to be the current string s .\n",
    "- We print the longest string using the print() statement."
   ]
  },
  {
   "cell_type": "code",
   "execution_count": 24,
   "id": "ddcd6898-9b59-43d1-91ca-80def702465c",
   "metadata": {},
   "outputs": [
    {
     "name": "stdout",
     "output_type": "stream",
     "text": [
      "shortest string : ravi verma\n"
     ]
    }
   ],
   "source": [
    "string_list = [ \"avneesh verma\", \"rahul verma\",\"ravi verma\"]\n",
    "\n",
    "shortest_string = string_list[0]\n",
    "\n",
    "for i in string_list:\n",
    "    if len(i) < len(shortest_string):\n",
    "        shortest_string = i \n",
    "print(\"shortest string :\",shortest_string) "
   ]
  },
  {
   "cell_type": "markdown",
   "id": "f59998c8-ff1e-4236-9089-74a52de054dd",
   "metadata": {},
   "source": [
    "- We start with an example list string_list containing strings of different lengths.\n",
    "- We initialize the variable shortest_string with the first string in the list. - This variable will store the shortest string found in the list.\n",
    "- We use a for loop to iterate through each string i in the list.\n",
    "- Inside the loop, we compare the length of the current string s with the length of the shortest_string. If the length of i is smaller, we update shortest_string to be the current string i.\n",
    "- After iterating through all strings in the list, the variable shortest_string will contain the shortest string.\n",
    "- We print the shortest string using the print() statement."
   ]
  },
  {
   "cell_type": "markdown",
   "id": "b7b0507e-d699-467b-8e94-81d210a4e22b",
   "metadata": {},
   "source": [
    "### 48. Create a list of the first `n` triangular numbers."
   ]
  },
  {
   "cell_type": "code",
   "execution_count": 26,
   "id": "27a435e7-1f60-4093-88e8-a2ef57b853d6",
   "metadata": {},
   "outputs": [
    {
     "name": "stdout",
     "output_type": "stream",
     "text": [
      "List of the first 5 triangular numbers: [1, 3, 6, 10, 15]\n"
     ]
    }
   ],
   "source": [
    "# Function to calculate triangular numbers\n",
    "def triangular_numbers(n):\n",
    "    return [i * (i + 1) // 2 for i in range(1, n + 1)]\n",
    "\n",
    "# Specify the value of n\n",
    "n = 5\n",
    "\n",
    "# Create a list of the first n triangular numbers\n",
    "triangular_list = triangular_numbers(n)\n",
    "\n",
    "# Print the list of triangular numbers\n",
    "print(\"List of the first\", n, \"triangular numbers:\", triangular_list)"
   ]
  },
  {
   "cell_type": "markdown",
   "id": "24776e8d-b774-4903-b4ff-9448d0ef01ae",
   "metadata": {},
   "source": [
    "- We define a function triangular_numbers() that takes an integer n as an argument.\n",
    "- Inside the function, we use a list comprehension to calculate the triangular numbers for each value of i from 1 to n.\n",
    "- The formula to calculate the nth triangular number is n * (n + 1) // 2.\n",
    "- We specify the value of n, which indicates the number of triangular numbers to generate.\n",
    "- We call the triangular_numbers() function with the value of n to create the list of triangular numbers.\n",
    "- We print the list of triangular numbers using the print() statement."
   ]
  },
  {
   "cell_type": "markdown",
   "id": "73678ea1-121c-49f3-bcb6-7b95d9436892",
   "metadata": {},
   "source": [
    "### 49. Check if a list contains another list as a subsequence."
   ]
  },
  {
   "cell_type": "code",
   "execution_count": 27,
   "id": "312e3569-d0f2-4dea-84db-9500bc0ee3c4",
   "metadata": {},
   "outputs": [
    {
     "name": "stdout",
     "output_type": "stream",
     "text": [
      "Main list contains the subsequence.\n"
     ]
    }
   ],
   "source": [
    "# Function to check if a list contains another list as a subsequence\n",
    "def is_subsequence(subsequence, main_list):\n",
    "    subseq_index = 0  # Index for the subsequence elements\n",
    "    for element in main_list:\n",
    "        if element == subsequence[subseq_index]:\n",
    "            subseq_index += 1\n",
    "            if subseq_index == len(subsequence):\n",
    "                return True\n",
    "    return False\n",
    "\n",
    "# Example main list and subsequence\n",
    "main_list = [1, 2, 3, 4, 5, 6, 7, 8, 9, 10]\n",
    "subsequence = [3, 5, 8]\n",
    "\n",
    "# Check if the main list contains the subsequence\n",
    "if is_subsequence(subsequence, main_list):\n",
    "    print(\"Main list contains the subsequence.\")\n",
    "else:\n",
    "    print(\"Main list does not contain the subsequence.\")"
   ]
  },
  {
   "cell_type": "markdown",
   "id": "6ecd6979-ebb0-4e05-82fc-ee988adb581f",
   "metadata": {},
   "source": [
    "- We define a function is_subsequence() that takes two lists as arguments: subsequence (the list to check for as a subsequence) and main_list (the list to search for the subsequence in).\n",
    "- Inside the function, we use an index subseq_index to keep track of the matching elements in the subsequence.\n",
    "- We iterate through the elements of the main_list.\n",
    "- For each element in main_list, we compare it with the current element in the subsequence.\n",
    "  - If the elements match, we increment the subseq_index to check the next element in the subsequence.\n",
    "  - If the subseq_index reaches the length of the subsequence, it means the subsequence has been completely matched, and we return True.\n",
    "  - If we finish iterating through the main_list without completely matching the subsequence, we return False.\n",
    "- In the example code, we have an example main_list and subsequence.\n",
    "- We call the is_subsequence() function to check if the main list contains the subsequence.\n",
    "- We print the result using the print() statement."
   ]
  },
  {
   "cell_type": "markdown",
   "id": "1e347cd0-0a0f-419e-9e0d-4338a1ac1d4f",
   "metadata": {},
   "source": [
    "### 50. Swap two elements in a list by their indices."
   ]
  },
  {
   "cell_type": "code",
   "execution_count": 28,
   "id": "d0f4cbc4-2492-4ea2-8c17-a46929432896",
   "metadata": {},
   "outputs": [
    {
     "name": "stdout",
     "output_type": "stream",
     "text": [
      "List after swapping elements: [1, 4, 3, 2, 5]\n"
     ]
    }
   ],
   "source": [
    "# Example list\n",
    "my_list = [1, 2, 3, 4, 5]\n",
    "\n",
    "# Indices of elements to swap\n",
    "index1 = 1\n",
    "index2 = 3\n",
    "\n",
    "# Swap the elements at the specified indices\n",
    "temp = my_list[index1]\n",
    "my_list[index1] = my_list[index2]\n",
    "my_list[index2] = temp\n",
    "\n",
    "# Print the list after swapping\n",
    "print(\"List after swapping elements:\", my_list)"
   ]
  },
  {
   "cell_type": "markdown",
   "id": "7d1ccee8-0da6-43a0-8728-7b7c713d46c8",
   "metadata": {},
   "source": [
    "- We start with an example list my_list containing elements.\n",
    "- We specify the indices index1 and index2 of the elements to swap.\n",
    "- We use a temporary variable temp to hold the value of the element at index1.\n",
    "- We assign the value of the element at index2 to the element at index1.\n",
    "- We assign the value of the temporary variable temp (which holds the original value of the element at index1) to the element at index2, effectively swapping the values.\n",
    "- After the swap, the elements at the specified indices have been swapped.\n",
    "- We print the list after swapping using the print() statement."
   ]
  },
  {
   "cell_type": "markdown",
   "id": "a393e772-cf41-48e3-99f4-b1e08bd398a7",
   "metadata": {},
   "source": [
    "## **Tuple based practice problem :**\n",
    "\n",
    "---\n"
   ]
  },
  {
   "cell_type": "markdown",
   "id": "98b04440-f0e1-4b58-b5a4-3b965463b7d6",
   "metadata": {},
   "source": [
    "### 1. Create a tuple with integers from 1 to 5."
   ]
  },
  {
   "cell_type": "code",
   "execution_count": 58,
   "id": "64ce1ef3-c81d-41fd-ad2d-959d39b6a783",
   "metadata": {},
   "outputs": [
    {
     "name": "stdout",
     "output_type": "stream",
     "text": [
      "tuple with integers : (1, 2, 3, 4, 5)\n"
     ]
    }
   ],
   "source": [
    "my_tuple = ()\n",
    "for i in range(1,6):\n",
    "    my_tuple = my_tuple + (i,)\n",
    "print(\"tuple with integers :\",my_tuple)"
   ]
  },
  {
   "cell_type": "markdown",
   "id": "f5e43eeb-83c7-41c1-9d0c-2e235dfdbfd3",
   "metadata": {},
   "source": [
    "- we create the my_tuple variable as an empty tuple.\n",
    "- we use the for loop to iterate throug each tuple from the i .\n",
    "- we use the range function to create the tuple 1 to 5 .\n"
   ]
  },
  {
   "cell_type": "markdown",
   "id": "4f415fc0-98bd-47af-8e35-bf6a13fb3f0c",
   "metadata": {},
   "source": [
    "### 3. Find the length of a tuple without using the `len()` function.### 2. Access the third element of a tuple."
   ]
  },
  {
   "cell_type": "code",
   "execution_count": 62,
   "id": "613af0cf-0432-4c1d-972a-15ad6f648334",
   "metadata": {},
   "outputs": [
    {
     "name": "stdout",
     "output_type": "stream",
     "text": [
      "third element of the tuple is: 3\n"
     ]
    }
   ],
   "source": [
    "my_tuple = (1, 2, 3, 4, 5)\n",
    "\n",
    "acess_element = my_tuple[2]\n",
    "\n",
    "print(\"third element of the tuple is:\",acess_element)"
   ]
  },
  {
   "cell_type": "markdown",
   "id": "e3d96f5f-f2d8-4bcb-b507-3acd2b0835a0",
   "metadata": {},
   "source": [
    "- We start by creating a tuple named my_tuple with five elements: 10, 20, 30, 40, and 50.\n",
    "- To access elements of a tuple, we use square brackets [] with the index of the element we want to access. Tuples are zero-indexed, so the third element has an index of 2.\n",
    "- We store the value of the third element (30) in the variable third_element.\n",
    "- Finally, we use the print function to display a message along with the value of the third element of the tuple."
   ]
  },
  {
   "cell_type": "markdown",
   "id": "e6b40293-9aec-4605-91e7-820d7bee3e52",
   "metadata": {},
   "source": [
    "### 3. Find the length of a tuple without using the `len()` function."
   ]
  },
  {
   "cell_type": "code",
   "execution_count": 66,
   "id": "37d1f23f-7c3d-4db7-bcd7-0fb0207b8c46",
   "metadata": {},
   "outputs": [
    {
     "name": "stdout",
     "output_type": "stream",
     "text": [
      "5\n"
     ]
    }
   ],
   "source": [
    "my_tuple = (1, 2, 3, 4, 5)\n",
    "\n",
    "count = 0 \n",
    "\n",
    "for i in my_tuple:\n",
    "    count = count+1\n",
    "    \n",
    "print(count)"
   ]
  },
  {
   "cell_type": "markdown",
   "id": "2dd5341e-431f-4a78-ac74-dcc49035478b",
   "metadata": {},
   "source": [
    "- we starts with the example tuple my_tuple contains some elements .\n",
    "- we use a for loop to iterate through each element in the tuple \n",
    "- inside the loop we increment the count variable by 1 for each element in the tuple ."
   ]
  },
  {
   "cell_type": "markdown",
   "id": "c8a32e77-0e3a-4c64-a346-8fb1984501a2",
   "metadata": {},
   "source": [
    "### 4. Count the occurrences of an element in a tuple."
   ]
  },
  {
   "cell_type": "code",
   "execution_count": 76,
   "id": "b66a6a5b-4b25-4cc3-a8ee-1fbf8805208a",
   "metadata": {},
   "outputs": [
    {
     "name": "stdout",
     "output_type": "stream",
     "text": [
      " occerence of element 4 in my_tuple: 3\n"
     ]
    }
   ],
   "source": [
    "my_tuple = (1, 2, 3, 4,7,5,6644,844,4,4, 5)\n",
    "\n",
    "element_to_count = 4\n",
    "\n",
    "count = 0\n",
    "\n",
    "for i in my_tuple:\n",
    "    if i == element_to_count:\n",
    "        count = count+1\n",
    "        \n",
    "        \n",
    "print(\" occerence of element 4 in my_tuple:\",count)"
   ]
  },
  {
   "cell_type": "markdown",
   "id": "e8d117f9-cf14-4ba9-966f-21965d14d35f",
   "metadata": {},
   "source": [
    "- We start by creating a tuple named my_tuple with several elements, including multiple occurrences of the element we want to count.\n",
    "- We choose the element to count occurrences of. In this example, we'll count occurrences of the element 20.\n",
    "- We initialize a variable named count to keep track of the number of occurrences of the chosen element. This variable starts with a value of 0.\n",
    "- We use a for loop to iterate through each element in the tuple.\n",
    "- Inside the loop, we use an if statement to check if the current element item is equal to the element we want to count (element_to_count). If they are equal, we increment the count variable by 1.\n",
    "- After the loop completes, we use the print function to display a message along with the value of the count variable, indicating how many times the chosen element appears in the tuple."
   ]
  },
  {
   "cell_type": "markdown",
   "id": "109b5782-09c1-41fe-99a9-146211d8c8c4",
   "metadata": {},
   "source": [
    "### 5. Find the index of the first occurrence of an element in a tuple.\n"
   ]
  },
  {
   "cell_type": "code",
   "execution_count": 77,
   "id": "0657a948-0a46-487f-a29a-ca2fe88c021b",
   "metadata": {},
   "outputs": [
    {
     "name": "stdout",
     "output_type": "stream",
     "text": [
      "The first occurrence of 20 is at index 1.\n"
     ]
    }
   ],
   "source": [
    "# Step 1: Create a tuple\n",
    "my_tuple = (10, 20, 30, 20, 40, 50)\n",
    "\n",
    "# Step 2: Choose the element to find the index of\n",
    "element_to_find = 20\n",
    "\n",
    "# Step 3: Initialize a variable to keep track of the index\n",
    "index = -1  # Initialize with -1 to indicate that the element was not found\n",
    "\n",
    "# Step 4: Iterate through the tuple and find the index of the chosen element\n",
    "for i, item in enumerate(my_tuple):\n",
    "    if item == element_to_find:\n",
    "        index = i\n",
    "        break  # Exit the loop once the first occurrence is found\n",
    "\n",
    "# Step 5: Print the index of the first occurrence\n",
    "if index != -1:\n",
    "    print(f\"The first occurrence of {element_to_find} is at index {index}.\")\n",
    "else:\n",
    "    print(f\"{element_to_find} is not found in the tuple.\")"
   ]
  },
  {
   "cell_type": "markdown",
   "id": "4bda2605-3d16-4f45-8d3e-42c3cf98d273",
   "metadata": {},
   "source": [
    "- We start by creating a tuple named my_tuple with several elements, including the element for which we want to find the first occurrence.\n",
    "- We choose the element for which we want to find the index. In this example, we'll find the index of the element 20.\n",
    "- We initialize a variable named index with a value of -1. This value indicates that the element was not found in the tuple initially.\n",
    "- We use a for loop along with the enumerate function to iterate through the tuple. The enumerate function provides both the index i and the element item in each iteration.\n",
    "- Inside the loop, we use an if statement to check if the current element item is equal to the element we want to find (element_to_find). If they are equal, we update the index variable with the value of the current index i and then exit the loop using the break statement.\n",
    "- After the loop completes, we check if the index value has changed from its initial value of -1. If it has, we print the index of the first occurrence of the element. If not, we print a message indicating that the element was not found in the tuple."
   ]
  },
  {
   "cell_type": "markdown",
   "id": "0d7cea9d-930b-4a76-9292-bbdb26f506d1",
   "metadata": {},
   "source": [
    "### 6. Check if an element exists in a tuple."
   ]
  },
  {
   "cell_type": "code",
   "execution_count": 82,
   "id": "f02fefbe-b128-4036-b972-cd778fcfa8b2",
   "metadata": {},
   "outputs": [
    {
     "name": "stdout",
     "output_type": "stream",
     "text": [
      "this element is present in my tuple  3\n"
     ]
    }
   ],
   "source": [
    "my_tuple = (1, 2, 3, 4, 5)\n",
    "\n",
    "element_to_check = 3\n",
    "\n",
    "\n",
    "if element_to_check in my_tuple:\n",
    "    print(\"this element is present in my tuple \",element_to_check)\n",
    "else:\n",
    "        print(\"this element is not present in my tuple\")"
   ]
  },
  {
   "cell_type": "markdown",
   "id": "7895ada0-874b-4be9-af65-fe5b1a355b67",
   "metadata": {},
   "source": [
    "- we startes with the tuple example my_tuple contains some element ,thats we want to check element 3 exist in my_tuple or not .\n",
    "- whose element to check we store inside the element_to_check.\n",
    "- we use the if and else statements ."
   ]
  },
  {
   "cell_type": "markdown",
   "id": "57f1881c-d55e-4ac9-b799-2387d9b18f35",
   "metadata": {},
   "source": [
    "### 7. Convert a tuple to a list."
   ]
  },
  {
   "cell_type": "code",
   "execution_count": 84,
   "id": "8d063284-458e-40df-926f-8d421b6f5181",
   "metadata": {},
   "outputs": [
    {
     "name": "stdout",
     "output_type": "stream",
     "text": [
      "convert a tuple in list: [1, 2, 3, 4, 5]\n"
     ]
    }
   ],
   "source": [
    "my_tuple = (1, 2, 3, 4, 5)\n",
    "\n",
    "converted_tuple_in_list = list(my_tuple)\n",
    "\n",
    "print(\"convert a tuple in list:\",converted_tuple_in_list)"
   ]
  },
  {
   "cell_type": "markdown",
   "id": "4faa3990-a344-4896-9fdd-3d6a5aec195c",
   "metadata": {},
   "source": [
    "- we startes with the example of tuples my_tuple contains some elements . that we want to convert into a list .\n",
    "- we store converted tuple inside the converted_tuple_in_list and print it ."
   ]
  },
  {
   "cell_type": "markdown",
   "id": "387e5f86-d3e3-4f6e-92f1-e0908280f755",
   "metadata": {},
   "source": [
    "### 8. Convert a list to a tuple."
   ]
  },
  {
   "cell_type": "code",
   "execution_count": 85,
   "id": "c92b78d8-6ac2-4ec8-9d52-638c30c7af9f",
   "metadata": {},
   "outputs": [
    {
     "name": "stdout",
     "output_type": "stream",
     "text": [
      "conver a list to a tuple : (1, 2, 3, 4, 5)\n"
     ]
    }
   ],
   "source": [
    "my_lst =  [1, 2, 3, 4, 5]\n",
    "\n",
    "\n",
    "conver_into_tuple = tuple(my_lst)\n",
    "\n",
    "\n",
    "print(\"conver a list to a tuple :\",conver_into_tuple)"
   ]
  },
  {
   "cell_type": "markdown",
   "id": "c066437c-6bba-401b-8ef9-080d501da85f",
   "metadata": {},
   "source": [
    "- we startes with the example of list my_lst contains some elements . that we want to convert into a tuples .\n",
    "- we store converted list inside the conver_into_tuple and print it ."
   ]
  },
  {
   "cell_type": "markdown",
   "id": "9cc355fb-cc32-49a5-a664-cc07f2fa3589",
   "metadata": {},
   "source": [
    "### 9. Unpack the elements of a tuple into variables."
   ]
  },
  {
   "cell_type": "code",
   "execution_count": 90,
   "id": "d9a50934-a858-4ba7-a1df-e5e2f7ee05d0",
   "metadata": {},
   "outputs": [
    {
     "name": "stdout",
     "output_type": "stream",
     "text": [
      "var1: 1\n",
      "var2: 2\n",
      "var3: 3\n",
      "var4: 4\n",
      "var5: 5\n"
     ]
    }
   ],
   "source": [
    "my_tuple =  (1, 2, 3, 4, 5)\n",
    "\n",
    "var1,var2,var3,var4,var5 = my_tuple\n",
    "\n",
    "\n",
    "print(\"var1:\",var1)\n",
    "print(\"var2:\",var2)\n",
    "print(\"var3:\",var3)\n",
    "print(\"var4:\",var4)\n",
    "print(\"var5:\",var5)"
   ]
  },
  {
   "cell_type": "markdown",
   "id": "45e4b1d0-fbb0-4c81-8811-de4e83575de0",
   "metadata": {},
   "source": [
    "- we starts with the example tuple my_tuple ,that contains five elements .\n",
    "- we use the assign operator to assing the value in the different diffrent variable (var1,var2,var3,var4, var5)\n",
    "- we use the print() statements to print it ."
   ]
  },
  {
   "cell_type": "markdown",
   "id": "26d9707a-c4a6-4902-a573-f5ff7f6ed753",
   "metadata": {},
   "source": [
    "### 10. Create a tuple of even numbers from 1 to 10."
   ]
  },
  {
   "cell_type": "code",
   "execution_count": 99,
   "id": "f13e6879-0b50-455d-829f-f0caae25aac6",
   "metadata": {},
   "outputs": [
    {
     "name": "stdout",
     "output_type": "stream",
     "text": [
      "even numbers: (2, 4, 6, 8, 10)\n"
     ]
    }
   ],
   "source": [
    "my_list = [ i for i in  range(2,11,2)]\n",
    "\n",
    "tuple_of_even_no = tuple(my_list)\n",
    "\n",
    "print(\"even numbers:\",tuple_of_even_no)"
   ]
  },
  {
   "cell_type": "markdown",
   "id": "e205a6a9-6489-4571-9fb4-f50c8c6bcb15",
   "metadata": {},
   "source": [
    "- we use the list comprehension to genrate  a list of even number.the range(2,11,2) genrates numbers starting from 2 and increasing by 2 up to .\n",
    "- we convert the list into tuple by using tuple(my_list) this method .\n",
    "- we print the tuples using print() statements ."
   ]
  },
  {
   "cell_type": "markdown",
   "id": "543d8b01-34f4-4e61-ba15-342e37586dc7",
   "metadata": {},
   "source": [
    "### 11. Create a tuple of odd numbers from 1 to 10."
   ]
  },
  {
   "cell_type": "code",
   "execution_count": 100,
   "id": "fcc86491-c578-4389-8d80-f1050b02d54b",
   "metadata": {},
   "outputs": [
    {
     "name": "stdout",
     "output_type": "stream",
     "text": [
      "odd numbers: (1, 3, 5, 7, 9)\n"
     ]
    }
   ],
   "source": [
    "my_list = [ i for i in  range(1,11,2)]\n",
    "\n",
    "tuple_of_odd_no = tuple(my_list)\n",
    "\n",
    "print(\"odd numbers:\",tuple_of_odd_no)"
   ]
  },
  {
   "cell_type": "markdown",
   "id": "87fae1b9-c947-4470-a3be-5f7f309a9eb8",
   "metadata": {},
   "source": [
    "- we use the list comprehension to genrate  a list of odd numbers .the range(1,11,2) genrates numbers starting from 1 and increasing by 2 up to .\n",
    "- we convert the list into tuple by using tuple(my_list) this method .\n",
    "- we print the tuples using print() statements ."
   ]
  },
  {
   "cell_type": "markdown",
   "id": "16a5a537-ccfc-41f4-9f6f-57edbbec4084",
   "metadata": {},
   "source": [
    "### 12. Concatenate two tuples."
   ]
  },
  {
   "cell_type": "code",
   "execution_count": 102,
   "id": "34aea7ed-0354-4430-84e7-18e7ad31c562",
   "metadata": {},
   "outputs": [
    {
     "name": "stdout",
     "output_type": "stream",
     "text": [
      "concatenate tuples (1, 2, 3, 4, 5, 6, 7, 8, 9, 45, 5, 585, 8585, 8, 2)\n"
     ]
    }
   ],
   "source": [
    "tuple_1 = (1,2,3,4,5,6,7,8,9)\n",
    "tuple_2 = (45,5,585,8585,8,2)\n",
    "\n",
    "concatenate_tuple = tuple_1+tuple_2\n",
    "\n",
    "\n",
    "print(\"concatenate tuples\",concatenate_tuple)"
   ]
  },
  {
   "cell_type": "markdown",
   "id": "44e09aa1-7baa-4049-aef1-bb9d56d4d89f",
   "metadata": {},
   "source": [
    "- we startes with the two example of tuples tuple_1 and tuple_2 (that we want to concatenate ).\n",
    "- we use the concatenation operation to concatenate the tuple_1 and tuple_2.\n",
    "- we print the concatenate_tuple by using print() statements .\n",
    "\n"
   ]
  },
  {
   "cell_type": "markdown",
   "id": "a759bcb4-2f2f-4d7e-b25a-1157de687959",
   "metadata": {},
   "source": [
    "### 13. Repeat a tuple three times."
   ]
  },
  {
   "cell_type": "code",
   "execution_count": 104,
   "id": "e0d16575-9db7-4896-bd4d-f8d3f3bb6334",
   "metadata": {},
   "outputs": [
    {
     "name": "stdout",
     "output_type": "stream",
     "text": [
      "Repeat a tuple three times: (1, 2, 3, 4, 5, 6, 7, 8, 9, 1, 2, 3, 4, 5, 6, 7, 8, 9, 1, 2, 3, 4, 5, 6, 7, 8, 9)\n"
     ]
    }
   ],
   "source": [
    "original_tuple = (1,2,3,4,5,6,7,8,9)\n",
    "\n",
    "repeated_tuple = original_tuple*3\n",
    "\n",
    "print(\"Repeat a tuple three times:\",repeated_tuple)"
   ]
  },
  {
   "cell_type": "markdown",
   "id": "58e58972-a438-4a45-9489-303a918fcfe3",
   "metadata": {},
   "source": [
    "- we startes with the tuple example original_tuple(that we want to repeat three times ).\n",
    "- we use the * operator to repeat the tuple three times ,resulting in a new tuple named repeated_tuple.\n",
    "- we print the repeated tuple using the print() statements ."
   ]
  },
  {
   "cell_type": "markdown",
   "id": "89aca2c3-643f-46c3-bf21-da7076105a8c",
   "metadata": {},
   "source": [
    "### 14. Check if a tuple is empty."
   ]
  },
  {
   "cell_type": "code",
   "execution_count": 108,
   "id": "9c511537-6707-4de7-8096-94f072f480d4",
   "metadata": {},
   "outputs": [
    {
     "name": "stdout",
     "output_type": "stream",
     "text": [
      "tuple_1 is empty\n",
      "tuple_2 is not empty\n"
     ]
    }
   ],
   "source": [
    "tuple_1 = ()\n",
    "\n",
    "tuple_2 = (4,6,5,6,6,1)\n",
    "\n",
    "\n",
    "if not tuple_1:\n",
    "    print(\"tuple_1 is empty\")\n",
    "else:\n",
    "    print(\"tuple_1 is not empty\")\n",
    "    \n",
    "if not tuple_2:\n",
    "    print(\"tuple_2 is empty\")\n",
    "else:\n",
    "    print(\"tuple_2 is not empty\")"
   ]
  },
  {
   "cell_type": "markdown",
   "id": "db478390-3085-4031-8408-69c25bf80b8b",
   "metadata": {},
   "source": [
    "- we create to tuples one is empty and one is not empty respectively tuple_1 and tuple_2.\n",
    "- we use if not to check if tuple is empty . since an empty tuple evaluvate false , the fist print will be exicuted ,indicating the tuple_1 is empty .\n",
    "- same approach apply for tuple_2 ,since an not empty tuple evaluvate true , the second print will be exicuted ,indicating the tuple_2 is not empty ."
   ]
  },
  {
   "cell_type": "markdown",
   "id": "eef6632e-e2d1-49bf-9ce1-6785e531c5c7",
   "metadata": {},
   "source": [
    "### 15. Create a nested tuple."
   ]
  },
  {
   "cell_type": "code",
   "execution_count": 112,
   "id": "2ea5e975-b065-43c7-90a7-b3b432db07fb",
   "metadata": {},
   "outputs": [
    {
     "name": "stdout",
     "output_type": "stream",
     "text": [
      "nested tuple: ((4, 5, 5, 5, 5, 5), ('a', 'b', 'c'), (True, False))\n"
     ]
    }
   ],
   "source": [
    "nested_tuple = ((4,5,5,5,5,5,)  ,  ('a','b','c')  ,  (True ,False ))\n",
    "                \n",
    "                \n",
    "print(\"nested tuple:\", nested_tuple)"
   ]
  },
  {
   "cell_type": "markdown",
   "id": "0c98cd42-32e2-4a20-9a5a-be6076a3dc2a",
   "metadata": {},
   "source": [
    "- We create a nested tuple named nested_tuple that contains three tuples as its elements. Each of these inner tuples can have different data types.\n",
    "- We print the nested tuple to see its structure."
   ]
  },
  {
   "cell_type": "markdown",
   "id": "b97db6d6-f564-415c-94ff-f5fda1061c46",
   "metadata": {},
   "source": [
    "### 16. Access the first element of a nested tuple."
   ]
  },
  {
   "cell_type": "code",
   "execution_count": 113,
   "id": "ccbe7451-992b-4b13-b5bf-e57c19920057",
   "metadata": {},
   "outputs": [],
   "source": [
    "nested_tuple = ((4,5,5,5,5,5,)  ,  ('a','b','c')  ,  (True ,False ))\n",
    "\n",
    "acess_the_first_element = nested_tuple[0]"
   ]
  },
  {
   "cell_type": "code",
   "execution_count": 115,
   "id": "de024766-dce3-4f4c-924a-f5a2a89f30ff",
   "metadata": {},
   "outputs": [
    {
     "data": {
      "text/plain": [
       "(4, 5, 5, 5, 5, 5)"
      ]
     },
     "execution_count": 115,
     "metadata": {},
     "output_type": "execute_result"
    }
   ],
   "source": [
    "acess_the_first_element"
   ]
  },
  {
   "cell_type": "markdown",
   "id": "f83b757a-dc4e-4d53-a4da-9e071ef3c1fb",
   "metadata": {},
   "source": [
    "- We create a nested tuple named nested_tuple that contains three tuples as its elements. Each of these inner tuples can have different data types.\n",
    "- we using the indexing concept (nested_tuple[0]) to acess the first element of a nested tuple  .\n",
    "- we call the acess_the_first_element and see the result ."
   ]
  },
  {
   "cell_type": "markdown",
   "id": "abd0a803-472a-4812-b3e9-f951aafbbbbc",
   "metadata": {},
   "source": [
    "### 17. Create a tuple with a single element."
   ]
  },
  {
   "cell_type": "code",
   "execution_count": 117,
   "id": "da707d70-3dd4-45e9-9929-9bdcebe27cf3",
   "metadata": {},
   "outputs": [
    {
     "name": "stdout",
     "output_type": "stream",
     "text": [
      "tuple with a single elemen: (855,)\n"
     ]
    }
   ],
   "source": [
    "tuple_with_single_element = (855,)\n",
    "\n",
    "print(\"tuple with a single elemen:\",tuple_with_single_element)"
   ]
  },
  {
   "cell_type": "code",
   "execution_count": 118,
   "id": "a601cc22-e576-4f4f-8fde-d840cedb9c6c",
   "metadata": {},
   "outputs": [
    {
     "data": {
      "text/plain": [
       "tuple"
      ]
     },
     "execution_count": 118,
     "metadata": {},
     "output_type": "execute_result"
    }
   ],
   "source": [
    "type(tuple_with_single_element)"
   ]
  },
  {
   "cell_type": "markdown",
   "id": "ccf2ca4c-3fb0-436a-9745-3aefe75e3e60",
   "metadata": {},
   "source": [
    "- we create a tuple named tuple_with_single_element. the key here is to include the trailing comma after the element , which informs python that you want to crate a tuple with one element .\n",
    "- we print the single element \n",
    "- we check the type of element to better understanding .\n"
   ]
  },
  {
   "cell_type": "markdown",
   "id": "46259c41-25eb-4a29-a5c7-563a0c081061",
   "metadata": {},
   "source": [
    "### 18. Compare two tuples."
   ]
  },
  {
   "cell_type": "code",
   "execution_count": 125,
   "id": "cd95a15f-9605-4476-8d0e-a3e5028b9a28",
   "metadata": {},
   "outputs": [
    {
     "name": "stdout",
     "output_type": "stream",
     "text": [
      "tuple_1 == tuple_2: False\n",
      "tuple_1 > tuple_2: False\n",
      "tuple_1 < tuple_2: True\n",
      "tuple_1 >= tuple_2: False\n",
      "tuple_1 != tuple_2: True\n",
      "tuple_1 <= tuple_2: True\n"
     ]
    }
   ],
   "source": [
    "tuple_1 = (1,2,3,4,5)\n",
    "tuple_2 = (1,2,3,4,6)\n",
    "\n",
    "\n",
    "print(\"tuple_1 == tuple_2:\",tuple_1==tuple_2)\n",
    "print(\"tuple_1 > tuple_2:\",tuple_1>tuple_2)\n",
    "print(\"tuple_1 < tuple_2:\",tuple_1<tuple_2)\n",
    "print(\"tuple_1 >= tuple_2:\",tuple_1>=tuple_2)\n",
    "print(\"tuple_1 != tuple_2:\",tuple_1!=tuple_2)\n",
    "print(\"tuple_1 <= tuple_2:\",tuple_1<=tuple_2)"
   ]
  },
  {
   "cell_type": "markdown",
   "id": "a62b1929-c91a-4c75-89de-42ceed69a7c6",
   "metadata": {},
   "source": [
    "### 19. Delete a tuple."
   ]
  },
  {
   "cell_type": "code",
   "execution_count": 126,
   "id": "28426f31-9a37-4610-be91-5d7c2b809b13",
   "metadata": {},
   "outputs": [],
   "source": [
    "tuple_1 = (1,2,3,4,5)\n",
    "\n",
    "\n",
    "del tuple_1"
   ]
  },
  {
   "cell_type": "code",
   "execution_count": 127,
   "id": "282f692d-7beb-42ce-9718-1a651dd9bbe3",
   "metadata": {},
   "outputs": [
    {
     "ename": "NameError",
     "evalue": "name 'tuple_1' is not defined",
     "output_type": "error",
     "traceback": [
      "\u001b[0;31m---------------------------------------------------------------------------\u001b[0m",
      "\u001b[0;31mNameError\u001b[0m                                 Traceback (most recent call last)",
      "Cell \u001b[0;32mIn[127], line 1\u001b[0m\n\u001b[0;32m----> 1\u001b[0m \u001b[43mtuple_1\u001b[49m\n",
      "\u001b[0;31mNameError\u001b[0m: name 'tuple_1' is not defined"
     ]
    }
   ],
   "source": [
    "tuple_1"
   ]
  },
  {
   "cell_type": "markdown",
   "id": "27b0f8ea-8924-440c-873b-d4fd10167e53",
   "metadata": {},
   "source": [
    "- we create one tuple list named tuple_1\n",
    "- we use the del function to deleting the complete tuple list.\n",
    "- after deleting the tuple list it can show me name error b/c tuple is completely deleted ."
   ]
  },
  {
   "cell_type": "markdown",
   "id": "2efde4c9-b703-4863-8c15-8b35218cb0c6",
   "metadata": {},
   "source": [
    "### 20. Slice a tuple."
   ]
  },
  {
   "cell_type": "code",
   "execution_count": 132,
   "id": "b20c4cae-4fdc-4e9c-b23f-f046053111f8",
   "metadata": {},
   "outputs": [
    {
     "name": "stdout",
     "output_type": "stream",
     "text": [
      "slicing tuple: (4, 5, 6, 7, 8, 9, 10, 11, 12)\n"
     ]
    }
   ],
   "source": [
    "tuple_1 = (1,2,3,4,5,6,7,8,9,10,11,12,13,14)\n",
    "\n",
    "slicing_tuple = tuple_1[3:12]\n",
    "\n",
    "print(\"slicing tuple:\",slicing_tuple)"
   ]
  },
  {
   "cell_type": "markdown",
   "id": "7e01fd5f-35e8-444c-abc8-ef9e9ff06f0b",
   "metadata": {},
   "source": [
    "- first  of all we ceate the tuple example tuple_1 contains some elements .\n",
    "- we use the slicing concept tuple_1[3:12],fist is index where i can startes slicing of data and 12 is number till what slicing of data .\n",
    "- we slicing the data by using the print() statements ."
   ]
  },
  {
   "cell_type": "markdown",
   "id": "2b6ce1df-2cb5-4556-9848-0439fe020181",
   "metadata": {},
   "source": [
    "### 21. Find the maximum value in a tuple."
   ]
  },
  {
   "cell_type": "code",
   "execution_count": 143,
   "id": "2e5e2187-d440-439b-9249-477e95766fce",
   "metadata": {},
   "outputs": [
    {
     "name": "stdout",
     "output_type": "stream",
     "text": [
      "maximum value of tuple: 14\n"
     ]
    }
   ],
   "source": [
    "tuple_1 = (1,2,3,4,5,6,7,8,9,10,11,12,13,14)\n",
    "\n",
    "maxmium_value = max(tuple_1)\n",
    "\n",
    "\n",
    "print(\"maximum value of tuple:\", maxmium_value )"
   ]
  },
  {
   "cell_type": "markdown",
   "id": "49280d6a-13ab-4b86-bd8a-dc21347b5985",
   "metadata": {},
   "source": [
    "- first  of all we ceate the tuple example tuple_1 contains some elements .\n",
    "- we use the max function to exit the maximum value of tuple from tuple_1 .\n",
    "- we print the maximum value of tuple by using print() statements .\n"
   ]
  },
  {
   "cell_type": "markdown",
   "id": "9bd6079f-904a-43b2-9f27-1963e1ef70ea",
   "metadata": {},
   "source": [
    "### 22. Find the minimum value in a tuple."
   ]
  },
  {
   "cell_type": "code",
   "execution_count": 144,
   "id": "794e61fe-6ceb-45a2-afbb-d52f8956df11",
   "metadata": {},
   "outputs": [
    {
     "name": "stdout",
     "output_type": "stream",
     "text": [
      "maximum value of tuple: 1\n"
     ]
    }
   ],
   "source": [
    "tuple_1 = (1,2,3,4,5,6,7,8,9,10,11,12,13,14)\n",
    "\n",
    "minimum_value = min(tuple_1)\n",
    "\n",
    "\n",
    "print(\"maximum value of tuple:\", minimum_value)"
   ]
  },
  {
   "cell_type": "markdown",
   "id": "92336f9e-85d8-4f3e-8185-e80b04ef5a52",
   "metadata": {},
   "source": [
    "- first  of all we ceate the tuple example tuple_1 contains some elements .\n",
    "- we use the min function to exit the minimum value of tuple from tuple_1 .\n",
    "- we print the minimum value of tuple by using print() statements .\n"
   ]
  },
  {
   "cell_type": "markdown",
   "id": "24cfd630-fae6-48ca-8b89-085a4c30a379",
   "metadata": {},
   "source": [
    "### 23. Convert a string to a tuple of characters."
   ]
  },
  {
   "cell_type": "code",
   "execution_count": 145,
   "id": "4ced6701-9f3a-4208-80cd-042aec8f31f0",
   "metadata": {},
   "outputs": [
    {
     "name": "stdout",
     "output_type": "stream",
     "text": [
      "tuple_of_characters : ('i', 'n', 'd', 'i', 'a', ' ', 'i', 's', ' ', 'a', ' ', 'g', 'r', 'e', 'a', 't', ' ', 'c', 'o', 'u', 'n', 't', 'r', 'y')\n"
     ]
    }
   ],
   "source": [
    "string = \"india is a great country\"\n",
    "\n",
    "tuple_of_characters = tuple(string)\n",
    "\n",
    "\n",
    "print(\"tuple_of_characters :\",tuple_of_characters )"
   ]
  },
  {
   "cell_type": "markdown",
   "id": "a2d1421a-bafd-4093-841a-85bdc71e56d9",
   "metadata": {},
   "source": [
    "- we starts with the example of string (that we want to convert a string to a tuple of characters ).\n",
    "- we conver the string into the tuple of characters by using (tuple_of_characters = tuple(string)) this method .\n",
    "- we print the tuple of character by using print() statements .\n"
   ]
  },
  {
   "cell_type": "markdown",
   "id": "718a2594-5ba8-4bf5-a569-89058658f4ac",
   "metadata": {},
   "source": [
    "### 24. Convert a tuple of characters to a string."
   ]
  },
  {
   "cell_type": "code",
   "execution_count": 1,
   "id": "a42bc432-bee0-424b-a341-fb3a951b0d74",
   "metadata": {},
   "outputs": [
    {
     "name": "stdout",
     "output_type": "stream",
     "text": [
      "tuple of characters to a string : india is a great country\n"
     ]
    }
   ],
   "source": [
    "tuple_of_characters = ('i', 'n', 'd', 'i', 'a', ' ', 'i', 's', ' ', 'a', ' ', 'g', 'r', 'e', 'a', 't', ' ', 'c', 'o', 'u', 'n', 't', 'r', 'y')\n",
    "\n",
    "string = ''.join(tuple_of_characters)\n",
    "\n",
    "print(\"tuple of characters to a string :\",string)"
   ]
  },
  {
   "cell_type": "markdown",
   "id": "10c2a007-54bb-4094-9a29-a3084479f414",
   "metadata": {},
   "source": [
    "- we start by creating a tuple named tuple_of_characters containg indivisual characters .\n",
    "- we use the join() method ,which is called on an empty string ` \"\" ` to join the characters from the tuples and creating a single string .\n"
   ]
  },
  {
   "cell_type": "markdown",
   "id": "a835c589-f2a0-45c2-a14c-a4fa302add77",
   "metadata": {},
   "source": [
    "### 25. Create a tuple from multiple data types."
   ]
  },
  {
   "cell_type": "code",
   "execution_count": 147,
   "id": "b29b3338-2615-4498-a9d4-79511b476109",
   "metadata": {},
   "outputs": [],
   "source": [
    "mixed_tuple = (4,5,6,1,51.265,True ,False ,\"india is a graet country \")"
   ]
  },
  {
   "cell_type": "code",
   "execution_count": 148,
   "id": "9aa0d354-1cf6-420d-bce2-09a6e40e1316",
   "metadata": {},
   "outputs": [
    {
     "name": "stdout",
     "output_type": "stream",
     "text": [
      "(4, 5, 6, 1, 51.265, True, False, 'india is a graet country ')\n"
     ]
    }
   ],
   "source": [
    "print(mixed_tuple)"
   ]
  },
  {
   "cell_type": "markdown",
   "id": "73b84190-4860-436f-a6b6-8372dc0eeec1",
   "metadata": {},
   "source": [
    "- we start by creating a mixed tuple named mixed_tuple "
   ]
  },
  {
   "cell_type": "markdown",
   "id": "61209f93-e41d-4959-9a11-6b2d7bab5f3e",
   "metadata": {},
   "source": [
    "### 26. Check if two tuples are identical."
   ]
  },
  {
   "cell_type": "code",
   "execution_count": 154,
   "id": "33911cfb-89bb-4327-9395-e318ef0b3e50",
   "metadata": {},
   "outputs": [
    {
     "name": "stdout",
     "output_type": "stream",
     "text": [
      "tuple_1 is same as tuple_2\n",
      "tuple_1 is not same as tuple_3\n"
     ]
    }
   ],
   "source": [
    "tuple_1 = (1,2,3,4,5,6)\n",
    "tuple_2 = (1,2,3,4,5,6)\n",
    "tuple_3 = (741,852,52,52)\n",
    "\n",
    "\n",
    "if tuple_1 ==tuple_2:\n",
    "    print(\"tuple_1 is same as tuple_2\")\n",
    "else:\n",
    "    print (\"tuple_1 is not same as tuple_2\")\n",
    "    \n",
    "if tuple_1==tuple_3:\n",
    "    print(\"tuple_1 is same as tuple_3\")\n",
    "else:\n",
    "    print (\"tuple_1 is not same as tuple_3\")"
   ]
  },
  {
   "cell_type": "markdown",
   "id": "f0b04acc-6efc-481e-bd69-67f9db681266",
   "metadata": {},
   "source": [
    "- we start by craeting a tuples tuple_1 ,tuple_2 and tuple_3 .\n",
    "- we check the multiple if else condition W/B tuple_1 ,tuple_2 and tuple_3\n"
   ]
  },
  {
   "cell_type": "markdown",
   "id": "1ed207ba-6247-4051-8b18-76c8b9f7f804",
   "metadata": {},
   "source": [
    "### 27. Sort the elements of a tuple."
   ]
  },
  {
   "cell_type": "code",
   "execution_count": 156,
   "id": "70a6a25f-d8d8-423a-ae29-79124c573d7e",
   "metadata": {},
   "outputs": [
    {
     "name": "stdout",
     "output_type": "stream",
     "text": [
      "sorted tuples: (52, 52, 741, 852)\n"
     ]
    }
   ],
   "source": [
    "tuple_3 = (741,852,52,52)\n",
    "\n",
    "sorted_tuple = tuple(sorted(tuple_3))\n",
    "\n",
    "print(\"sorted tuples:\",sorted_tuple)"
   ]
  },
  {
   "cell_type": "markdown",
   "id": "d225f6e6-25a7-4d38-b0c5-b0930408d4c3",
   "metadata": {},
   "source": [
    "- we started with the tuple named tuple_3  ,contains randomoly numeric data.\n",
    "- we use a sorted() function to sort the element of the tuple . the sorted() function returns a sorted list.\n",
    "- we use the tuple() function to again into a tuple of list .\n",
    "- we print a sorted tuples using print() statements ."
   ]
  },
  {
   "cell_type": "markdown",
   "id": "0ffc34f7-abb8-4d0d-b875-5ac6f5cdc4cd",
   "metadata": {},
   "source": [
    "### 28. Convert a tuple of integers to a tuple of strings."
   ]
  },
  {
   "cell_type": "code",
   "execution_count": 164,
   "id": "4b7b4ca6-2d53-487a-a77e-4dbe4b6e91ab",
   "metadata": {},
   "outputs": [
    {
     "name": "stdout",
     "output_type": "stream",
     "text": [
      "('1', '2', '3', '4', '5', '6')\n"
     ]
    }
   ],
   "source": [
    "tuple_1 = (1,2,3,4,5,6)\n",
    "\n",
    "\n",
    "tuple_of_string = tuple(str (i) for i in  tuple_1)\n",
    "\n",
    "print(tuple_of_string)"
   ]
  },
  {
   "cell_type": "markdown",
   "id": "abb4eeeb-c791-4f0a-b109-7050eae9bd68",
   "metadata": {},
   "source": [
    "- we start by creating a tuple named tuple_1 conatins integer elements .\n",
    "- we use the list comprehension to iterate through each integer in the tuple and convrt it to string using str() function . the list comprehension generates the list of a string .\n",
    "- we convert the list of strings to a tuple using tuple() function .\n",
    "- we print the reult of string using print() statements ."
   ]
  },
  {
   "cell_type": "markdown",
   "id": "6d0c63a5-4558-4f4d-89f0-65b47b5caafd",
   "metadata": {},
   "source": [
    "### 29. Convert a tuple of strings to a tuple of integers."
   ]
  },
  {
   "cell_type": "code",
   "execution_count": 165,
   "id": "8a173ad2-b974-4c11-b66b-94b83dec2ee1",
   "metadata": {},
   "outputs": [
    {
     "name": "stdout",
     "output_type": "stream",
     "text": [
      "(1, 2, 3, 4, 5, 6)\n"
     ]
    }
   ],
   "source": [
    "tuple_string = ('1', '2', '3', '4', '5', '6')\n",
    "\n",
    "tuple_of_integers = tuple(int (i) for i in tuple_string )\n",
    "\n",
    "print(tuple_of_integers)"
   ]
  },
  {
   "cell_type": "markdown",
   "id": "b7ae02d9-619d-4399-8dab-98029833a34c",
   "metadata": {},
   "source": [
    "- we start by creating a tuple of string  named tuple_string conatins string elements .\n",
    "- we use the list comprehension to iterate through each string in the string and convrt it to tuple using int() function . the list comprehension generates the list of a string  .\n",
    "- we convert the list of strings to a tuple using tuple() function .\n",
    "- we print the reult of string using print() statements ."
   ]
  },
  {
   "cell_type": "markdown",
   "id": "ac57e71e-5aa8-48f9-9cb3-75634d9096d8",
   "metadata": {},
   "source": [
    "### 30. Merge two tuples."
   ]
  },
  {
   "cell_type": "code",
   "execution_count": 1,
   "id": "1dc7e3dc-6816-4a21-8d01-afefdb7f67ad",
   "metadata": {},
   "outputs": [
    {
     "name": "stdout",
     "output_type": "stream",
     "text": [
      "merg tupels  (1, 2, 3, 4, 5, 1, 2, 3, 4, 6)\n"
     ]
    }
   ],
   "source": [
    "tuple_1 = (1,2,3,4,5)\n",
    "tuple_2 = (1,2,3,4,6)\n",
    "\n",
    "merg_tuple = tuple_1+tuple_2\n",
    "\n",
    "print(\"merg tupels \",merg_tuple)"
   ]
  },
  {
   "cell_type": "markdown",
   "id": "ee70fbf9-8f82-4aa7-b68d-488ab8b2bd08",
   "metadata": {},
   "source": [
    "- we start with the two example of tuples named tuple_1 and tuple_2.\n",
    "- we use the + operator to merg the both tupules  .\n",
    "- we print the merg tuples using print() function.\n"
   ]
  },
  {
   "cell_type": "markdown",
   "id": "c669d3de-f10a-4f4d-9dbc-12884ca4b271",
   "metadata": {},
   "source": [
    "### 31. Flatten a nested tuple."
   ]
  },
  {
   "cell_type": "code",
   "execution_count": 2,
   "id": "027fec18-e37a-4d78-97a3-66bfa5f51a71",
   "metadata": {},
   "outputs": [
    {
     "name": "stdout",
     "output_type": "stream",
     "text": [
      "Flattened tuple: (1, 2, 3, 4, 5, 6, 7, 8)\n"
     ]
    }
   ],
   "source": [
    "# Recursive function to flatten a nested tuple\n",
    "def flatten_tuple(nested_tuple):\n",
    "    flattened = []\n",
    "    for item in nested_tuple:\n",
    "        if isinstance(item, tuple):\n",
    "            flattened.extend(flatten_tuple(item))\n",
    "        else:\n",
    "            flattened.append(item)\n",
    "    return flattened\n",
    "\n",
    "# Step 1: Create a nested tuple\n",
    "nested_tuple = ((1, 2), (3, 4, 5), (6, (7, 8)))\n",
    "\n",
    "# Step 2: Flatten the nested tuple\n",
    "flattened_tuple = tuple(flatten_tuple(nested_tuple))\n",
    "\n",
    "# Step 3: Print the flattened tuple\n",
    "print(\"Flattened tuple:\", flattened_tuple)"
   ]
  },
  {
   "cell_type": "markdown",
   "id": "7923dd3b-2a1d-44a0-8e26-03f2aa243e44",
   "metadata": {},
   "source": [
    "- We define a recursive function named flatten_tuple that takes a nested tuple as input and returns a list of its flattened elements.\n",
    "- Inside the function, we iterate through each element in the nested tuple. If an element is itself a tuple, we recursively call the flatten_tuple function on that element and extend the flattened list with its flattened elements. If the element is not a tuple, we append it to the flattened list.\n",
    "- We create a nested tuple named nested_tuple with varying levels of nesting.\n",
    "- We use the flatten_tuple function to convert the nested tuple into a flattened list and then convert the list back to a tuple using the tuple() constructor.\n",
    "- We print the resulting flattened tuple."
   ]
  },
  {
   "cell_type": "markdown",
   "id": "7eceea22-4012-469c-8d48-282b5175a923",
   "metadata": {},
   "source": [
    "### 32. Create a tuple of the first 5 prime numbers."
   ]
  },
  {
   "cell_type": "code",
   "execution_count": 3,
   "id": "12fb90e3-67e1-4ba0-8749-8964b56df7f0",
   "metadata": {},
   "outputs": [
    {
     "name": "stdout",
     "output_type": "stream",
     "text": [
      "Tuple of the first 5 prime numbers: (2, 3, 5, 7, 11)\n"
     ]
    }
   ],
   "source": [
    "# Function to check if a number is prime\n",
    "def is_prime(num):\n",
    "    if num <= 1:\n",
    "        return False\n",
    "    for i in range(2, int(num ** 0.5) + 1):\n",
    "        if num % i == 0:\n",
    "            return False\n",
    "    return True\n",
    "\n",
    "# Generate the first 5 prime numbers\n",
    "prime_numbers_list = [num for num in range(2, 100) if is_prime(num)][:5]\n",
    "\n",
    "# Convert the list to a tuple\n",
    "prime_numbers_tuple = tuple(prime_numbers_list)\n",
    "\n",
    "# Print the tuple of prime numbers\n",
    "print(\"Tuple of the first 5 prime numbers:\", prime_numbers_tuple)"
   ]
  },
  {
   "cell_type": "markdown",
   "id": "8f7d742c-d0e2-4d41-b22a-465845c3f2c3",
   "metadata": {},
   "source": [
    "- We define a function is_prime(num) that checks whether a given number is prime. It returns True if the number is prime and False otherwise.\n",
    "- We use a list comprehension to generate a list of prime numbers. The list comprehension iterates through numbers from 2 to 99 and selects the first 5 prime numbers using the is_prime() function.\n",
    "- We convert the list of prime numbers to a tuple using the tuple() constructor.\n",
    "- We print the resulting tuple of the first 5 prime numbers."
   ]
  },
  {
   "cell_type": "markdown",
   "id": "6c5a20fc-1634-4294-902e-a21a33880163",
   "metadata": {},
   "source": [
    "### 3. Check if a tuple is a palindrome."
   ]
  },
  {
   "cell_type": "code",
   "execution_count": 4,
   "id": "e8724f33-0146-4e9b-aba0-b3fb93976690",
   "metadata": {},
   "outputs": [
    {
     "name": "stdout",
     "output_type": "stream",
     "text": [
      "palindrome_tuple is apalindrom: True\n",
      "palindrome_tuple is apalindrom: False\n"
     ]
    }
   ],
   "source": [
    "def is_palindrom(tpl):\n",
    "    return tpl == tpl[::-1]\n",
    "\n",
    "palindropm_tuple = (1, 2, 3, 2, 1)\n",
    "\n",
    "non_palindrom_tuple = (1,2,3,4,5)\n",
    "\n",
    "is_palindrom_1 =is_palindrom ( palindropm_tuple )\n",
    "is_palindrom_2 =is_palindrom (non_palindrom_tuple)\n",
    "\n",
    "print(\"palindrome_tuple is apalindrom:\",is_palindrom_1)\n",
    "print(\"palindrome_tuple is apalindrom:\",is_palindrom_2)"
   ]
  },
  {
   "cell_type": "markdown",
   "id": "fc1ef40f-c6de-475b-a301-b96f3c5510dd",
   "metadata": {},
   "source": [
    "- We define a function is_palindrome(tup) that takes a tuple as input and returns True if the tuple is a palindrome (reads the same forwards and backwards), and False otherwise.\n",
    "- Inside the function, we compare the input tuple tup with its reversed version using the slicing notation tup[::-1].\n",
    "- We create two tuples, palindrome_tuple and non_palindrome_tuple, for testing.\n",
    "- We call the is_palindrome() function on each tuple to check if they are palindromes.\n",
    "- We print the results of the palindrome checks."
   ]
  },
  {
   "cell_type": "markdown",
   "id": "37596ca8-9e71-4ae8-99a1-f2600615ca49",
   "metadata": {},
   "source": [
    "### 34. Create a tuple of squares of numbers from 1 to 5."
   ]
  },
  {
   "cell_type": "code",
   "execution_count": 8,
   "id": "d0148ad1-1ff6-4725-aab2-454539d24ee1",
   "metadata": {},
   "outputs": [
    {
     "name": "stdout",
     "output_type": "stream",
     "text": [
      "squre of tuples: (1, 4, 9, 16, 25)\n"
     ]
    }
   ],
   "source": [
    "create_a_tuple_square = tuple( i**2 for i in range(1,6))\n",
    "\n",
    "\n",
    "print(\"squre of tuples:\",create_a_tuple_square)"
   ]
  },
  {
   "cell_type": "markdown",
   "id": "27708520-3dbc-4c9f-8ba5-ae12d459b206",
   "metadata": {},
   "source": [
    "- We use a list comprehension to calculate the squares of numbers from 1 to 5. - The expression x ** 2 calculates the square of each number x.\n",
    "- We convert the list of squares to a tuple using the tuple() constructor.\n",
    "- We print the resulting tuple of squares."
   ]
  },
  {
   "cell_type": "markdown",
   "id": "7ec2f6fa-e5ae-4b0f-8c3e-f549f299a5d1",
   "metadata": {},
   "source": [
    "### 35. Filter out all even numbers from a tuple."
   ]
  },
  {
   "cell_type": "code",
   "execution_count": 10,
   "id": "64dc52e0-5632-43f3-b6fa-493fb38143b3",
   "metadata": {},
   "outputs": [
    {
     "name": "stdout",
     "output_type": "stream",
     "text": [
      "even number: (2, 4, 6, 8, 10)\n"
     ]
    }
   ],
   "source": [
    "tuple_1 = (1,2,33,4,5,6,7,8,9,10)\n",
    "\n",
    "filter_out_tuple = tuple(i for i in tuple_1 if i %2==0)\n",
    "\n",
    "print(\"even number:\",filter_out_tuple)"
   ]
  },
  {
   "cell_type": "markdown",
   "id": "0ee97f06-ea6d-487a-a6db-e00ce6f0092f",
   "metadata": {},
   "source": [
    "- we star by creating tuple named tuple_1 contains some inegers element .\n",
    "- we use the  list comprehension to iterate through each number in the  tuple_1 . the conditional statements i%2==0 cheks the number is even .\n",
    "- we use the tuple() function to convert list into a tuple .\n",
    "- we print the resulting filtered tuple ."
   ]
  },
  {
   "cell_type": "markdown",
   "id": "b5494d06-f226-44b5-93ed-b4053012d413",
   "metadata": {},
   "source": [
    "### 36. Multiply all elements in a tuple by 2."
   ]
  },
  {
   "cell_type": "code",
   "execution_count": 12,
   "id": "4eb0fe3f-16f1-4933-b215-40a5b8629276",
   "metadata": {},
   "outputs": [
    {
     "name": "stdout",
     "output_type": "stream",
     "text": [
      "multiplyed tuple elements : (1, 2, 33, 4, 5, 6, 7, 8, 9, 10, 1, 2, 33, 4, 5, 6, 7, 8, 9, 10)\n"
     ]
    }
   ],
   "source": [
    "tuple_1 = (1,2,33,4,5,6,7,8,9,10)\n",
    "\n",
    "modified_tuple = tuple_1*2\n",
    "\n",
    "\n",
    "print(\"multiplyed tuple elements :\",modified_tuple)"
   ]
  },
  {
   "cell_type": "markdown",
   "id": "6357dd35-ad8f-4c8a-9752-0182062bff9f",
   "metadata": {},
   "source": [
    "- we star by creating tuple named tuple_1 contains some inegers element .\n",
    "- we use the * operator to multiply of the tupeles .\n",
    "- we print the resulting modified tuple .\n"
   ]
  },
  {
   "cell_type": "markdown",
   "id": "8b981dd7-cb4d-4dc1-bdc0-fed357920768",
   "metadata": {},
   "source": [
    "### 37. Create a tuple of random numbers."
   ]
  },
  {
   "cell_type": "code",
   "execution_count": 14,
   "id": "b00b5efa-8508-4340-861d-dd095d4b7538",
   "metadata": {},
   "outputs": [
    {
     "name": "stdout",
     "output_type": "stream",
     "text": [
      "random tuple list: (49, 17, 12, 27, 44, 23, 19, 14, 2, 44)\n"
     ]
    }
   ],
   "source": [
    "import random\n",
    "\n",
    "random_tuple = tuple(random.randint(1,50) for i in range(10))\n",
    "\n",
    "\n",
    "print(\"random tuple list:\",random_tuple)"
   ]
  },
  {
   "cell_type": "markdown",
   "id": "7804e33c-34b1-4945-b9ab-7e08f0e566e4",
   "metadata": {},
   "source": [
    "- we import the random module to acess the randint() function.\n",
    "- we use the list comprehension to gentare the random 10 numbers using the random.randint(1,50) for i in range(10) : the function .\n",
    "- we convrt the random numbers list into tuple ,using the tuple() function .\n"
   ]
  },
  {
   "cell_type": "markdown",
   "id": "bb0a4625-3cb3-4806-b1ed-66e276de8a82",
   "metadata": {},
   "source": [
    "### 38. Check if a tuple is sorted."
   ]
  },
  {
   "cell_type": "code",
   "execution_count": 2,
   "id": "abb00dc4-5c93-4df7-a089-398093ae6b8e",
   "metadata": {},
   "outputs": [
    {
     "name": "stdout",
     "output_type": "stream",
     "text": [
      "sorted_tuple is sorted: True\n",
      "unsorted_tuple is sorted: False\n"
     ]
    }
   ],
   "source": [
    "# Function to check if a tuple is sorted\n",
    "def is_sorted(tup):\n",
    "    for i in range(len(tup) - 1):\n",
    "        if tup[i] > tup[i + 1]:\n",
    "            return False\n",
    "    return True\n",
    "\n",
    "# Create tuples for testing\n",
    "sorted_tuple = (1, 2, 3, 4, 5)\n",
    "unsorted_tuple = (5, 3, 1, 4, 2)\n",
    "\n",
    "# Check if the tuples are sorted\n",
    "is_sorted1 = is_sorted(sorted_tuple)\n",
    "is_sorted2 = is_sorted(unsorted_tuple)\n",
    "\n",
    "# Print the results\n",
    "print(\"sorted_tuple is sorted:\", is_sorted1)\n",
    "print(\"unsorted_tuple is sorted:\", is_sorted2)"
   ]
  },
  {
   "cell_type": "markdown",
   "id": "6ac9820a-41ef-4279-8133-3f06871e193a",
   "metadata": {},
   "source": [
    "- We define a function is_sorted(tup) that takes a tuple as input and returns True if the tuple is sorted in non-decreasing order, and False otherwise.\n",
    "- Inside the function, we iterate through the tuple's elements using a loop. We compare each element with the next one. If we find an element that is greater than the next one, the tuple is not sorted.\n",
    "- We create two tuples, sorted_tuple and unsorted_tuple, for testing.\n",
    "- We call the is_sorted() function on each tuple to check if they are sorted.\n",
    "- We print the results of the sorted checks."
   ]
  },
  {
   "cell_type": "markdown",
   "id": "080b1418-973c-4553-a839-015b4ae55dcb",
   "metadata": {},
   "source": [
    "### 39. Rotate a tuple to the left by `n` positions."
   ]
  },
  {
   "cell_type": "code",
   "execution_count": 3,
   "id": "d7607a69-c434-42c0-ab18-f14b835022b3",
   "metadata": {},
   "outputs": [
    {
     "name": "stdout",
     "output_type": "stream",
     "text": [
      "(3, 4, 5, 1, 2)\n"
     ]
    }
   ],
   "source": [
    "def rotate_tuple_left(tup, n):\n",
    "    n = n % len(tup)  # Ensure n is within the range of tuple length\n",
    "    rotated_tuple = tup[n:] + tup[:n]  # Rotate the tuple\n",
    "    return rotated_tuple\n",
    "\n",
    "# Example tuple\n",
    "my_tuple = (1, 2, 3, 4, 5)\n",
    "n_positions = 2\n",
    "result = rotate_tuple_left(my_tuple, n_positions)\n",
    "print(result)"
   ]
  },
  {
   "cell_type": "markdown",
   "id": "ac9af924-2945-40bc-9448-74d6305f1ab0",
   "metadata": {},
   "source": [
    "- Define a function named rotate_tuple_left that takes two parameters: tup (the tuple to rotate) and n (the number of positions to rotate by).\n",
    "- Inside the function, calculate n modulo len(tup) to ensure that n is within the range of the tuple length. This step is necessary to handle cases where n is greater than the tuple length.\n",
    "- Use slicing to create a new tuple named rotated_tuple by concatenating two parts:\n",
    "  - tup[n:] extracts the elements from index n to the end of the tuple.\n",
    "  - tup[:n] extracts the elements from the start of the tuple up to index n-1.\n",
    "- The concatenated parts create the rotated tuple.\n",
    "- Return the rotated_tuple from the function.\n",
    "- Define an example my_tuple containing elements (1, 2, 3, 4, 5) and n_positions as 2 for rotation.\n",
    "- Call the rotate_tuple_left function with the my_tuple and n_positions, and store the result in the result variable.\n",
    "- Print the result to see the tuple after left rotation by n_positions."
   ]
  },
  {
   "cell_type": "markdown",
   "id": "b09b7162-09fe-4403-84e6-6a3f67e82a41",
   "metadata": {},
   "source": [
    "### 40. Rotate a tuple to the right by `n` positions."
   ]
  },
  {
   "cell_type": "code",
   "execution_count": 4,
   "id": "a83b7cb6-bd34-4d9b-9de1-8eab1a27d795",
   "metadata": {},
   "outputs": [
    {
     "name": "stdout",
     "output_type": "stream",
     "text": [
      "(4, 5, 1, 2, 3)\n"
     ]
    }
   ],
   "source": [
    "def rotate_tuple_right(tup, n):\n",
    "    n = n % len(tup)  # Ensure n is within the range of tuple length\n",
    "    rotated_tuple = tup[-n:] + tup[:-n]  # Rotate the tuple\n",
    "    return rotated_tuple\n",
    "\n",
    "# Example tuple\n",
    "my_tuple = (1, 2, 3, 4, 5)\n",
    "n_positions = 2\n",
    "result = rotate_tuple_right(my_tuple, n_positions)\n",
    "print(result)"
   ]
  },
  {
   "cell_type": "markdown",
   "id": "1eabcac7-5edb-45f2-ac49-7ac0b389477b",
   "metadata": {},
   "source": [
    "- Define a function named rotate_tuple_right that takes two parameters: tup (the tuple to rotate) and n (the number of positions to rotate by).\n",
    "- Inside the function, calculate n modulo len(tup) to ensure that n is within the range of the tuple length.\n",
    "- Use slicing to create a new tuple named rotated_tuple by concatenating two parts:\n",
    "  - tup[-n:] extracts the last n elements of the tuple.\n",
    "  - tup[:-n] extracts the elements from the start of the tuple up to index -(n+1).\n",
    "- The concatenated parts create the rotated tuple.\n",
    "- Return the rotated_tuple from the function.\n",
    "- Define an example my_tuple containing elements (1, 2, 3, 4, 5) and n_positions as 2 for rotation.\n",
    "- Call the rotate_tuple_right function with the my_tuple and n_positions, and store the result in the result variable.\n",
    "- Print the result to see the tuple after right rotation by n_positions."
   ]
  },
  {
   "cell_type": "markdown",
   "id": "c3ba9ded-80fb-44e5-9ce0-2da07ad0604c",
   "metadata": {},
   "source": [
    "### 41. Create a tuple of the first 5 Fibonacci numbers."
   ]
  },
  {
   "cell_type": "code",
   "execution_count": 5,
   "id": "0450ece1-c5fc-42ba-879a-3052ccb635d4",
   "metadata": {},
   "outputs": [
    {
     "name": "stdout",
     "output_type": "stream",
     "text": [
      "(0, 1, 1, 2, 3)\n"
     ]
    }
   ],
   "source": [
    "# Define a function to generate the first n Fibonacci numbers\n",
    "def generate_fibonacci(n):\n",
    "    fibonacci = [0, 1]  # Initialize the list with the first two Fibonacci numbers\n",
    "    while len(fibonacci) < n:  # Continue generating Fibonacci numbers until the list has n elements\n",
    "        next_number = fibonacci[-1] + fibonacci[-2]  # Calculate the next Fibonacci number\n",
    "        fibonacci.append(next_number)  # Add the next Fibonacci number to the list\n",
    "    return tuple(fibonacci)  # Convert the list to a tuple and return it\n",
    "\n",
    "# Call the generate_fibonacci function to create a tuple of the first 5 Fibonacci numbers\n",
    "fibonacci_tuple = generate_fibonacci(5)\n",
    "\n",
    "# Print the resulting tuple\n",
    "print(fibonacci_tuple)"
   ]
  },
  {
   "cell_type": "markdown",
   "id": "a68fb377-14d4-4ab9-87e9-9f56e5ee6df8",
   "metadata": {},
   "source": [
    "- Create a function named generate_fibonacci that takes a parameter n, which represents the number of Fibonacci numbers to generate.\n",
    "- Create a list called fibonacci and initialize it with the first two Fibonacci numbers [0, 1].\n",
    "- Use a while loop to continue generating Fibonacci numbers until the length of the fibonacci list is less than n.\n",
    "- Calculate the next Fibonacci number: Calculate the next Fibonacci number by adding the last two numbers in the fibonacci list. We use negative indexing to access the last and second-to-last elements.\n",
    "- Add the next Fibonacci number to the list: Append the next_number to the end of the fibonacci list.\n",
    "- Convert the list to a tuple and return it: Call the generate_fibonacci function with an argument of 5 to generate the first 5 Fibonacci numbers and store the resulting tuple in the variable fibonacci_tuple.\n",
    "- Print the fibonacci_tuple, which contains the first 5 Fibonacci numbers."
   ]
  },
  {
   "cell_type": "markdown",
   "id": "e88cd312-196c-401a-a3fc-741d25b812a9",
   "metadata": {},
   "source": [
    "### 42. Create a tuple from user input."
   ]
  },
  {
   "cell_type": "code",
   "execution_count": 14,
   "id": "c6624142-52d5-4429-b1e2-5b7c694bf819",
   "metadata": {},
   "outputs": [
    {
     "name": "stdin",
     "output_type": "stream",
     "text": [
      "  name - avneesh ,name-rahul\n"
     ]
    },
    {
     "name": "stdout",
     "output_type": "stream",
     "text": [
      "(' name - avneesh ', 'name-rahul')\n"
     ]
    }
   ],
   "source": [
    "tuple_str = input()\n",
    "\n",
    "    \n",
    "input_list = tuple_str.split(',')\n",
    "\n",
    "\n",
    "\n",
    "user_tuple = tuple(input_list)\n",
    "\n",
    "print(user_tuple)\n",
    "    "
   ]
  },
  {
   "cell_type": "markdown",
   "id": "467ded31-edff-4e2c-a243-e628ad0d86ed",
   "metadata": {},
   "source": [
    "- in this code the user is prompted to enter elements separated by comma . the input is split into a list of strings using split() method ,and then convert into a tuple using the tuple() method . finaly the created tuple is printed to the console ."
   ]
  },
  {
   "cell_type": "markdown",
   "id": "c732a6bc-a39b-40fe-b2ed-7d0b8079cb05",
   "metadata": {},
   "source": [
    "### 43. Swap two elements in a tuple."
   ]
  },
  {
   "cell_type": "code",
   "execution_count": 15,
   "id": "4a63fafb-7707-445d-8b0e-a8afa9bc30a2",
   "metadata": {},
   "outputs": [
    {
     "name": "stdout",
     "output_type": "stream",
     "text": [
      "Swapped tuple: (1, 4, 3, 2, 5)\n"
     ]
    }
   ],
   "source": [
    "# Create a tuple\n",
    "my_tuple = (1, 2, 3, 4, 5)\n",
    "\n",
    "# Swap elements at indices 1 and 3\n",
    "index1 = 1\n",
    "index2 = 3\n",
    "swapped_tuple = tuple(\n",
    "    my_tuple[i] if i not in (index1, index2) else\n",
    "    my_tuple[index2] if i == index1 else\n",
    "    my_tuple[index1]\n",
    "    for i in range(len(my_tuple))\n",
    ")\n",
    "\n",
    "# Print the swapped tuple\n",
    "print(\"Swapped tuple:\", swapped_tuple)"
   ]
  },
  {
   "cell_type": "markdown",
   "id": "62024f98-07f1-464f-8944-55ea8639f355",
   "metadata": {},
   "source": [
    "- We start by creating a tuple named my_tuple with some elements.\n",
    "- We specify the indices (index1 and index2) of the elements we want to swap.\n",
    "- We use a list comprehension to create a new tuple. For each index i in the range of the tuple's length, we decide which value to include in the new tuple:\n",
    "  - If i is not index1 or index2, we include the original value from my_tuple.\n",
    "  - If i is index1, we include the value at index2 from my_tuple.\n",
    "  - If i is index2, we include the value at index1 from my_tuple.\n",
    "- We convert the list comprehension to a tuple using the tuple() constructor.\n",
    "- We print the resulting swapped tuple."
   ]
  },
  {
   "cell_type": "markdown",
   "id": "12ba4dab-590a-469b-894f-b3ecbe348ca9",
   "metadata": {},
   "source": [
    "### 44. Reverse the elements of a tuple."
   ]
  },
  {
   "cell_type": "code",
   "execution_count": 19,
   "id": "587b0472-35f6-4365-b229-96077db27367",
   "metadata": {},
   "outputs": [
    {
     "name": "stdout",
     "output_type": "stream",
     "text": [
      "reverse tuple : (5, 4, 3, 2, 1)\n"
     ]
    }
   ],
   "source": [
    "my_tuple = (1, 2, 3, 4, 5)\n",
    "\n",
    "reverse_the_element =my_tuple[::-1]\n",
    "\n",
    "print(\"reverse tuple :\",reverse_the_element)"
   ]
  },
  {
   "cell_type": "markdown",
   "id": "c5b590ea-eaa1-47a7-9d30-8af14baf7843",
   "metadata": {},
   "source": [
    "- we star creating by tuple named my_tuple contains some integers elemnt .\n",
    "\n",
    "- we use the slicing with the notation my_tuple[::-1] to reverse a tuple\n",
    "\n",
    "- we print the reverse tuple using print() statements ."
   ]
  },
  {
   "cell_type": "markdown",
   "id": "ab68b5a4-bc45-4c5c-b5a1-e74dc9e52c43",
   "metadata": {},
   "source": [
    "### 45. Create a tuple of the first `n` powers of 2."
   ]
  },
  {
   "cell_type": "code",
   "execution_count": 28,
   "id": "98f312d1-f2c9-4ce7-a752-93cb496bc9c5",
   "metadata": {},
   "outputs": [
    {
     "name": "stdout",
     "output_type": "stream",
     "text": [
      "power of the first n tuple: (0, 1, 4, 9, 16, 25, 36, 49, 64, 81)\n"
     ]
    }
   ],
   "source": [
    "power_of_tuple = tuple (i**2 for i in range(10))\n",
    "                  \n",
    "               \n",
    "print(\"power of the first n tuple:\", power_of_tuple)"
   ]
  },
  {
   "cell_type": "markdown",
   "id": "9df88aaf-ab2b-4188-9b5a-6079e27eb60a",
   "metadata": {},
   "source": [
    "- we use the list comprehension to generate the power of 2 using the exprassion  i**2 ,where i varies from 0 to 9.\n",
    "- we use the tuple() function to converting the resulting list into tuples .\n",
    "- we use the print statements to print it."
   ]
  },
  {
   "cell_type": "markdown",
   "id": "233136b9-4b60-41c2-a5f5-6f54280e1645",
   "metadata": {},
   "source": [
    "### 46. Find the longest string in a tuple of strings."
   ]
  },
  {
   "cell_type": "code",
   "execution_count": 36,
   "id": "98150c7c-f3cf-4743-af58-e5a56a48f6c0",
   "metadata": {},
   "outputs": [
    {
     "name": "stdout",
     "output_type": "stream",
     "text": [
      "Longest string: satrohana\n"
     ]
    }
   ],
   "source": [
    "# Create a tuple of strings\n",
    "string_tuple = (\"ram\",\"shyam\",\"gopal\",\"bharat\",\"satrohana\")\n",
    "\n",
    "# Find the longest string in the tuple\n",
    "longest_string = max(string_tuple,key= len)\n",
    "\n",
    "# Print the longest string\n",
    "print(\"Longest string:\", longest_string)"
   ]
  },
  {
   "cell_type": "markdown",
   "id": "da074b84-2797-44d8-91a6-eb1680af6a77",
   "metadata": {},
   "source": [
    "- We start by creating a tuple named string_tuple containing some string elements.\n",
    "- We use the max() function with the key parameter set to len to find the longest string in the tuple based on the length of each string.\n",
    "- The key=len argument tells max() to compare the strings based on their lengths.\n",
    "- We print the resulting longest string"
   ]
  },
  {
   "cell_type": "markdown",
   "id": "21523a83-b6c4-486b-aeed-ca54c3c886ad",
   "metadata": {},
   "source": [
    "### 47. Find the shortest string in a tuple of strings."
   ]
  },
  {
   "cell_type": "code",
   "execution_count": 37,
   "id": "08acdd66-9685-477f-a630-2cb2f87e628c",
   "metadata": {},
   "outputs": [
    {
     "name": "stdout",
     "output_type": "stream",
     "text": [
      "Longest string: ram\n"
     ]
    }
   ],
   "source": [
    "# Create a tuple of strings\n",
    "string_tuple = (\"ram\",\"shyam\",\"gopal\",\"bharat\",\"satrohana\")\n",
    "\n",
    "# Find the shortest string in the tuple\n",
    "shortest_string = min(string_tuple,key= len)\n",
    "\n",
    "# Print the longest string\n",
    "print(\"Longest string:\", shortest_string)"
   ]
  },
  {
   "cell_type": "markdown",
   "id": "6b409b8f-159b-4e91-b98e-c6178360a471",
   "metadata": {},
   "source": [
    "- We start by creating a tuple named string_tuple containing some string elements.\n",
    "- We use the min() function with the key parameter set to len to find the longest string in the tuple based on the length of each string.\n",
    "- The key=len argument tells min() to compare the strings based on their lengths.\n",
    "- We print the resulting longest string"
   ]
  },
  {
   "cell_type": "markdown",
   "id": "dbb7b7fa-accf-46e4-baee-d71b1f681a86",
   "metadata": {},
   "source": [
    "### 48. Create a tuple of the first `n` triangular numbers."
   ]
  },
  {
   "cell_type": "code",
   "execution_count": 38,
   "id": "9740be5a-8ca9-48f5-b449-6fd8c6f81e18",
   "metadata": {},
   "outputs": [
    {
     "name": "stdout",
     "output_type": "stream",
     "text": [
      "Tuple of the first 5 triangular numbers: (1, 3, 6, 10, 15)\n"
     ]
    }
   ],
   "source": [
    "# Define the value of n\n",
    "n = 5\n",
    "\n",
    "# Create a tuple of the first n triangular numbers using a list comprehension\n",
    "triangular_numbers_tuple = tuple((i * (i + 1)) // 2 for i in range(1, n + 1))\n",
    "\n",
    "# Print the tuple of triangular numbers\n",
    "print(\"Tuple of the first\", n, \"triangular numbers:\", triangular_numbers_tuple)"
   ]
  },
  {
   "cell_type": "markdown",
   "id": "d2c91a56-2d2a-4768-9678-729988867bae",
   "metadata": {},
   "source": [
    "- We define the value of n to determine how many triangular numbers you want to generate.\n",
    "- We use a list comprehension to calculate the triangular numbers using the expression (i * (i + 1)) // 2 where i varies from 1 to n.\n",
    "- We convert the resulting list of triangular numbers to a tuple using the tuple() constructor.\n",
    "- We print the resulting tuple of triangular numbers."
   ]
  },
  {
   "cell_type": "markdown",
   "id": "89943f1b-9d1e-4199-9673-487a8ec5d290",
   "metadata": {},
   "source": [
    "### 49. Check if a tuple contains another tuple as a subsequence."
   ]
  },
  {
   "cell_type": "code",
   "execution_count": 39,
   "id": "f497f647-7266-4a9d-9b9b-d381aa3e8fda",
   "metadata": {},
   "outputs": [
    {
     "name": "stdout",
     "output_type": "stream",
     "text": [
      "Main tuple contains subsequence tuple: True\n"
     ]
    }
   ],
   "source": [
    "# Function to check if a tuple contains another tuple as a subsequence\n",
    "def contains_subsequence(main_tuple, sub_tuple):\n",
    "    sub_length = len(sub_tuple)\n",
    "    for i in range(len(main_tuple) - sub_length + 1):\n",
    "        if main_tuple[i:i+sub_length] == sub_tuple:\n",
    "            return True\n",
    "    return False\n",
    "\n",
    "# Main tuple\n",
    "main_tuple = (1, 2, 3, 4, 5, 6, 7, 8, 9)\n",
    "\n",
    "# Subsequence tuple\n",
    "sub_tuple = (3, 4, 5)\n",
    "\n",
    "# Check if the main tuple contains the subsequence tuple\n",
    "contains_subseq = contains_subsequence(main_tuple, sub_tuple)\n",
    "\n",
    "# Print the result\n",
    "print(\"Main tuple contains subsequence tuple:\", contains_subseq)"
   ]
  },
  {
   "cell_type": "markdown",
   "id": "ae97a4a7-10a7-43f1-b6a2-5402c07c4a29",
   "metadata": {},
   "source": [
    "- We define a function contains_subsequence(main_tuple, sub_tuple) that takes two tuples as input and returns True if the main_tuple contains the sub_tuple as a subsequence, and False otherwise.\n",
    "- Inside the function, we calculate the length of the sub_tuple.\n",
    "- We iterate through the main_tuple using a loop that runs until the end of the main tuple minus the length of the subtuple. This is because there's no need to compare subsequences if there isn't enough space left in the main tuple.\n",
    "- Within the loop, we check if the slice of the main_tuple from index i to i + sub_length is equal to the sub_tuple. If it is, then the main_tuple contains the sub_tuple as a subsequence.\n",
    "- We return True if the subsequence is found, and if the loop completes without finding the subsequence, we return False.\n",
    "- We create the main tuple and subsequence tuple for testing.\n",
    "- We call the contains_subsequence() function and store the result in the contains_subseq variable.\n",
    "- We print the result."
   ]
  },
  {
   "cell_type": "markdown",
   "id": "7f0e1fdb-4f09-49d2-a689-e50ebbb882f4",
   "metadata": {},
   "source": [
    "### 50. Create a tuple of alternating 1s and 0s of length `n`."
   ]
  },
  {
   "cell_type": "code",
   "execution_count": 40,
   "id": "0aa73108-e4ae-447e-9352-ddaa9db22e24",
   "metadata": {},
   "outputs": [
    {
     "name": "stdout",
     "output_type": "stream",
     "text": [
      "Tuple of alternating 1s and 0s: (0, 1, 0, 1, 0, 1, 0, 1, 0, 1)\n"
     ]
    }
   ],
   "source": [
    "# Define the value of n\n",
    "n = 10\n",
    "\n",
    "# Create a tuple of alternating 1s and 0s using a list comprehension\n",
    "alternating_tuple = tuple(i % 2 for i in range(n))\n",
    "\n",
    "# Print the tuple of alternating 1s and 0s\n",
    "print(\"Tuple of alternating 1s and 0s:\", alternating_tuple)"
   ]
  },
  {
   "cell_type": "markdown",
   "id": "e083463b-6bf4-4bd3-a1d4-d7fc5e510356",
   "metadata": {},
   "source": [
    "- We define the value of n to determine the length of the tuple you want to generate.\n",
    "- We use a list comprehension to generate the alternating 1s and 0s pattern using the expression i % 2, which produces 0 for even i values and 1 for odd i values.\n",
    "- We convert the resulting list of alternating 1s and 0s to a tuple using the tuple() constructor.\n",
    "- We print the resulting tuple of alternating 1s and 0s."
   ]
  },
  {
   "cell_type": "markdown",
   "id": "efb55441-0c31-4d6d-acff-31f8e229fef5",
   "metadata": {},
   "source": [
    "----------"
   ]
  },
  {
   "cell_type": "markdown",
   "id": "9efe6e9c-252a-4ac3-bcb4-14b415026ce9",
   "metadata": {},
   "source": [
    "## **Set based problems:**"
   ]
  },
  {
   "cell_type": "markdown",
   "id": "00f4468f-1e49-40e0-9af7-e55ee0fa6aac",
   "metadata": {},
   "source": [
    "----"
   ]
  },
  {
   "cell_type": "markdown",
   "id": "398bf999-da71-4986-a20e-f7eee42d1ea8",
   "metadata": {},
   "source": [
    "### 1. Create a set with integers from 1 to 5"
   ]
  },
  {
   "cell_type": "code",
   "execution_count": 45,
   "id": "19119e38-03a6-46d4-81ad-1297b70a826b",
   "metadata": {},
   "outputs": [
    {
     "name": "stdout",
     "output_type": "stream",
     "text": [
      "set with integers : {0, 1, 2, 3, 4, 5, 6, 7, 8, 9}\n"
     ]
    }
   ],
   "source": [
    "set_=set(i for i in range(10))\n",
    "\n",
    "\n",
    "print(\"set with integers :\",set_)"
   ]
  },
  {
   "cell_type": "markdown",
   "id": "bc3b43cd-9c9e-4c4c-89b0-6b8feb11353d",
   "metadata": {},
   "source": [
    "- we use the list comprehension to create the list from 1 to 9 .\n",
    "- we use the set() function to convert list into a set. \n",
    "- we print the set wit integers using print() statements ."
   ]
  },
  {
   "cell_type": "markdown",
   "id": "4741477c-92e3-44c8-89af-f1dc77e8d130",
   "metadata": {},
   "source": [
    "### 2. Add an element to a set"
   ]
  },
  {
   "cell_type": "code",
   "execution_count": 50,
   "id": "fd4d56d4-dd40-4f02-9b9a-76228c8d3da5",
   "metadata": {},
   "outputs": [
    {
     "name": "stdout",
     "output_type": "stream",
     "text": [
      "new set: {0, 1, 2, 3, 4, 5, 6, 7, 8, 9, 10}\n"
     ]
    }
   ],
   "source": [
    "my_set = {0, 1, 2, 3, 4, 5, 6, 7, 8, 9}\n",
    "\n",
    "add_element = my_set.add(10)\n",
    "\n",
    "print(\"new set:\",my_set)"
   ]
  },
  {
   "cell_type": "markdown",
   "id": "efb0ae68-5b67-4625-8cce-8c73121a8b80",
   "metadata": {},
   "source": [
    "- we starts with the set named my_set contains some integer elements .\n",
    "- we use the my_set.add(10)  function to add the 10 into the old set"
   ]
  },
  {
   "cell_type": "markdown",
   "id": "6fef4b4b-481c-445d-a5ac-852cd37d92df",
   "metadata": {},
   "source": [
    "### 3. Remove an element from a set.\n"
   ]
  },
  {
   "cell_type": "code",
   "execution_count": 130,
   "id": "828b26e5-3261-4f2e-9135-21f9c183f333",
   "metadata": {},
   "outputs": [],
   "source": [
    "my_set = {0, 1, 2, 3, 4, 5, 6, 7, 8, 9}\n",
    "\n",
    "remove_element = my_set.remove(6)"
   ]
  },
  {
   "cell_type": "code",
   "execution_count": 52,
   "id": "370bbd0f-b01b-4560-92b4-e32af05725d7",
   "metadata": {},
   "outputs": [
    {
     "data": {
      "text/plain": [
       "{0, 1, 2, 3, 4, 5, 7, 8, 9}"
      ]
     },
     "execution_count": 52,
     "metadata": {},
     "output_type": "execute_result"
    }
   ],
   "source": [
    "my_set"
   ]
  },
  {
   "cell_type": "markdown",
   "id": "1acf9d8c-45ef-4853-b06f-ad5c8a7fe9cd",
   "metadata": {},
   "source": [
    "- we starts with the set named my_set contains some integer elements .\n",
    "- we use the remove() function to remove 6 from the my_set .\n",
    "\n",
    "- we call the my_set resulting me 6 is removed ."
   ]
  },
  {
   "cell_type": "markdown",
   "id": "1d5ac53f-fc73-4a3d-86fc-b10b5fe1e7f2",
   "metadata": {},
   "source": [
    "### 4. Check if an element exists in a set.\n"
   ]
  },
  {
   "cell_type": "code",
   "execution_count": 129,
   "id": "7788d7ee-a804-43db-a587-9fc4d54d5995",
   "metadata": {},
   "outputs": [
    {
     "name": "stdin",
     "output_type": "stream",
     "text": [
      "inter the integer value 5\n"
     ]
    },
    {
     "name": "stdout",
     "output_type": "stream",
     "text": [
      "element is exist in set: 5\n"
     ]
    }
   ],
   "source": [
    "my_set = {0, 1, 2, 3, 4, 5, 6, 7, 8, 9}\n",
    "\n",
    "chek_my_set = int(input(\"inter the integer value\"))\n",
    "\n",
    "if chek_my_set in my_set:\n",
    "    print(\"element is exist in set:\",chek_my_set)\n",
    "    \n",
    "else:\n",
    "    print(\"element is not exist in set:\",chek_my_set)"
   ]
  },
  {
   "cell_type": "markdown",
   "id": "c31a27ca-cd9e-4887-9f80-b71c88759354",
   "metadata": {},
   "source": [
    "- we starts by creating a set named my_set contains some integer element .\n",
    "- we ask the user input using input() functio ,that user want to chek the element is exist in their set or not .\n",
    "- if user input in the set if condition will be true and write over here .\n",
    "- if user input is not in the set then else condition will we true and print it .\n"
   ]
  },
  {
   "cell_type": "markdown",
   "id": "60bb45c7-54ae-4dd4-9480-4da8e123f034",
   "metadata": {},
   "source": [
    "### 5. Find the length of a set without using the `len()` function"
   ]
  },
  {
   "cell_type": "code",
   "execution_count": null,
   "id": "ae30c527-caba-44f7-a3a1-0e467c8bb49c",
   "metadata": {},
   "outputs": [
    {
     "name": "stdout",
     "output_type": "stream",
     "text": [
      "length of the set: 10\n"
     ]
    }
   ],
   "source": [
    "my_set = {0, 1, 2, 3, 4, 5, 6, 7, 8, 9}\n",
    "\n",
    "count = 0\n",
    "\n",
    "\n",
    "for i in my_set:\n",
    "    count = count+1\n",
    "    \n",
    "print(\"length of the set:\",count)"
   ]
  },
  {
   "cell_type": "markdown",
   "id": "0115daad-a2cc-454e-b2c8-b75a265db806",
   "metadata": {},
   "source": [
    "- we start wit the example of set named my_set contains integers element .\n",
    "- we initilize a variable count to keep track of the number of elemnt in the set . this variable will acts as our manual counter for the length.\n",
    "- we use the for loop to iterate each element through my_set . the i is a common convention to represent a variable whose value is't going to be used with in thw loop .since we are interested in count ,we don't need to indivisual elements themselves .\n",
    "\n",
    "- inside the loop for each iteration the value we increase by 1 .this simulates counting the element as we iterate through them.\n",
    "- once the loop finishes iterating through all the elements, we have the total count stored in the count variable ."
   ]
  },
  {
   "cell_type": "markdown",
   "id": "90737b3c-e2b4-4830-b373-eab4814c45f2",
   "metadata": {},
   "source": [
    "### 6. Clear all elements from a set."
   ]
  },
  {
   "cell_type": "code",
   "execution_count": 61,
   "id": "5b4c8c1a-6de1-4eb0-b442-18c8d0b3fa4d",
   "metadata": {},
   "outputs": [
    {
     "name": "stdout",
     "output_type": "stream",
     "text": [
      "clear all element : set()\n"
     ]
    }
   ],
   "source": [
    "my_set = {0, 1, 2, 3, 4, 5, 6, 7, 8, 9}\n",
    "\n",
    "\n",
    "clear_set = my_set.clear()\n",
    "\n",
    "print(\"clear all element :\",my_set)"
   ]
  },
  {
   "cell_type": "markdown",
   "id": "2c195b2a-dd2f-4ce6-95cb-198dd54f7f87",
   "metadata": {},
   "source": [
    "- We create a set named my_set containing the integers from 1 to 5 using the curly braces {}.\n",
    "- We call the clear() method on the my_set set. This method removes all elements from the set, effectively emptying it.\n"
   ]
  },
  {
   "cell_type": "markdown",
   "id": "ffa7d4eb-cce0-4689-9291-c5771357fcb2",
   "metadata": {},
   "source": [
    "### 7. Create a set of even numbers from 1 to 10"
   ]
  },
  {
   "cell_type": "code",
   "execution_count": 126,
   "id": "7f9972e1-28e0-4723-9437-09d200600576",
   "metadata": {},
   "outputs": [
    {
     "name": "stdout",
     "output_type": "stream",
     "text": [
      "set of even numbers : {0, 2, 4, 6, 8, 10}\n"
     ]
    }
   ],
   "source": [
    "set_of_even_numbers = set(i for i in range(11) if i%2==0)\n",
    "\n",
    "print(\"set of even numbers :\",set_of_even_numbers)"
   ]
  },
  {
   "cell_type": "markdown",
   "id": "3f42be07-6b7d-489d-a787-63f0924b8f0c",
   "metadata": {},
   "source": [
    "- we use the list comprehension to generate the list of even number from 1 to 10 .\n",
    "- we  use the set() function to convert the list into set .\n",
    "- we print the set of even number using prin() statements."
   ]
  },
  {
   "cell_type": "markdown",
   "id": "dbe377cb-52f0-4622-a4fb-3592f66c3bf4",
   "metadata": {},
   "source": [
    "### 8. Create a set of odd numbers from 1 to 10"
   ]
  },
  {
   "cell_type": "code",
   "execution_count": 68,
   "id": "d514e7a3-b82f-4503-b855-c478f1edd0f2",
   "metadata": {},
   "outputs": [
    {
     "name": "stdout",
     "output_type": "stream",
     "text": [
      "set of odd numbers : {1, 3, 5, 7, 9}\n"
     ]
    }
   ],
   "source": [
    "set_of_odd_numbers = set(i for i in range(11) if i%2!=0)\n",
    "\n",
    "print(\"set of odd numbers :\",set_of_odd_numbers)"
   ]
  },
  {
   "cell_type": "markdown",
   "id": "40dcdbb4-7dfe-4dcc-bcd3-0ec3f6ad2625",
   "metadata": {},
   "source": [
    "- we use the list comprehension to generate the list of odd number from 1 to 10 .\n",
    "- we  use the set() function to convert the list into set .\n",
    "- we print the set of odd number using prin() statements."
   ]
  },
  {
   "cell_type": "markdown",
   "id": "5d695b4b-e342-4bf0-af5b-45a6f7e4c264",
   "metadata": {},
   "source": [
    "### 9. Find the union of two sets"
   ]
  },
  {
   "cell_type": "code",
   "execution_count": 125,
   "id": "6db66d0a-3fd7-410a-87f9-c90ad73115f5",
   "metadata": {},
   "outputs": [
    {
     "name": "stdout",
     "output_type": "stream",
     "text": [
      "union of set : {1, 2, 3, 4, 5, 6, 8}\n"
     ]
    }
   ],
   "source": [
    "set_a = {1,2,3,4,5,6}\n",
    "set_b = {4,5,5,5,5,6,8}\n",
    "\n",
    "set_of_union = set_a.union(set_b)\n",
    "\n",
    "print(\"union of set :\",set_of_union)"
   ]
  },
  {
   "cell_type": "markdown",
   "id": "76aa2b1c-5ba6-44f5-8128-ebda7be6e1a5",
   "metadata": {},
   "source": [
    "- we start by creatint two set named set_a and set_b respectively and contains some elements .\n",
    "- we use the union() method to find the union of two set . this union returns a another set with the unique vale of elements .\n",
    "- we use the print() method to print the union of set."
   ]
  },
  {
   "cell_type": "markdown",
   "id": "e207fb8d-d582-4bc2-937f-0973b5d0410c",
   "metadata": {},
   "source": [
    "### 10. Find the intersection of two sets"
   ]
  },
  {
   "cell_type": "code",
   "execution_count": 77,
   "id": "0b69063d-f0c0-457e-9766-35e05d1fb6b6",
   "metadata": {},
   "outputs": [
    {
     "name": "stdout",
     "output_type": "stream",
     "text": [
      "intersection  of set : {4, 5, 6}\n"
     ]
    }
   ],
   "source": [
    "set_a = {1,2,3,4,5,6}\n",
    "set_b = {4,5,5,5,5,6,8}\n",
    "\n",
    "set_of_intersection = set_a.intersection(set_b)\n",
    "\n",
    "print(\"intersection  of set :\",set_of_intersection)"
   ]
  },
  {
   "cell_type": "markdown",
   "id": "17865bb6-edce-4e0a-b260-1856679eae8a",
   "metadata": {},
   "source": [
    "- we start by creating two set named set_a and set_b respectively and contains some elements .\n",
    "- we use the intersection() method to find the intersection of two set . this intersection returns a another set with the unique vale of elements .\n",
    "- we use the print() method to print the intersection of  set."
   ]
  },
  {
   "cell_type": "markdown",
   "id": "e979ac2e-0fec-4173-8762-36cbfe7f5e93",
   "metadata": {},
   "source": [
    "### 11. Find the difference between two sets."
   ]
  },
  {
   "cell_type": "code",
   "execution_count": 124,
   "id": "9bcc6aef-8c1f-4bdd-b636-df9653555c34",
   "metadata": {},
   "outputs": [
    {
     "name": "stdout",
     "output_type": "stream",
     "text": [
      "difference  of set : {1, 2, 3}\n"
     ]
    }
   ],
   "source": [
    "set_a = {1,2,3,4,5,6}\n",
    "set_b = {4,5,5,5,5,6,8}\n",
    "\n",
    "set_of_difference = set_a.difference(set_b)\n",
    "\n",
    "print(\"difference  of set :\",set_of_difference)"
   ]
  },
  {
   "cell_type": "markdown",
   "id": "a19c0a29-28bc-4679-8e9d-b6bdd5db41e7",
   "metadata": {},
   "source": [
    "- we start by creating two set named set_a and set_b respectively and contains some elements .\n",
    "- we use the diffrence() method to find the difference between two set . this difference returns a another set with the unique vale of elements .\n",
    "- we use the print() method to print the difference of  set."
   ]
  },
  {
   "cell_type": "markdown",
   "id": "412e9943-e4fd-4940-a904-055c6417f113",
   "metadata": {},
   "source": [
    "### 12. Check if a set is a subset of another set."
   ]
  },
  {
   "cell_type": "code",
   "execution_count": 123,
   "id": "66c72c6e-de0a-4419-92b6-d8c81dff181b",
   "metadata": {},
   "outputs": [
    {
     "name": "stdout",
     "output_type": "stream",
     "text": [
      "issubset  of set : True\n"
     ]
    }
   ],
   "source": [
    "set_a = {1,2,3,4,5,6}\n",
    "set_b = {1,2,3,4,5,6,7,8}\n",
    "\n",
    "set_of_issubset = set_a.issubset(set_b)\n",
    "\n",
    "print(\"issubset  of set :\",set_of_issubset)"
   ]
  },
  {
   "cell_type": "markdown",
   "id": "f21717cc-33ff-4d69-acba-3088dae2ea36",
   "metadata": {},
   "source": [
    "- we start by creating two set named set_a and set_b respectively and contains some elements .\n",
    "- we use the issubset() method to find the issubset between two set . this issubset returns a another set with the unique vale of elements .\n",
    "- we use the print() method to print the issubset of  set."
   ]
  },
  {
   "cell_type": "markdown",
   "id": "af7663d7-7f43-4a3d-ac90-95f989548ba9",
   "metadata": {},
   "source": [
    "### 13. Check if a set is a superset of another set."
   ]
  },
  {
   "cell_type": "code",
   "execution_count": 122,
   "id": "7da652d7-e0ff-4668-8d2f-b4aad952f042",
   "metadata": {},
   "outputs": [
    {
     "name": "stdout",
     "output_type": "stream",
     "text": [
      "issuperse  of set : False\n"
     ]
    }
   ],
   "source": [
    "set_a = {1,2,3,4,5,6}\n",
    "set_b = {1,2,3,4,5,6,7,8}\n",
    "\n",
    "set_of_issuperse = set_a.issuperset(set_b)\n",
    "\n",
    "print(\"issuperse  of set :\",set_of_issuperse)"
   ]
  },
  {
   "cell_type": "markdown",
   "id": "587357c6-4723-40be-996f-9e6e81c9cb00",
   "metadata": {},
   "source": [
    "- we start by creating two set named set_a and set_b respectively and contains some elements .\n",
    "- we use the issuperset() method to find the issuperset between two set . this issuperset returns a another set with the unique vale of elements .\n",
    "- we use the print() method to print the issuperset of  set."
   ]
  },
  {
   "cell_type": "markdown",
   "id": "384ff1ef-4020-479a-9494-531ea947c331",
   "metadata": {},
   "source": [
    "### 14. Create a set from a list"
   ]
  },
  {
   "cell_type": "code",
   "execution_count": 121,
   "id": "ddb93b53-9294-471a-9c3c-c4265c0c1855",
   "metadata": {},
   "outputs": [
    {
     "name": "stdout",
     "output_type": "stream",
     "text": [
      "set from a list : {1, 2, 3, 4, 5, 6}\n"
     ]
    }
   ],
   "source": [
    "list_a = [1,2,3,4,5,6]\n",
    "\n",
    "my_set = set(list_a)\n",
    "\n",
    "print(\"set from a list :\",my_set)"
   ]
  },
  {
   "cell_type": "markdown",
   "id": "6fa24f6b-5cb4-4338-b766-d495484d791c",
   "metadata": {},
   "source": [
    "- we start with the example of list that contains some integer elements .\n",
    "- we use set() function to convert the list into set .\n",
    "- we print the set from the list using print() statements ."
   ]
  },
  {
   "cell_type": "markdown",
   "id": "fa271021-5c68-40f5-bd6a-a4ed496d54cc",
   "metadata": {},
   "source": [
    "### 15. Convert a set to a list."
   ]
  },
  {
   "cell_type": "code",
   "execution_count": 120,
   "id": "0d9ce9bc-225b-42b3-a47c-3f8b1b00493d",
   "metadata": {},
   "outputs": [
    {
     "name": "stdout",
     "output_type": "stream",
     "text": [
      "list from a set : {1, 2, 3, 4}\n"
     ]
    }
   ],
   "source": [
    "set_a = {1,2,3,4,5,6}\n",
    "\n",
    "my_list = list(list_a)\n",
    "\n",
    "print(\"list from a set :\",my_set)"
   ]
  },
  {
   "cell_type": "markdown",
   "id": "4e04bab8-0855-4561-b7ba-3eaba13477f6",
   "metadata": {},
   "source": [
    "- we start with the example of set that contains some integer elements .\n",
    "- we use list() function to convert the set into list .\n",
    "- we print the list from the set using print() statements ."
   ]
  },
  {
   "cell_type": "markdown",
   "id": "a08af0b6-4830-4e9e-af98-cd56e8693775",
   "metadata": {},
   "source": [
    "### 16. Remove a random element from a set."
   ]
  },
  {
   "cell_type": "code",
   "execution_count": 119,
   "id": "46f93701-1f9d-4777-a950-4508909f2f7c",
   "metadata": {},
   "outputs": [
    {
     "name": "stdout",
     "output_type": "stream",
     "text": [
      "Original set: {1, 2, 3, 4, 5}\n",
      "Updated set after removing 5 : {1, 2, 3, 4}\n"
     ]
    }
   ],
   "source": [
    "import random  # Import the random module\n",
    "\n",
    "# Create a set with some elements\n",
    "my_set = {1, 2, 3, 4, 5}\n",
    "\n",
    "# Display the original set\n",
    "print(\"Original set:\", my_set)\n",
    "\n",
    "# Choose a random element from the set using the random.choice() function\n",
    "random_element = random.choice(list(my_set))\n",
    "\n",
    "# Remove the chosen random element from the set using the remove() method\n",
    "my_set.remove(random_element)\n",
    "\n",
    "# Display the updated set after removing the random element\n",
    "print(\"Updated set after removing\", random_element, \":\", my_set)"
   ]
  },
  {
   "cell_type": "markdown",
   "id": "2fb385d2-4a04-426a-9e81-c8aba18d47e5",
   "metadata": {},
   "source": [
    "- `import random`: This line imports the built-in random module, which provides various functions for generating random numbers and performing random selections.\n",
    "- `my_set = {1, 2, 3, 4, 5}`: Here, we create a set named my_set containing the integers from 1 to 5.\n",
    "- `print(\"Original set:\", my_set)`: This line prints the original set to the console.\n",
    "- `random_element = random.choice(list(my_set))`: We convert the set into a list using list(my_set) and then use random.choice() to select a random element from the list. This random element is stored in the variable random_element.\n",
    "- `my_set.remove(random_element)`: We use the remove() method to remove the randomly chosen element from the set.\n",
    "- `print(\"Updated set after removing\", random_element, \":\", my_set)`: Finally, we print the updated set after removing the random element to the console."
   ]
  },
  {
   "cell_type": "markdown",
   "id": "05031028-5d8c-4591-bd44-94039fccc82c",
   "metadata": {},
   "source": [
    "### 17. Pop an element from a set."
   ]
  },
  {
   "cell_type": "code",
   "execution_count": 102,
   "id": "27906599-0c93-4e0d-bd74-101d0925ecc9",
   "metadata": {},
   "outputs": [],
   "source": [
    "my_set = {1, 2, 3, 4, 5}\n",
    "\n",
    "new_set = my_set.pop()"
   ]
  },
  {
   "cell_type": "code",
   "execution_count": 103,
   "id": "11773bcf-09db-4e68-a675-b405e406d043",
   "metadata": {},
   "outputs": [
    {
     "data": {
      "text/plain": [
       "{2, 3, 4, 5}"
      ]
     },
     "execution_count": 103,
     "metadata": {},
     "output_type": "execute_result"
    }
   ],
   "source": [
    "my_set"
   ]
  },
  {
   "cell_type": "markdown",
   "id": "07925001-74be-4035-8415-3b1b130177a3",
   "metadata": {},
   "source": [
    "- we start example of set named my_set contains some integer element .\n",
    "- we use pop() function to pop an element from a set . in set pop star remove element from starting point of set .\n",
    "- we call the my_set and resulting me 1 is poped from a set ."
   ]
  },
  {
   "cell_type": "markdown",
   "id": "dc81dc7f-c4b9-4b1f-9f4e-b2264d1701c5",
   "metadata": {},
   "source": [
    "### 18. Check if two sets have no elements in common."
   ]
  },
  {
   "cell_type": "code",
   "execution_count": 118,
   "id": "d566cc4f-5a9d-4433-b485-f8b5436fa554",
   "metadata": {},
   "outputs": [
    {
     "name": "stdout",
     "output_type": "stream",
     "text": [
      "two sets have no elements in common\n"
     ]
    }
   ],
   "source": [
    "set_a = {1,2,3,4,5,6}\n",
    "set_b = {7,8,9,10,11,12}\n",
    "\n",
    "common_element = set_a.intersection(set_b)\n",
    "\n",
    "if not common_element:\n",
    "    print(\"two sets have no elements in common\")\n",
    "\n",
    "else:\n",
    "    print(\"two sets have  common elements \")\n"
   ]
  },
  {
   "cell_type": "markdown",
   "id": "ccfcf8b9-fc9a-4177-b72b-25ea09269ede",
   "metadata": {},
   "source": [
    "- We start by defining two sets set_a and set_b with some elements in each set.\n",
    "- We use the .intersection() method to find the intersection of set_a and set_b. - The result is a set containing elements that are common to both sets.\n",
    "- We use an if statement to check if the common_elements set is empty. If it's empty, it means the sets have no elements in common, so we print a message indicating that. If the common_elements set is not empty, we print the common elements themselves."
   ]
  },
  {
   "cell_type": "markdown",
   "id": "1a694df4-bea1-4910-b159-06d437a38420",
   "metadata": {},
   "source": [
    "### 19. Find the symmetric difference between two sets."
   ]
  },
  {
   "cell_type": "code",
   "execution_count": 131,
   "id": "12e745d0-701b-46bb-933e-78a47f26c95b",
   "metadata": {},
   "outputs": [
    {
     "name": "stdout",
     "output_type": "stream",
     "text": [
      "symmetric diffrence b/w two set: {1, 2, 3, 4, 9, 10, 11, 12}\n"
     ]
    }
   ],
   "source": [
    "set_a = {1,2,3,4,5,6}\n",
    "set_b = {5,6,9,10,11,12}\n",
    "\n",
    "symmetric_diffrence = set_a.symmetric_difference (set_b)\n",
    "\n",
    "print(\"symmetric diffrence b/w two set:\",symmetric_diffrence)"
   ]
  },
  {
   "cell_type": "markdown",
   "id": "5aeaa495-75a7-4cab-8704-4df2051fb111",
   "metadata": {},
   "source": [
    "- We start by defining two sets set_a and set_b with some elements in each set.\n",
    "- we use the symmetric_difference() function to identify the symmetric diffrence b/w them.and store inside variable symmetric_diffrence.\n",
    "- we print the symmetric diffrence b/w to set using print() statements ."
   ]
  },
  {
   "cell_type": "markdown",
   "id": "1a5d92b4-84ff-4a80-866b-d78137d50868",
   "metadata": {},
   "source": [
    "### 20. Update a set with elements from another set."
   ]
  },
  {
   "cell_type": "code",
   "execution_count": 8,
   "id": "ef30cdb7-a8ce-41dd-b9b5-2b946e43be8e",
   "metadata": {},
   "outputs": [
    {
     "name": "stdout",
     "output_type": "stream",
     "text": [
      "Update a set with elements from another set: {1, 2, 3, 4, 5, 6, 9, 10, 11, 12}\n"
     ]
    }
   ],
   "source": [
    "set_a = {1,2,3,4,5,6}\n",
    "set_b = {5,6,9,10,11,12}\n",
    "\n",
    "\n",
    "update_set = set_a.update(set_b)\n",
    "\n",
    "print(\"Update a set with elements from another set:\",set_a)"
   ]
  },
  {
   "cell_type": "markdown",
   "id": "2e46c05e-c351-4481-b978-01821f5559fe",
   "metadata": {},
   "source": [
    "- We start by defining two sets set_a and set_b with some elements in each set.\n",
    "- we use update() function to update the element from set_b to set_a . \n",
    "- we print the set_a then showes me set_b is apdated  in set_a"
   ]
  },
  {
   "cell_type": "markdown",
   "id": "e6ecf94c-1974-4caf-a1f3-9e2a563a91d5",
   "metadata": {},
   "source": [
    "### 21. Create a set of the first 5 prime numbers."
   ]
  },
  {
   "cell_type": "code",
   "execution_count": 4,
   "id": "90983a3f-b04c-4759-96e5-a28599e0f998",
   "metadata": {},
   "outputs": [
    {
     "name": "stdout",
     "output_type": "stream",
     "text": [
      "Set of the first 5 prime numbers: {2, 3, 5, 7, 11}\n"
     ]
    }
   ],
   "source": [
    "# Function to check if a number is prime\n",
    "def is_prime(num):\n",
    "    if num <= 1:\n",
    "        return False\n",
    "    for i in range(2, int(num ** 0.5) + 1):\n",
    "        if num % i == 0:\n",
    "            return False\n",
    "    return True\n",
    "\n",
    "# Create an empty set to store the prime numbers\n",
    "prime_set = set()\n",
    "\n",
    "# Initialize the number to start checking for primes\n",
    "num = 2\n",
    "\n",
    "# Loop until we have found the first 5 prime numbers\n",
    "while len(prime_set) < 5:\n",
    "    # Check if the current number is prime using the is_prime function\n",
    "    if is_prime(num):\n",
    "        # If the number is prime, add it to the prime_set\n",
    "        prime_set.add(num)\n",
    "\n",
    "    # Move on to the next number for the next iteration\n",
    "    num += 1\n",
    "\n",
    "# Print the set of prime numbers\n",
    "print(\"Set of the first 5 prime numbers:\", prime_set)"
   ]
  },
  {
   "cell_type": "markdown",
   "id": "da6bf4dd-677e-4a14-a7cc-68513a025e34",
   "metadata": {},
   "source": [
    "- We start by defining a function is_prime that checks if a given number is prime. It returns True if the number is prime and False otherwise.\n",
    "- We create an empty set prime_set to store the first 5 prime numbers.\n",
    "- We initialize the variable num to start checking for prime numbers, beginning with 2.\n",
    "- We use a while loop to continue searching for prime numbers until we have found 5 of them.\n",
    "- Inside the loop, we check if the current value of num is prime by calling the is_prime function. If it's prime, we add it to the prime_set.\n",
    "- Regardless of whether the current num is prime or not, we increment num by 1 to move to the next number for the next iteration of the loop.\n",
    "- Once we have found 5 prime numbers and the loop terminates, we print the set of prime numbers."
   ]
  },
  {
   "cell_type": "markdown",
   "id": "f74f62a6-3772-4471-8cb5-ebe8fb666fd4",
   "metadata": {},
   "source": [
    "### 22. Check if two sets are identical."
   ]
  },
  {
   "cell_type": "code",
   "execution_count": 11,
   "id": "c3cc2438-cf8e-4353-80fb-6907a6a45d18",
   "metadata": {},
   "outputs": [
    {
     "name": "stdout",
     "output_type": "stream",
     "text": [
      "Both set are identical\n"
     ]
    }
   ],
   "source": [
    "set_a = {6,9,10,11,12,5}\n",
    "set_b = {5,6,9,10,11,12}\n",
    "\n",
    "\n",
    "if set_a==set_b:\n",
    "    print(\"Both set are identical\")\n",
    "else:\n",
    "    print(\"Both set are not identical\")"
   ]
  },
  {
   "cell_type": "markdown",
   "id": "26c94648-cf1c-4422-9fd2-4f2cbd04940d",
   "metadata": {},
   "source": [
    "- we create two rendom set named set_a and set_b contains some integer data .(that we want to check both set are identical or not ).\n",
    "- we use thee if statement to check set_a==set_b this condition if condition is true , print the both set are identical .\n",
    "- if else condition is true then print both set are not identical .."
   ]
  },
  {
   "cell_type": "markdown",
   "id": "c88c1e91-77c9-4a2c-b035-3a058048476c",
   "metadata": {},
   "source": [
    "### 23. Create a frozen set"
   ]
  },
  {
   "cell_type": "code",
   "execution_count": 9,
   "id": "31fcf98c-e1a8-43ce-a941-6a99a34856ea",
   "metadata": {},
   "outputs": [
    {
     "name": "stdout",
     "output_type": "stream",
     "text": [
      "frozen set: frozenset({5, 6, 9, 10, 11, 12})\n"
     ]
    }
   ],
   "source": [
    "set_a = {6,9,10,11,12,5}\n",
    "\n",
    "\n",
    "\n",
    "frozen_set = frozenset(set_a)\n",
    "\n",
    "print(\"frozen set:\", frozen_set)"
   ]
  },
  {
   "cell_type": "markdown",
   "id": "e1534e35-363d-4414-a5e5-a1d93a5d1886",
   "metadata": {},
   "source": [
    "- we define a set_a that contains some integer data .\n",
    "- we importing the frozenset class from the collection module . the frozenset is sn immutable version of a set , meaning its element cannot be modified after creating the forezenset.\n",
    "- finall y we print forezenset by using the print() statement .\n"
   ]
  },
  {
   "cell_type": "markdown",
   "id": "a151e13b-f56e-474c-8f29-395274e47d0d",
   "metadata": {},
   "source": [
    "### 24. Check if a set is disjoint with another set."
   ]
  },
  {
   "cell_type": "code",
   "execution_count": 13,
   "id": "7d7890f3-d63f-424c-8a00-a0127d9da404",
   "metadata": {},
   "outputs": [
    {
     "name": "stdout",
     "output_type": "stream",
     "text": [
      "set is disjoin with another: False\n"
     ]
    }
   ],
   "source": [
    "set_a = {6,9,10,11,12,5}\n",
    "set_b = {5,6,9,10,11,12}\n",
    "\n",
    "\n",
    "disjoint_set = set_a.isdisjoint(set_b)\n",
    "\n",
    "print(\"set is disjoin with another:\",disjoint_set)"
   ]
  },
  {
   "cell_type": "markdown",
   "id": "3fac217f-2686-4666-a969-9d9612c28fd1",
   "metadata": {},
   "source": [
    "- we start with the two set set_a and set_b ,contains some integer data .\n",
    "- we use the isdisjoin() functuion to check the set is disjoint or not with another set . if set_a disjoint with set_b print true else false .\n",
    "- we print it by using print() statements ."
   ]
  },
  {
   "cell_type": "markdown",
   "id": "23d58243-3992-48e0-8e8d-a6cc08606f7a",
   "metadata": {},
   "source": [
    "### 25. Create a set of squares of numbers from 1 to 5."
   ]
  },
  {
   "cell_type": "code",
   "execution_count": 18,
   "id": "5b27f057-1cb0-4eea-99e8-3a946109c70b",
   "metadata": {},
   "outputs": [
    {
     "name": "stdout",
     "output_type": "stream",
     "text": [
      "set of squares: {1, 4, 9, 16, 25}\n"
     ]
    }
   ],
   "source": [
    "my_set = set( i**2 for i in range(1,6))\n",
    "\n",
    "print(\"set of squares:\",my_set)"
   ]
  },
  {
   "cell_type": "markdown",
   "id": "833f0de0-0000-49cb-ba35-cd9894486b95",
   "metadata": {},
   "source": [
    "- we use the list comprehension to genrate the list of numbers from 1 to 5 . list comprehension gives me data in the form list.\n",
    "- we use the set() function to convert list into set .\n",
    "- we use the i**2 to the square of the data . that we want to squre of."
   ]
  },
  {
   "cell_type": "markdown",
   "id": "d096bbeb-f10c-480f-95af-7ec55d775b73",
   "metadata": {},
   "source": [
    "### 26. Filter out all even numbers from a set."
   ]
  },
  {
   "cell_type": "code",
   "execution_count": 20,
   "id": "8cd8d406-858e-4f46-986c-2c6802405264",
   "metadata": {},
   "outputs": [
    {
     "name": "stdout",
     "output_type": "stream",
     "text": [
      "even numbers: {10, 12, 6}\n"
     ]
    }
   ],
   "source": [
    "set_a = {6,9,10,11,12,5}\n",
    "\n",
    "even_number_set = set()\n",
    "\n",
    "for num in set_a:\n",
    "    \n",
    "    if num%2==0:\n",
    "        \n",
    "        even_number_set.add(num)\n",
    "        \n",
    "print(\"even numbers:\",even_number_set)\n",
    "    "
   ]
  },
  {
   "cell_type": "markdown",
   "id": "dbe6ff88-233b-4bdb-b838-f6df2866ceff",
   "metadata": {},
   "source": [
    "- we start with the set object that contains some integer data .\n",
    "- we create empyty variable even_number_set to store the data and use set() functio to convrt tuple into set .\n",
    "- we use the for loop to iterate each element through set_a .\n",
    "- inside the loop we use the modulus % to chek the data is even inside the set_a (divisible by 2).\n",
    "- if data is even , we add it to the even_number_set using the add() method .\n",
    "- we print the even numbers by using the print() statements ."
   ]
  },
  {
   "cell_type": "markdown",
   "id": "89ac2e39-79aa-4501-8263-f3423fd64990",
   "metadata": {},
   "source": [
    "### 27. Multiply all elements in a set by 2."
   ]
  },
  {
   "cell_type": "code",
   "execution_count": 22,
   "id": "50fbba4e-5775-4a05-b556-211ec72aebc6",
   "metadata": {},
   "outputs": [
    {
     "name": "stdout",
     "output_type": "stream",
     "text": [
      "multiplyed set : {2, 4, 6, 8, 10, 12, 14, 16, 18}\n"
     ]
    }
   ],
   "source": [
    "set_a = {1,2,3,4,5,6,7,8,9}\n",
    "\n",
    "multiplyed_set = set()\n",
    "\n",
    "for num in set_a:\n",
    "    \n",
    "    multiplyed_num = num*2\n",
    "    \n",
    "    multiplyed_set.add(multiplyed_num )\n",
    "    \n",
    "print(\"multiplyed set :\",multiplyed_set)"
   ]
  },
  {
   "cell_type": "markdown",
   "id": "ab2a96fc-5459-438b-af46-9e5d7d1b2ab0",
   "metadata": {},
   "source": [
    "- we start with the set object that contains some integer data .\n",
    "- we create empyty variable multiplyed_set to store the data and use set() functio to convrt tuple into set .\n",
    "- we use the for loop to iterate each element through set_a .\n",
    "- inside the loop we use the modulus *  to multiply data by 2.\n",
    "- we add it multiplyed_set to the using the add() method .\n",
    "- we print the multiplyed set by using the print() statements ."
   ]
  },
  {
   "cell_type": "markdown",
   "id": "04c8dde8-694d-4a3e-9c0a-f0a2e386e1c7",
   "metadata": {},
   "source": [
    "### 28. Create a set of random numbers."
   ]
  },
  {
   "cell_type": "code",
   "execution_count": 25,
   "id": "14baafa3-cab1-401b-a1a2-3803a9761a48",
   "metadata": {},
   "outputs": [
    {
     "name": "stdout",
     "output_type": "stream",
     "text": [
      "random number set : {76, 44, 48, 23, 93}\n"
     ]
    }
   ],
   "source": [
    "import random \n",
    "\n",
    "random_number_set = set()\n",
    "\n",
    "for i in range(5):\n",
    "    \n",
    "    random_num = random.randint(1,100)\n",
    "    \n",
    "    random_number_set.add(random_num)\n",
    "    \n",
    "print(\"random number set :\",random_number_set)"
   ]
  },
  {
   "cell_type": "markdown",
   "id": "75ca80fb-09e5-48af-8a12-0d460aa55490",
   "metadata": {},
   "source": [
    "- we import the random module , which provides function for generating random numbers and performimg other random related operations .\n",
    "- we initialize an empty set named random_number_set that will store our generated random numbers .\n",
    "- we use the loop to generate random number and add them to the set . in each iteration of the loop we genrate a random integer by using the random.randint(1,100) function .\n",
    "- we use the add() function to add the set inside the random_number_set.\n",
    "- we print the random number by using print() function ."
   ]
  },
  {
   "cell_type": "markdown",
   "id": "6e7f7265-2bdc-4527-b73a-0f8fce492b8e",
   "metadata": {},
   "source": [
    "### 29. Check if a set is empty."
   ]
  },
  {
   "cell_type": "code",
   "execution_count": 26,
   "id": "fa9eecaf-7fee-48d6-80d9-4659d4ad1c0c",
   "metadata": {},
   "outputs": [
    {
     "name": "stdout",
     "output_type": "stream",
     "text": [
      "my set is empty\n"
     ]
    }
   ],
   "source": [
    "my_set = {}\n",
    "\n",
    "if not my_set:\n",
    "    print(\"my set is empty\")\n",
    "else:\n",
    "    print(\"my set is not empty\")"
   ]
  },
  {
   "cell_type": "markdown",
   "id": "a5cbb883-50c1-4387-9125-2f0add128e45",
   "metadata": {},
   "source": [
    "- we create the empty set (that we want to check set is empty or not)\n",
    "- we use the if not condition if this condition is true then print will be my set is empty. else not .\n",
    "- we print the my set is empty using print() method ."
   ]
  },
  {
   "cell_type": "markdown",
   "id": "293efd2d-8862-4a76-b5fb-222a776490cf",
   "metadata": {},
   "source": [
    "### 30. Create a nested set (hinat: use frozenset)."
   ]
  },
  {
   "cell_type": "code",
   "execution_count": 27,
   "id": "94fef997-2b82-40a4-8009-2ebc4470a198",
   "metadata": {},
   "outputs": [
    {
     "name": "stdout",
     "output_type": "stream",
     "text": [
      "Nested Set: {frozenset({1, 2, 3, 4, 5}), frozenset({6, 7, 8, 9, 10})}\n"
     ]
    }
   ],
   "source": [
    "# Step 1: Create the inner sets\n",
    "set1 = {1, 2, 3, 4, 5}\n",
    "set2 = {6, 7, 8, 9, 10}\n",
    "\n",
    "# Step 2: Create frozensets from the inner sets\n",
    "frozen_set1 = frozenset(set1)\n",
    "frozen_set2 = frozenset(set2)\n",
    "\n",
    "# Step 3: Create the nested set using the frozensets\n",
    "nested_set = {frozen_set1, frozen_set2}\n",
    "\n",
    "# Print the nested set\n",
    "print(\"Nested Set:\", nested_set)"
   ]
  },
  {
   "cell_type": "markdown",
   "id": "a56f5d31-49df-47f2-b43f-911d3d7a58dc",
   "metadata": {},
   "source": [
    "- We import two sets, set1 and set2, containing integers from 1 to 5 and from 6 to 10, respectively.\n",
    "- We then create two frozenset objects, frozen_set1 and frozen_set2, from set1 and set2. The use of frozenset ensures that the inner sets are immutable and can be used as elements of another set.\n",
    "- Finally, we create the nested_set by adding the two frozenset objects into it. This creates a set containing two nested sets.\n",
    "- We print the nested_set to see the result."
   ]
  },
  {
   "cell_type": "markdown",
   "id": "8cc33b63-1417-46ef-bd99-e05e4abd73d0",
   "metadata": {},
   "source": [
    "### 31.  Remove an element from a set using the discard method."
   ]
  },
  {
   "cell_type": "code",
   "execution_count": 29,
   "id": "7e9baeb3-6a60-48af-9428-e7943e76e826",
   "metadata": {},
   "outputs": [
    {
     "name": "stdout",
     "output_type": "stream",
     "text": [
      "after remove the element : {1, 2, 4, 5}\n"
     ]
    }
   ],
   "source": [
    "set1 = {1, 2, 3, 4, 5}\n",
    "\n",
    "set1.discard(3)\n",
    "\n",
    "print(\"after remove the element :\",set1)"
   ]
  },
  {
   "cell_type": "markdown",
   "id": "62a21d58-9af6-43a9-97d7-37aa62cbf84d",
   "metadata": {},
   "source": [
    "- we create the set1 contains some integer element .\n",
    "- we use the discord() method to remove the element 3 from the set1.\n",
    "- we prin the discorded set using the print() statements ."
   ]
  },
  {
   "cell_type": "markdown",
   "id": "855f21e9-98af-4820-8075-5018c8df5d1a",
   "metadata": {},
   "source": [
    "### 32. Compare two sets."
   ]
  },
  {
   "cell_type": "code",
   "execution_count": 30,
   "id": "720763a6-86c4-4b65-ab33-74ae7f40f149",
   "metadata": {},
   "outputs": [
    {
     "name": "stdout",
     "output_type": "stream",
     "text": [
      "Set 1: {1, 2, 3, 4, 5}\n",
      "Set 2: {4, 5, 6, 7, 8}\n",
      "Is set1 a subset of set2? False\n",
      "Is set2 a subset of set1? False\n",
      "Intersection: {4, 5}\n",
      "Union: {1, 2, 3, 4, 5, 6, 7, 8}\n",
      "Elements in set1 but not in set2: {1, 2, 3}\n",
      "Elements in set2 but not in set1: {8, 6, 7}\n"
     ]
    }
   ],
   "source": [
    "# Step 1: Define two sets\n",
    "set1 = {1, 2, 3, 4, 5}\n",
    "set2 = {4, 5, 6, 7, 8}\n",
    "\n",
    "# Step 2: Use set operations to compare the sets\n",
    "# Check if set1 is a subset of set2\n",
    "is_subset = set1.issubset(set2)\n",
    "\n",
    "# Check if set2 is a subset of set1\n",
    "is_superset = set1.issuperset(set2)\n",
    "\n",
    "# Find the intersection of the sets\n",
    "intersection = set1.intersection(set2)\n",
    "\n",
    "# Find the union of the sets\n",
    "union = set1.union(set2)\n",
    "\n",
    "# Find the elements that are in set1 but not in set2\n",
    "difference1 = set1.difference(set2)\n",
    "\n",
    "# Find the elements that are in set2 but not in set1\n",
    "difference2 = set2.difference(set1)\n",
    "\n",
    "# Step 3: Print the results\n",
    "print(\"Set 1:\", set1)\n",
    "print(\"Set 2:\", set2)\n",
    "print(\"Is set1 a subset of set2?\", is_subset)\n",
    "print(\"Is set2 a subset of set1?\", is_superset)\n",
    "print(\"Intersection:\", intersection)\n",
    "print(\"Union:\", union)\n",
    "print(\"Elements in set1 but not in set2:\", difference1)\n",
    "print(\"Elements in set2 but not in set1:\", difference2)"
   ]
  },
  {
   "cell_type": "markdown",
   "id": "2f548ff7-a345-4496-b35e-099ff26f4fb1",
   "metadata": {},
   "source": [
    "- We define two sets set1 and set2 containing some elements.\n",
    "- We use various set operations to compare the two sets:\n",
    "  - issubset() checks if set1 is a subset of set2.\n",
    "  - issuperset() checks if set1 is a superset of set2.\n",
    "  - intersection() finds the common elements between the sets.\n",
    "  - union() finds the combined set of unique elements from both sets.\n",
    "  - difference() finds the elements that are in the first set but not in the second set, and vice versa.\n",
    "- We print out the original sets, the comparison results, the intersection, the union, and the differences."
   ]
  },
  {
   "cell_type": "markdown",
   "id": "fe4c8291-5515-4b86-8f99-fb895a8257a3",
   "metadata": {},
   "source": [
    "### 33. Create a set from a string."
   ]
  },
  {
   "cell_type": "code",
   "execution_count": 37,
   "id": "cf77eab6-9683-4c44-9e45-32ff03883037",
   "metadata": {},
   "outputs": [
    {
     "name": "stdout",
     "output_type": "stream",
     "text": [
      "set: {'k', 'w', 'l', 'p', 'i', 's'}\n"
     ]
    }
   ],
   "source": [
    "my_string = \"pwskills\"\n",
    "\n",
    "set_=set(my_string)\n",
    "\n",
    "print(\"set:\",set_)"
   ]
  },
  {
   "cell_type": "markdown",
   "id": "6921852f-a189-47ec-8081-642427dea05c",
   "metadata": {},
   "source": [
    "- we create a string named my_string contains some characters .\n",
    "- we use set() function to convert string into the set .\n",
    "- we print the set by using the print() statements .\n"
   ]
  },
  {
   "cell_type": "markdown",
   "id": "65e10393-7476-477a-8f1f-5c5b06619e05",
   "metadata": {},
   "source": [
    "### 34. Convert a set of strings to a set of integers."
   ]
  },
  {
   "cell_type": "code",
   "execution_count": 39,
   "id": "2a3ccebe-1db5-47a7-9b65-e9d3af6ce5f5",
   "metadata": {},
   "outputs": [
    {
     "name": "stdout",
     "output_type": "stream",
     "text": [
      "set of integers: {1, 2, 3, 4}\n"
     ]
    }
   ],
   "source": [
    "set_of_string = {\"1\",\"2\",\"3\",\"4\"}\n",
    "\n",
    "\n",
    "set_of_integers = set()\n",
    "\n",
    "for string in set_of_string:\n",
    "    \n",
    "    integer_value = int(string)\n",
    "    \n",
    "    set_of_integers.add(integer_value)\n",
    "    \n",
    "print(\"set of integers:\",set_of_integers)\n",
    "\n"
   ]
  },
  {
   "cell_type": "markdown",
   "id": "b349c64a-dd77-44f3-80cc-1fbee3b862e3",
   "metadata": {},
   "source": [
    "- we start by creating a set of string called set_of_string contains the some string .\n",
    "- we create the variable called set_of_integers to store resulting set of integers .\n",
    "- we use the for loop to iterate through each string in the set_of_string .\n",
    "- inside the loop we converting each string into the integer using the int() function .\n"
   ]
  },
  {
   "cell_type": "markdown",
   "id": "5e30fa3c-6d55-4626-a091-3039fb1040da",
   "metadata": {},
   "source": [
    "### 35. Convert a set of integers to a set of strings."
   ]
  },
  {
   "cell_type": "code",
   "execution_count": 41,
   "id": "0c084069-9b19-4216-bbb1-b79ef5946545",
   "metadata": {},
   "outputs": [
    {
     "name": "stdout",
     "output_type": "stream",
     "text": [
      "set of string: {'4', '1', '2', '3'}\n"
     ]
    }
   ],
   "source": [
    "set_of_integers =  {1, 2, 3, 4}\n",
    "\n",
    "set_of_string = set()\n",
    "\n",
    "for integer in set_of_integers:\n",
    "    \n",
    "    string_value = str(integer)\n",
    "    \n",
    "    set_of_string.add(string_value)\n",
    "    \n",
    "    \n",
    "print(\"set of string:\",set_of_string)"
   ]
  },
  {
   "cell_type": "markdown",
   "id": "5f9f298f-7c2e-4906-907a-410edec858b5",
   "metadata": {},
   "source": [
    "- we start by creating a set of integers  called set_of_integers contains the some integer .\n",
    "- we create the variable called set_of_string to store resulting set of string .\n",
    "- we use the for loop to iterate through each integer in the set_of_integers .\n",
    "- inside the loop we converting each integer into the string using the str() function .\n"
   ]
  },
  {
   "cell_type": "markdown",
   "id": "19c61700-a629-4526-ad08-9b7760112548",
   "metadata": {},
   "source": [
    "### 36. Create a set from a tuple."
   ]
  },
  {
   "cell_type": "code",
   "execution_count": 43,
   "id": "3fcf3cf1-55d3-416b-9ce5-59fe9972b4d9",
   "metadata": {},
   "outputs": [
    {
     "name": "stdout",
     "output_type": "stream",
     "text": [
      "set: {1, 2, 3, 4, 5, 6}\n"
     ]
    }
   ],
   "source": [
    "my_tuple = (1,2,3,4,5,6)\n",
    "\n",
    "my_set = set(my_tuple)\n",
    "\n",
    "\n",
    "\n",
    "print(\"set:\",my_set)"
   ]
  },
  {
   "cell_type": "markdown",
   "id": "79b94791-6372-4f77-a6d4-1387be779bea",
   "metadata": {},
   "source": [
    "- we start creating tuple named my_tuple contains some integer elemnets.\n",
    "- we use set() method to convert tuple into set .\n",
    "- we print the creating set using the print() statements ."
   ]
  },
  {
   "cell_type": "markdown",
   "id": "afb67db8-b24f-4874-926c-cfcaa7df2073",
   "metadata": {},
   "source": [
    "### 37. Convert a set to a tuple."
   ]
  },
  {
   "cell_type": "code",
   "execution_count": 44,
   "id": "14ab859a-b783-4838-bee2-8df7dca3a4bd",
   "metadata": {},
   "outputs": [
    {
     "name": "stdout",
     "output_type": "stream",
     "text": [
      "my tuple: (1, 2, 3, 4, 5, 6)\n"
     ]
    }
   ],
   "source": [
    "my_set =  {1, 2, 3, 4, 5, 6}\n",
    "\n",
    "my_tuple = tuple(my_set)\n",
    "\n",
    "print(\"my tuple:\",my_tuple)"
   ]
  },
  {
   "cell_type": "markdown",
   "id": "256812e9-d418-4538-b778-1939107b2643",
   "metadata": {},
   "source": [
    "- we start creating set named my_set contains some integer elemnets.\n",
    "- we use tuple() method to convert set into tuple .\n",
    "- we print the creating tuple using the print() statements ."
   ]
  },
  {
   "cell_type": "markdown",
   "id": "e58bb479-4672-4c22-9ff8-2d044338de57",
   "metadata": {},
   "source": [
    "### 38. Find the maximum value in a set."
   ]
  },
  {
   "cell_type": "code",
   "execution_count": 45,
   "id": "1ee51cb4-3221-414b-a148-d9d1f980ee42",
   "metadata": {},
   "outputs": [
    {
     "name": "stdout",
     "output_type": "stream",
     "text": [
      "maximum value : 95\n"
     ]
    }
   ],
   "source": [
    "my_set = {1,5,9,9,95}\n",
    "\n",
    "max_value = None \n",
    "\n",
    "\n",
    "for num in my_set :\n",
    "    if max_value is None or num > max_value :\n",
    "        max_value = num\n",
    "        \n",
    "        \n",
    "print(\"maximum value :\", max_value)"
   ]
  },
  {
   "cell_type": "markdown",
   "id": "0abb1566-acb1-4af8-b7e9-6184871d0e71",
   "metadata": {},
   "source": [
    "- we start wit the set named my_set contains some integers element .\n",
    "- we initilize a variable max_valu to none .this variable will be used to keep track of the maximum value foun do for .\n",
    "- we use a for loop to iterate through each element(num) in the my_set .\n",
    "- inside the loop we have conditional statements that check two conditions .\n",
    "- if max value is none , it means we are in the first iteration , so we update max_value with the current number(num).\n",
    "- if the current number (num) is grater than the max_value ,we update max_value with the current number(num).\n",
    "- After the loop completes, we print the maximum value that was found"
   ]
  },
  {
   "cell_type": "markdown",
   "id": "8fe02efd-b2f0-4f58-995c-d220f72719fa",
   "metadata": {},
   "source": [
    "### 39. Find the minimum value in a set."
   ]
  },
  {
   "cell_type": "code",
   "execution_count": 47,
   "id": "0b1deaf0-c25e-4e4a-bcc8-97464393960b",
   "metadata": {},
   "outputs": [
    {
     "name": "stdout",
     "output_type": "stream",
     "text": [
      "minimum value: 1\n"
     ]
    }
   ],
   "source": [
    "my_set = {1,5,9,9,95}\n",
    "\n",
    "minimum_value = None \n",
    "\n",
    "for num in my_set :\n",
    "    if minimum_value is None or num < minimum_value :\n",
    "        minimum_value = num\n",
    "print(\"minimum value:\",minimum_value)"
   ]
  },
  {
   "cell_type": "markdown",
   "id": "b5b68b48-0080-42ee-9252-c8e4cb2bac28",
   "metadata": {},
   "source": [
    "- we start wit the set named my_set contains some integers element .\n",
    "- we initilize a variable minimum_value to none .this variable will be used to keep track of the minimum value found for .\n",
    "- we use a for loop to iterate through each element(num) in the my_set .\n",
    "- inside the loop we have conditional statements that check two conditions .\n",
    "- if minmimum value is none , it means we are in the first iteration , so we update min_value with the current number(num).\n",
    "- if the current number (num) is less than the minimum_value ,we update minimum_value with the current number(num).\n",
    "- After the loop completes, we print the minimum value that was found"
   ]
  },
  {
   "cell_type": "markdown",
   "id": "8254b2b2-3966-4923-91f6-50ee99573055",
   "metadata": {},
   "source": [
    "### 40. Create a set from user input."
   ]
  },
  {
   "cell_type": "code",
   "execution_count": 48,
   "id": "033b01dd-f07c-4cdb-88ca-d48163708c73",
   "metadata": {},
   "outputs": [
    {
     "name": "stdout",
     "output_type": "stream",
     "text": [
      "Enter elements for the set (type 'done' to finish):\n"
     ]
    },
    {
     "name": "stdin",
     "output_type": "stream",
     "text": [
      ">  avneesh verma,aman verma\n",
      ">  finish\n",
      ">  done\n"
     ]
    },
    {
     "name": "stdout",
     "output_type": "stream",
     "text": [
      "Final set: {'finish', 'avneesh verma,aman verma'}\n"
     ]
    }
   ],
   "source": [
    "# Step 1: Initialize an empty set\n",
    "user_set = set()\n",
    "\n",
    "# Step 2: Get input from the user\n",
    "print(\"Enter elements for the set (type 'done' to finish):\")\n",
    "while True:\n",
    "    user_input = input(\"> \")  # Get input from the user\n",
    "\n",
    "    if user_input.lower() == 'done':\n",
    "        break  # Exit the loop if the user enters 'done'\n",
    "\n",
    "    # Step 3: Add the user input to the set\n",
    "    user_set.add(user_input)\n",
    "\n",
    "# Step 4: Display the final set created from user input\n",
    "print(\"Final set:\", user_set)"
   ]
  },
  {
   "cell_type": "markdown",
   "id": "b2e5b2a5-efe4-4b62-ae38-3c4602319baa",
   "metadata": {},
   "source": [
    "- We start by initializing an empty set called user_set.\n",
    "- We use a while loop to repeatedly get input from the user. The loop will continue until the user enters 'done'.\n",
    "- Inside the loop, we use the add method to add each user input to the user_set. The .lower() method is used to convert the input to lowercase so that the comparison is case-insensitive.\n",
    "- Once the user enters 'done', the loop is exited, and the code displays the final set that was created using the user inputs."
   ]
  },
  {
   "cell_type": "markdown",
   "id": "11e583ee-7419-45e0-a46b-36fce6a88120",
   "metadata": {},
   "source": [
    "### 41. Check if the intersection of two sets is empty."
   ]
  },
  {
   "cell_type": "code",
   "execution_count": 49,
   "id": "3d3bafe8-5437-4da8-b8a7-c30fd5c258ce",
   "metadata": {},
   "outputs": [
    {
     "name": "stdout",
     "output_type": "stream",
     "text": [
      "The intersection of the two sets is not empty.\n"
     ]
    }
   ],
   "source": [
    "# Step 1: Define two sets\n",
    "set1 = {1, 2, 3, 4, 5}\n",
    "set2 = {4, 5, 6, 7, 8}\n",
    "\n",
    "# Step 2: Find the intersection of the two sets using the `intersection()` method\n",
    "intersection_result = set1.intersection(set2)\n",
    "\n",
    "# Step 3: Check if the intersection result is empty\n",
    "if not intersection_result:\n",
    "    print(\"The intersection of the two sets is empty.\")\n",
    "else:\n",
    "    print(\"The intersection of the two sets is not empty.\")"
   ]
  },
  {
   "cell_type": "markdown",
   "id": "5dbbad41-6291-47b1-a580-15c03cce54a5",
   "metadata": {},
   "source": [
    "- We start by defining two sets, set1 and set2, with some example elements. You can replace these sets with your own sets if needed.\n",
    "- The intersection_result is obtained by using the intersection() method of the first set (set1). This method returns a new set containing elements that are present in both set1 and set2.\n",
    "- We then use an if statement to check if the intersection_result is empty. The condition if not intersection_result: checks if the set is empty. If the condition is true, it means the intersection is empty, and we print the corresponding message. If the condition is false, it means the intersection is not empty, and we print the corresponding message."
   ]
  },
  {
   "cell_type": "markdown",
   "id": "fd2a6b17-3aa0-44a9-a838-a33da638cef7",
   "metadata": {},
   "source": [
    "### 42. Create a set of the first 5 Fibonacci numbers."
   ]
  },
  {
   "cell_type": "code",
   "execution_count": 50,
   "id": "3ad52bd7-8ff9-443d-a70a-4274f921cc9d",
   "metadata": {},
   "outputs": [
    {
     "name": "stdout",
     "output_type": "stream",
     "text": [
      "Set of the first 5 Fibonacci numbers: {0, 1, 2, 3, 5}\n"
     ]
    }
   ],
   "source": [
    "# Create a set to store the first 5 Fibonacci numbers\n",
    "fibonacci_set = set()\n",
    "\n",
    "# Initialize the first two Fibonacci numbers\n",
    "a, b = 0, 1\n",
    "\n",
    "# Loop to generate the first 5 Fibonacci numbers\n",
    "for _ in range(6):\n",
    "    # Add the current Fibonacci number to the set\n",
    "    fibonacci_set.add(a)\n",
    "\n",
    "    # Calculate the next Fibonacci number\n",
    "    a, b = b, a + b\n",
    "\n",
    "# Print the set of Fibonacci numbers\n",
    "print(\"Set of the first 5 Fibonacci numbers:\", fibonacci_set)"
   ]
  },
  {
   "cell_type": "markdown",
   "id": "02306271-f7c3-4ef2-ba5f-1f44c787f842",
   "metadata": {},
   "source": [
    "- We create an empty set fibonacci_set to store the first 5 Fibonacci numbers.\n",
    "- We initialize two variables a and b to 0 and 1 respectively, as the first two Fibonacci numbers.\n",
    "- We use a for loop to generate the first 5 Fibonacci numbers. The loop iterates 5 times.\n",
    "- Inside the loop, we add the current value of a (which is a Fibonacci number) to the fibonacci_set.\n",
    "- We update the values of a and b to calculate the next Fibonacci number. This is done by swapping the values: a becomes b and b becomes the sum of the previous a and b.\n",
    "- Once the loop finishes, we print the set of the first 5 Fibonacci numbers."
   ]
  },
  {
   "cell_type": "markdown",
   "id": "66ccff05-3658-4411-9a13-62eeca36bc96",
   "metadata": {},
   "source": [
    "### 43. Remove duplicates from a list using sets."
   ]
  },
  {
   "cell_type": "code",
   "execution_count": 51,
   "id": "a317f937-0b93-4ce7-b20f-06162e56e89b",
   "metadata": {},
   "outputs": [
    {
     "name": "stdout",
     "output_type": "stream",
     "text": [
      "Original List: [2, 4, 6, 8, 4, 10, 6, 12, 14, 8]\n",
      "List with Duplicates Removed: [2, 4, 6, 8, 10, 12, 14]\n"
     ]
    }
   ],
   "source": [
    "# Step 1: Define a list with duplicates\n",
    "original_list = [2, 4, 6, 8, 4, 10, 6, 12, 14, 8]\n",
    "\n",
    "# Step 2: Convert the list to a set\n",
    "unique_set = set(original_list)\n",
    "# Now, 'unique_set' contains only unique elements from 'original_list'\n",
    "\n",
    "# Step 3: Convert the set back to a list\n",
    "unique_list = list(unique_set)\n",
    "# Now, 'unique_list' is a list containing only unique elements\n",
    "\n",
    "# Step 4: Print the original list and the list with duplicates removed\n",
    "print(\"Original List:\", original_list)\n",
    "print(\"List with Duplicates Removed:\", unique_list)"
   ]
  },
  {
   "cell_type": "markdown",
   "id": "db299eef-7e95-4510-b343-f32cfab34080",
   "metadata": {},
   "source": [
    "- We start by defining an original_list that contains duplicate elements.\n",
    "- We use the set() function to convert the original_list into a set. Sets are collections that automatically remove duplicate elements, so this step effectively removes duplicates from the list. The variable unique_set now contains only the unique elements from the original list.\n",
    "- We convert the unique_set back into a list using the list() function. This step is necessary if you need the final result as a list.\n",
    "- Finally, we print both the original list and the list with duplicates removed to see the difference."
   ]
  },
  {
   "cell_type": "markdown",
   "id": "02d2259e-bb1d-4703-abea-13939eec69a6",
   "metadata": {},
   "source": [
    "### 44. Check if two sets have the same elements, regardless of their count."
   ]
  },
  {
   "cell_type": "code",
   "execution_count": 52,
   "id": "3cbe960b-9830-4f76-a989-723dd228921e",
   "metadata": {},
   "outputs": [
    {
     "name": "stdout",
     "output_type": "stream",
     "text": [
      "The sets have the same elements.\n"
     ]
    }
   ],
   "source": [
    "def have_same_elements(set1, set2):\n",
    "    # Convert the sets to lists and sort them\n",
    "    sorted_list1 = sorted(list(set1))\n",
    "    sorted_list2 = sorted(list(set2))\n",
    "\n",
    "    # Compare the sorted lists to check if they are equal\n",
    "    return sorted_list1 == sorted_list2\n",
    "\n",
    "# Example sets\n",
    "set1 = {1, 2, 3, 2, 1}\n",
    "set2 = {3, 1, 2}\n",
    "\n",
    "# Check if the sets have the same elements\n",
    "result = have_same_elements(set1, set2)\n",
    "\n",
    "# Print the result\n",
    "if result:\n",
    "    print(\"The sets have the same elements.\")\n",
    "else:\n",
    "    print(\"The sets do not have the same elements.\")"
   ]
  },
  {
   "cell_type": "markdown",
   "id": "23d7b8f4-a377-4846-83dc-ea6bb144f62c",
   "metadata": {},
   "source": [
    "- We define a function have_same_elements that takes two sets (set1 and set2) as its arguments.\n",
    "- Inside the function:\n",
    "- We convert the sets to lists using list(set1) and list(set2) to make them sortable.\n",
    "- We then sort both lists using the sorted function to ensure that the order of elements doesn't matter.\n",
    "- We use the equality operator == to compare the sorted lists sorted_list1 and sorted_list2.\n",
    "- The function returns True if the sorted lists are equal, indicating that the sets have the same elements (regardless of their count), and False otherwise.\n",
    "- We define example sets set1 and set2 with elements that are the same but might be in different orders or have different counts.\n",
    "- We call the have_same_elements function with set1 and set2 as arguments and store the result in the result variable.\n",
    "- Finally, we print a message based on the value of result, indicating whether the sets have the same elements or not."
   ]
  },
  {
   "cell_type": "markdown",
   "id": "4287829b-e116-4013-9cba-52bdc2ede769",
   "metadata": {},
   "source": [
    "### 45. Create a set of the first `n` powers of 2"
   ]
  },
  {
   "cell_type": "code",
   "execution_count": 53,
   "id": "4b9fb791-4377-46ab-b28d-7fcc2efca85e",
   "metadata": {},
   "outputs": [
    {
     "name": "stdout",
     "output_type": "stream",
     "text": [
      "{1, 2, 4, 8, 16}\n"
     ]
    }
   ],
   "source": [
    "def generate_powers_of_2(n):\n",
    "    # Initialize an empty set to store the powers of 2\n",
    "    powers_of_2 = set()\n",
    "\n",
    "    # Loop from 0 to n-1\n",
    "    for i in range(n):\n",
    "        # Calculate the current power of 2 using the exponentiation operator **\n",
    "        power = 2 ** i\n",
    "\n",
    "        # Add the current power of 2 to the set\n",
    "        powers_of_2.add(power)\n",
    "\n",
    "    # Return the set of powers of 2\n",
    "    return powers_of_2\n",
    "\n",
    "# Define the value of n\n",
    "n = 5\n",
    "\n",
    "# Call the function to generate the set of powers of 2\n",
    "powers_set = generate_powers_of_2(n)\n",
    "\n",
    "# Print the resulting set\n",
    "print(powers_set)"
   ]
  },
  {
   "cell_type": "markdown",
   "id": "27e9df6d-aa55-4601-a428-d6d04a5c45ed",
   "metadata": {},
   "source": [
    "- We define a function generate_powers_of_2 that takes an argument n, which represents the number of powers of 2 to generate.\n",
    "- Inside the function, we initialize an empty set powers_of_2 to store the powers of 2.\n",
    "- We use a for loop to iterate from 0 to n-1. In each iteration, we calculate the current power of 2 using the exponentiation operator **, where the exponent is i.\n",
    "- The calculated power of 2 is added to the powers_of_2 set using the add() method.\n",
    "- Once the loop is finished, the function returns the set powers_of_2 containing the generated powers of 2.\n",
    "- Outside the function, we define the value of n as 5 (you can change this value to generate a different number of powers).\n",
    "- We call the generate_powers_of_2 function with the value of n and store the resulting set in the powers_set variable.\n",
    "- Finally, we print the powers_set to see the set of the first n powers of 2."
   ]
  },
  {
   "cell_type": "markdown",
   "id": "59a60a88-2251-4a57-b345-956b484f6c4e",
   "metadata": {},
   "source": [
    "### 46. Find the common elements between a set and a list."
   ]
  },
  {
   "cell_type": "code",
   "execution_count": 54,
   "id": "d3f46848-0ff6-481c-a483-939d27006973",
   "metadata": {},
   "outputs": [
    {
     "name": "stdout",
     "output_type": "stream",
     "text": [
      "Common elements: [7, 9, 12]\n"
     ]
    }
   ],
   "source": [
    "# Step 1: Define a set and a list\n",
    "my_set = {3, 7, 9, 12, 15}\n",
    "my_list = [7, 12, 5, 9]\n",
    "\n",
    "# Step 2: Convert the list to a set for efficient comparison\n",
    "list_to_set = set(my_list)\n",
    "\n",
    "# Step 3: Initialize an empty list to store common elements\n",
    "common_elements = []\n",
    "\n",
    "# Step 4: Iterate through the elements in the set\n",
    "for element in my_set:\n",
    "    # Step 5: Check if the element is present in the converted set (list_to_set)\n",
    "    if element in list_to_set:\n",
    "        # Step 6: If the element is present in both the set and the list, add it to the common_elements list\n",
    "        common_elements.append(element)\n",
    "\n",
    "# Step 7: Print the common elements\n",
    "print(\"Common elements:\", common_elements)"
   ]
  },
  {
   "cell_type": "markdown",
   "id": "d338ac82-33a1-448f-9f9a-25edcdfdb2c5",
   "metadata": {},
   "source": [
    "- We start by defining a set named my_set and a list named my_list that contain some elements.\n",
    "- To efficiently compare the elements, we convert the list to a set using the set() constructor. This step helps in faster membership testing.\n",
    "- We create an empty list called common_elements where we will store the elements that are common between the set and the list.\n",
    "- We start iterating through the elements in the set using a for loop.\n",
    "- Inside the loop, we check if the current element is present in the converted set (list_to_set) using the element in list_to_set syntax.\n",
    "- If the element is found in both the set and the list, we append it to the common_elements list.\n",
    "- After the loop is complete, we print the common_elements list which contains the common elements between the set and the list."
   ]
  },
  {
   "cell_type": "markdown",
   "id": "5c5b81f5-f8d8-4921-a149-0fd3eb646d52",
   "metadata": {},
   "source": [
    "### 47. Create a set of the first `n` triangular numbers.:\n",
    "\n",
    "Triangular numbers are a sequence of numbers that represent the number of dots in a triangular arrangement. The sequence starts with 1 and then each subsequent number is obtained by adding the next natural number.\n",
    "\n",
    "Mathematically, the $n^{th}$ triangular number, denoted as $T_n$, is given by the formula:\n",
    "\n",
    "$T_n$ $=$ $1+2+3+...+n=\\frac {n*(n + 1)}{2}$\n",
    "\n",
    "Visually, you can imagine triangular numbers by arranging dots in the shape of equilateral triangles:\n",
    "\n",
    "```\n",
    "   1       1 dot\n",
    "   1 1      3 dots\n",
    "   1 2 1     6 dots\n",
    "   1 2 3 1   10 dots\n",
    "```"
   ]
  },
  {
   "cell_type": "code",
   "execution_count": 55,
   "id": "608a97ec-e6f9-4d74-a5c0-23e8ba4247d8",
   "metadata": {},
   "outputs": [
    {
     "name": "stdin",
     "output_type": "stream",
     "text": [
      "Enter the value of n:  10\n"
     ]
    },
    {
     "name": "stdout",
     "output_type": "stream",
     "text": [
      "The set of the first 10 triangular numbers is: {1, 3, 36, 6, 10, 45, 15, 21, 55, 28}\n"
     ]
    }
   ],
   "source": [
    "def generate_triangular_numbers(n):\n",
    "    triangular_numbers = set()  # Create an empty set to store the triangular numbers\n",
    "    for i in range(1, n + 1):\n",
    "        triangular_number = i * (i + 1) // 2  # Calculate the ith triangular number using the formula\n",
    "        triangular_numbers.add(triangular_number)  # Add the calculated triangular number to the set\n",
    "    return triangular_numbers\n",
    "\n",
    "# Input the value of 'n'\n",
    "n = int(input(\"Enter the value of n: \"))\n",
    "\n",
    "# Call the function to generate the set of first 'n' triangular numbers\n",
    "triangular_set = generate_triangular_numbers(n)\n",
    "\n",
    "# Display the set of triangular numbers\n",
    "print(f\"The set of the first {n} triangular numbers is:\", triangular_set)"
   ]
  },
  {
   "cell_type": "markdown",
   "id": "51a3ccc5-0685-426e-9161-7296e1ff4919",
   "metadata": {},
   "source": [
    "- We define a function generate_triangular_numbers(n) that takes an integer n as input and returns a set of the first n triangular numbers.\n",
    "- Inside the function, we create an empty set called triangular_numbers to store the generated triangular numbers.\n",
    "- We use a for loop that iterates over the range from 1 to n + 1 (inclusive).  This ensures that we generate n triangular numbers.\n",
    "- Within the loop, we calculate the ith triangular number using the formula i * (i + 1) // 2. The // operator performs integer division.\n",
    "- We add the calculated triangular number to the set using the add() method.\n",
    "- After the loop completes, the function returns the set of triangular numbers.\n",
    "- We ask the user to input the value of n.\n",
    "- We call the generate_triangular_numbers(n) function with the input n to generate the set of triangular numbers.\n",
    "- Finally, we print the generated set of triangular numbers using a formatted string"
   ]
  },
  {
   "cell_type": "markdown",
   "id": "f80fcc28-6bca-41d9-9c0a-cb7af8b63c04",
   "metadata": {},
   "source": [
    "### 48. Check if a set contains another set as a subset."
   ]
  },
  {
   "cell_type": "code",
   "execution_count": 56,
   "id": "a09f630e-d2ec-4674-813d-78b8a184bcde",
   "metadata": {},
   "outputs": [
    {
     "name": "stdout",
     "output_type": "stream",
     "text": [
      "set2 is a subset of set1\n"
     ]
    }
   ],
   "source": [
    "# Define two sets\n",
    "set1 = {1, 2, 3, 4, 5}\n",
    "set2 = {3, 4}\n",
    "\n",
    "# Check if set2 is a subset of set1\n",
    "is_subset = set2.issubset(set1)\n",
    "\n",
    "# Print the result\n",
    "if is_subset:\n",
    "    print(\"set2 is a subset of set1\")\n",
    "else:\n",
    "    print(\"set2 is not a subset of set1\")"
   ]
  },
  {
   "cell_type": "markdown",
   "id": "7bd24be8-1968-4a50-9cea-dd3263ed9084",
   "metadata": {},
   "source": [
    "- We start by defining two sets: set1 and set2. In this example, set1 contains elements {1, 2, 3, 4, 5} and set2 contains elements {3, 4}.\n",
    "- We use the issubset() method to check if set2 is a subset of set1. The method returns True if set2 is indeed a subset of set1, and False otherwise.\n",
    "- We store the result of the subset check in the variable is_subset.\n",
    "- Finally, we use an if statement to print out whether set2 is a subset of set1 or not, based on the value of the is_subset variable."
   ]
  },
  {
   "cell_type": "markdown",
   "id": "936eade1-5aa3-44f1-a4b7-61dd5e126e48",
   "metadata": {},
   "source": [
    "### 49. Create a set of alternating 1s and 0s of length `n`."
   ]
  },
  {
   "cell_type": "code",
   "execution_count": 57,
   "id": "63cdef8d-2f40-426a-83f1-13a764a44ce2",
   "metadata": {},
   "outputs": [
    {
     "name": "stdout",
     "output_type": "stream",
     "text": [
      "{0, 1}\n"
     ]
    }
   ],
   "source": [
    "def create_alternating_set(n):\n",
    "    # Initialize an empty set to store the alternating sequence.\n",
    "    alternating_set = set()\n",
    "\n",
    "    # Loop to generate alternating 1s and 0s.\n",
    "    for i in range(n):\n",
    "        # Alternate between adding 1 and 0 to the set based on whether i is even or odd.\n",
    "        if i % 2 == 0:\n",
    "            alternating_set.add(1)  # Add 1 if i is even.\n",
    "        else:\n",
    "            alternating_set.add(0)  # Add 0 if i is odd.\n",
    "\n",
    "    return alternating_set\n",
    "\n",
    "# Define the desired length of the alternating set.\n",
    "length_n = 10\n",
    "\n",
    "# Call the function to create the alternating set of length 'length_n'.\n",
    "result = create_alternating_set(length_n)\n",
    "\n",
    "# Print the resulting set.\n",
    "print(result)"
   ]
  },
  {
   "cell_type": "markdown",
   "id": "63761ee5-6003-4d19-aaab-6a59c5eb0b6c",
   "metadata": {},
   "source": [
    "- We define a function create_alternating_set(n) that takes an integer n as input, which represents the desired length of the alternating set.\n",
    "- Inside the function, we initialize an empty set named alternating_set to store the alternating sequence of 1s and 0s.\n",
    "- We use a loop that iterates from 0 to n-1, generating the alternating sequence.\n",
    "- Inside the loop, we check whether the current value of i is even or odd using the modulus operator (i % 2).\n",
    "- If i is even (remainder is 0 when divided by 2), we add 1 to the set since we want to alternate with 1s.\n",
    "- If i is odd (remainder is 1 when divided by 2), we add 0 to the set.\n",
    "- After the loop completes, the function returns the alternating_set.\n",
    "- Outside the function, we define the desired length of the alternating set (length_n).\n",
    "- We call the create_alternating_set() function with length_n as an argument and store the result in the variable result.\n",
    "- Finally, we print the resulting set using the print() function."
   ]
  },
  {
   "cell_type": "markdown",
   "id": "4d7b8aa1-d04d-4852-844a-5daab80fe08c",
   "metadata": {},
   "source": [
    "### 50. Merge multiple sets into one."
   ]
  },
  {
   "cell_type": "code",
   "execution_count": 58,
   "id": "bbabf593-44dd-4093-a05c-5dd2e3f42ce3",
   "metadata": {},
   "outputs": [
    {
     "name": "stdout",
     "output_type": "stream",
     "text": [
      "Merged Set: {1, 2, 3, 4, 5, 6, 7}\n"
     ]
    }
   ],
   "source": [
    "# Step 1: Create multiple sets\n",
    "set1 = {1, 2, 3}\n",
    "set2 = {3, 4, 5}\n",
    "set3 = {5, 6, 7}\n",
    "\n",
    "# Step 2: Use the union() method to merge sets\n",
    "merged_set = set1.union(set2, set3)\n",
    "\n",
    "# Alternatively, you can use the | operator\n",
    "# merged_set = set1 | set2 | set3\n",
    "\n",
    "# Step 3: Print the merged set\n",
    "print(\"Merged Set:\", merged_set)"
   ]
  },
  {
   "cell_type": "markdown",
   "id": "ed78393a-b857-40eb-9c12-7d88bd0ac062",
   "metadata": {},
   "source": [
    "- We start by creating three sets set1, set2, and set3 containing different elements.\n",
    "- The union() method is used to combine the elements from all the sets into a new set, which is stored in the merged_set variable.\n",
    "- Alternatively, you can use the | operator to achieve the same result. This operator performs a union operation on sets.\n",
    "- Finally, we print the contents of the merged_set, which now contains all the unique elements from the original sets."
   ]
  },
  {
   "cell_type": "code",
   "execution_count": null,
   "id": "e3c36dfc-49b5-4f61-8f08-9e8378d79fa7",
   "metadata": {},
   "outputs": [],
   "source": []
  }
 ],
 "metadata": {
  "kernelspec": {
   "display_name": "Python 3 (ipykernel)",
   "language": "python",
   "name": "python3"
  },
  "language_info": {
   "codemirror_mode": {
    "name": "ipython",
    "version": 3
   },
   "file_extension": ".py",
   "mimetype": "text/x-python",
   "name": "python",
   "nbconvert_exporter": "python",
   "pygments_lexer": "ipython3",
   "version": "3.10.8"
  }
 },
 "nbformat": 4,
 "nbformat_minor": 5
}
